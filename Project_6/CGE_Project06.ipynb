{
 "cells": [
  {
   "cell_type": "code",
   "execution_count": 1,
   "metadata": {
    "collapsed": false
   },
   "outputs": [
    {
     "data": {
      "text/plain": [
       "u'/Users/christophereppig/DSI-CHI-1'"
      ]
     },
     "execution_count": 1,
     "metadata": {},
     "output_type": "execute_result"
    }
   ],
   "source": [
    "%pwd"
   ]
  },
  {
   "cell_type": "code",
   "execution_count": 113,
   "metadata": {
    "collapsed": true
   },
   "outputs": [],
   "source": [
    "from imdbpie import Imdb\n",
    "import pandas as pd\n",
    "import numpy as np\n",
    "import requests\n",
    "import matplotlib.pyplot as plt\n",
    "import csv\n",
    "from sklearn.feature_extraction.text import CountVectorizer\n",
    "from nltk import ngrams\n",
    "from nltk.stem import PorterStemmer\n",
    "from nltk.corpus import stopwords\n",
    "import string\n",
    "import seaborn as sbn\n",
    "from sklearn.feature_extraction.text import TfidfVectorizer\n",
    "from sklearn.linear_model import LogisticRegression\n",
    "from sklearn.preprocessing import LabelEncoder\n",
    "from sklearn.cross_validation import train_test_split \n",
    "from sklearn.preprocessing import StandardScaler\n",
    "from sklearn.neighbors import KNeighborsClassifier\n",
    "from sklearn.cross_validation import cross_val_score, StratifiedKFold\n",
    "from sklearn.tree import DecisionTreeClassifier\n",
    "from sklearn.ensemble import RandomForestClassifier, ExtraTreesClassifier, BaggingClassifier\n",
    "from sklearn.linear_model import LogisticRegression\n",
    "from sklearn.metrics import confusion_matrix, classification_report\n",
    "from sklearn.linear_model import Ridge, Lasso\n",
    "from sklearn.grid_search import GridSearchCV\n",
    "from sklearn.externals.six import StringIO\n",
    "from sklearn.tree import export_graphviz\n",
    "import pydot\n",
    "from IPython.display import Image\n",
    "%matplotlib inline"
   ]
  },
  {
   "cell_type": "markdown",
   "metadata": {},
   "source": [
    "#### I moved the csv import here to make the rest of the notebook have better organization, even though this csv isn't created until later in the notebook."
   ]
  },
  {
   "cell_type": "code",
   "execution_count": 11,
   "metadata": {
    "collapsed": true
   },
   "outputs": [],
   "source": [
    "movies = pd.read_csv('~/Datasets/movies.csv')"
   ]
  },
  {
   "cell_type": "markdown",
   "metadata": {},
   "source": [
    "## I downloaded all of my data in another notebook. Here is the code I used:"
   ]
  },
  {
   "cell_type": "markdown",
   "metadata": {},
   "source": [
    "### Acquiring data:"
   ]
  },
  {
   "cell_type": "code",
   "execution_count": 3,
   "metadata": {
    "collapsed": true
   },
   "outputs": [],
   "source": [
    "# imdb = Imdb()\n",
    "# top = imdb.top_250()"
   ]
  },
  {
   "cell_type": "code",
   "execution_count": 4,
   "metadata": {
    "collapsed": true
   },
   "outputs": [],
   "source": [
    "# year_temp = []\n",
    "# title_temp = []\n",
    "# rating_temp = []\n",
    "# tconst_temp = []\n",
    "# type_temp = []\n",
    "\n",
    "# for i in top:\n",
    "#     title_temp.append(i['title'])\n",
    "#     year_temp.append(i['year'])\n",
    "#     rating_temp.append(i['rating'])\n",
    "#     tconst_temp.append(i['tconst'])\n",
    "#     type_temp.append(i['type'])    \n",
    "    \n",
    "# titles = {\"titles\":title_temp}\n",
    "# years = {\"year\":year_temp}\n",
    "# ratings = {\"ratings\":rating_temp}\n",
    "# types = {\"type\":type_temp}\n",
    "# tconst = {'tconst' : tconst_temp}\n",
    "\n",
    "\n",
    "# topdf['rating'] = pd.DataFrame(ratings)\n",
    "# topdf['titles'] = pd.DataFrame(titles)\n",
    "# topdf['year'] = pd.DataFrame(years)\n",
    "# topdf['tconst'] = pd.DataFrame(tconst)\n",
    "# topdf['type'] = pd.DataFrame(types)"
   ]
  },
  {
   "cell_type": "code",
   "execution_count": 5,
   "metadata": {
    "collapsed": true
   },
   "outputs": [],
   "source": [
    "# topdf = pd.DataFrame(titles)"
   ]
  },
  {
   "cell_type": "markdown",
   "metadata": {},
   "source": [
    "### In addition to the IMDB top 250, I added another 251 movies for comparison"
   ]
  },
  {
   "cell_type": "code",
   "execution_count": 6,
   "metadata": {
    "collapsed": true
   },
   "outputs": [],
   "source": [
    "# titles = ['Code Name: K.O.Z.', \"Laser Mission\", 'Saving Christmas', \"Ultraviolet\",\n",
    "# 'Superbabies: Baby Geniuses 2', 'Daniel the Wizard', 'Manos: Hands of Fate',\n",
    "# 'Pledge This!', 'Turks in Space', 'Birdemic: Shock and Terror', 'Titanic: The Legend Goes On...',\n",
    "# 'Dream.net', 'Zombie Nation', 'Disaster Movie',\n",
    "# 'Foodfight!', 'The Hottie & the Nottie', \"A Fox's Tale\", \"Ram Gopal Varma's Indian Flames\",\n",
    "# \"Keloglan vs. the Black Prince\", \"Ben & Arthur\", \"Going Overboard\", \"Yes Sir\", \"Attack of the Jurassic Shark\",\n",
    "# \"The Legend of the Titanic\", \"Kartoffelsalat\", \"House of the Dead\",\n",
    "# \"Himmatwala\", \"Who's Your Caddy?\", \"Birdemic 2: The Resurrection\", \"Hobgoblins\",\n",
    "# \"Son of the Mask\", \"Crossover\", \"Doublegangers\", \"Space Mutiny\",\n",
    "# \"Night Train to Mundo Fine\", \"Extra Terrestrial Visitors\", \"The Wild World of Batwoman\", \n",
    "# \"Surf School\", \"Dracula 3000\", \"Epic Movie\", \"Alone in the Dark\", \"Final Justice\", \n",
    "# \"The Starfighters\", \"Die Hard Dracula\", \"Too Beautiful\", \"Anne B. Real\", \"The Pumaman\", \n",
    "# \"Track of the Moon Beast\", \"Battlefield Earth\", \"Girl in Gold Boots\", \"United Passions\", \n",
    "# \"Invasion of the Neptune Men\", \n",
    "# \"Dark Harvest II: The Maize\", \"Chairman of the Board\", \"The Skydivers\", \"The Class\", \"Lawnmower Man 2: Beyond Cyberspace\", \n",
    "# \"Baby Geniuses\", \"Kyaa Kool Hain Hum 3\", \"The Oogieloves in the Big Balloon Adventure\", \n",
    "# \"The Touch of Satan\", \"The Blade Master\", \"Soultaker\", \"Prince of Space\", \"Simon Sez\", \"Tees Maar Khan\",\n",
    "# \"Santa with Muscles\", \"Zombie Nightmare\", \"Boggy Creek II: And the Legend Continues\", \"Car 54, Where Are You?\", \"A Story About Love\", \n",
    "# \"Fat Slags\", \"Santa Claus\", \"Breaking Wind\", \"Mitchell\", \"Body in the Web\", \"Ed\", \"The Aztec Mummy Against the Humanoid Robot\",\n",
    "# \"Laserblast\", \"Dragonball: Evolution\", \"Meet the Spartans\", \"I Accuse My Parents\", \"Devil Fish\", \"Survival Island\", \n",
    "# \"Theodore Rex\", \"Time Chasers\", \"It's Pat\", \"Warrior of the Lost World\", \"Troll 2\", \"The Bat People\", \"Date Movie\", \n",
    "# \"Ghosts Can't Do It\", \"The 13th Warrior\", \"47 Ronin\", \"The Adventures of Baron Munchausen\", \"The Adventures of Pluto Nash\",\n",
    "# \"The Adventures of Rocky & Bullwinkle\", \"The Alamo\", \"Alexander\", \"Ali\", \"Aloha\", \"Around the World in 80 Days\", \n",
    "# \"The Astronaut's Wife\", \"Ballistic: Ecks vs. Sever\", \"Battlefield Earth\", \"Battleship\", \"Beloved\", \"Blackhat\", \n",
    "# \"The Bonfire of the Vanities\", \"Catwoman\", \"Chill Factor\", \"The Chronicles of Riddick\", \"Conan the Barbarian\", \n",
    "# \"The Cotton Club\", \"Cowboys & Aliens\", \"Cutthroat Island\", \"Doctor Dolittle\", \"Driven\", \"Dudley Do-Right\", \n",
    "# \"Ender's Game\", \"Evan Almighty\", \"The Fall of the Roman Empire\", \"Fantastic Four\", \"Fathers' Day\", \"Final Fantasy: The Spirits Within\",\n",
    "# \"The Finest Hours\", \"Gods and Generals\", \"Gods of Egypt\", \"The Good Dinosaur\", \"The Great Raid\", \"Green Lantern\", \n",
    "# \"Happy Feet Two\", \"Hard Rain\", \"Hart's War\", \"Hello, Dolly!\", \"Honky Tonk Freeway\", \"How Do You Know\", \n",
    "# \"Hudson Hawk\", \"Hugo\", \"Instinct\", \"The Invasion\", \"Ishtar\", \"Jack Frost\", \"Jack the Giant Slayer\", \"John Carter\", \n",
    "# \"Jupiter Ascending\", \"K-19: The Widowmaker\", \"Krull\", \"Land of the Lost\", \"The Last Castle\", \"Legends of Oz: Dorothy's Return\", \n",
    "# \"Lolita\", \"The Lone Ranger\", \"The Lovely Bones\", \"Lucky You\", \"The Man from U.N.C.L.E.\", \"Mars Needs Moms\", \"Monkeybone\", \n",
    "# \"Mr. Peabody & Sherman\", \"Nine\", \"The Nutcracker in 3D\", \"One from the Heart\", \"Osmosis Jones\", \"Pan\", \"Peter Pan\", \n",
    "# \"Pixels\", \"Poseidon\", \"The Postman\", \"R.I.P.D.\", \"Red Planet\", \"Revolution\", \"Rise of the Guardians\", \"Rollerball\", \n",
    "# \"Rush Hour 3\", \"Sahara\", \"Seventh Son\", \"Soldier\", \"A Sound of Thunder\", \"Speed Racer\", \"Sphere\", \"Stealth\", \"Supernova\", \n",
    "# \"Titan A.E.\", \"Tomorrowland\", \"Town & Country\", \"Treasure Planet\", \"Windtalkers\", \"The Wolfman\", \"xXx: State of the Union\", \n",
    "# \"Zoom\", \"Reefer Madness\", \"No Orchids for Miss Blandish\", \"The Babe Ruth Story\", \"Glen or Glenda\", \"Robot Monster\", \n",
    "# \"Bride of the Monster\", \"The Conqueror\", \"Fire Maidens from Outer Space \", \"Plan 9 from Outer Space\", \"The Beast of Yucca Flats\", \n",
    "# \"Eegah\", \"The Creeping Terror\", \"The Horror of Party Beach\", \"The Incredibly Strange Creatures\", \"Santa Claus Conquers the Martians\", \n",
    "# \"Monster a Go-Go!\", \"A Place for Lovers\", \"Myra Breckinridge\", \"Zabriskie Point\", \"Zaat\", \"An American Hippie in Israel\", \"At Long Last Love\", \n",
    "# \"Exorcist II: The Heretic\", \"The Swarm\", \"I Spit on Your Grave\", \"Caligula\", \"Heaven's Gate\", \"The Apple\", \"Inchon\", \n",
    "# \"Tarzan, the Ape Man\", \"Mommie Dearest\", \"Howard the Duck\", \"Superman IV: The Quest for Peace\", \"The Garbage Pail Kids Movie\", \n",
    "# \"Leonard Part 6\", \"Mac and Me\", \"Things\", \"Highlander 2: The Quickening\", \"Intensive Care\", \"Frozen Assets\", \"North\", \n",
    "# \"Showgirls\", \"Striptease\", \"Batman & Robin\", \"The Avengers\", \"Parting Shots\", \"The Underground Comedy Movie\", \n",
    "# \"Battlefield Earth\", \"Honest\", \"Rancid Aluminium\", \"Freddy Got Fingered\", \"Glitter\", \"The Master of Disguise\", \n",
    "# \"From Justin to Kelly\", \"The Room\", \"Gigli\", \"Sex Lives of the Potato Men\", \"Alone in the Dark\", \"The Last Airbender\", \n",
    "# \"Jack and Jill\", \"That's My Boy\", \"Run for Your Wife\", \"Movie 43\"\n",
    "# ]"
   ]
  },
  {
   "cell_type": "code",
   "execution_count": 7,
   "metadata": {
    "collapsed": true
   },
   "outputs": [],
   "source": [
    "# tconsts = []\n",
    "# for i in titles:\n",
    "#     tconsts.append(imdb.search_for_title(i)[0]['imdb_id'])\n",
    "    \n",
    "# titledic = {'title' : titles}\n",
    "# tconstdic = {'tconst': tconsts}\n",
    "\n",
    "# bottom_100 = pd.DataFrame(tconstdic)\n",
    "# bottom_100['title'] = pd.DataFrame(titledic)\n",
    "# bottom_100.columns = ['tconst', 'titles']\n",
    "# movies = pd.concat([topdf, bottom_100])"
   ]
  },
  {
   "cell_type": "markdown",
   "metadata": {},
   "source": [
    "### Adding additional features with IMDBpie"
   ]
  },
  {
   "cell_type": "code",
   "execution_count": 8,
   "metadata": {
    "collapsed": true
   },
   "outputs": [],
   "source": [
    "# movies['genres'] = movies['tconst'].apply(lambda x: imdb.get_title_by_id(x).genres)\n",
    "# movies['runtime'] = movies['tconst'].apply(lambda x: imdb.get_title_by_id(x).runtime)\n",
    "# movies['certification'] = movies['tconst'].apply(lambda x: imdb.get_title_by_id(x).certification)\n",
    "# movies['plot'] = movies['tconst'].apply(lambda x: imdb.get_title_by_id(x).plots)\n",
    "# movies['year'] = movies['tconst'].apply(lambda x: imdb.get_title_by_id(x).year)\n",
    "# movies['tagline'] = movies['tconst'].apply(lambda x: imdb.get_title_by_id(x).tagline)\n",
    "# movies['rating'] = movies['tconst'].apply(lambda x: imdb.get_title_by_id(x).rating)\n",
    "# movies['type'] = movies['tconst'].apply(lambda x: imdb.get_title_by_id(x).type)"
   ]
  },
  {
   "cell_type": "markdown",
   "metadata": {},
   "source": [
    "### Adding additional features by transformation"
   ]
  },
  {
   "cell_type": "code",
   "execution_count": 9,
   "metadata": {
    "collapsed": true
   },
   "outputs": [],
   "source": [
    "# movies['ngenres'] = movies['genres'].apply(len)\n",
    "\n",
    "# movies['isCrime'] = movies['genres'].apply(lambda x: 1 if 'Crime' in x else 0)\n",
    "\n",
    "# genre_classes = [\"Romance\", \"Thriller\", \"History\", \"Biography\", \"Adventure\", \"Fantasy\", \"Western\", \n",
    "#                 \"Sci-Fi\", \"Family\", \"War\", \"Animation\", \"Horror\", \"Sport\", \"Mystery\", \"Music\", \n",
    "#                 \"Drama\", \"Comedy\", \"Action\"]\n",
    "# for i in genre_classes:\n",
    "#     movies['is'+i] = movies['genres'].apply(lambda x: 1 if i in x else 0)\n",
    "    \n",
    "\n",
    "# movies['isGood'] = movies['rating'].apply(lambda x: 1 if x >= 8 else 0)"
   ]
  },
  {
   "cell_type": "code",
   "execution_count": 27,
   "metadata": {
    "collapsed": false
   },
   "outputs": [],
   "source": [
    "movies['R'] = movies['certification'].apply(lambda x: 1 if x == \"R\" else 0)\n",
    "movies['PG-13'] = movies['certification'].apply(lambda x: 1 if x == \"PG-13\" else 0)\n",
    "movies['PG'] = movies['certification'].apply(lambda x: 1 if x == \"PG\" else 0)\n",
    "movies['G'] = movies['certification'].apply(lambda x: 1 if x == \"G\" else 0)"
   ]
  },
  {
   "cell_type": "markdown",
   "metadata": {},
   "source": [
    "### Exported data as .csv"
   ]
  },
  {
   "cell_type": "code",
   "execution_count": 10,
   "metadata": {
    "collapsed": true
   },
   "outputs": [],
   "source": [
    "# movies.to_csv(\"~/Datasets/movies.csv\", encoding='utf-8')"
   ]
  },
  {
   "cell_type": "markdown",
   "metadata": {},
   "source": [
    "## Exploratory Analysis"
   ]
  },
  {
   "cell_type": "code",
   "execution_count": 12,
   "metadata": {
    "collapsed": false
   },
   "outputs": [
    {
     "data": {
      "text/html": [
       "<div>\n",
       "<table border=\"1\" class=\"dataframe\">\n",
       "  <thead>\n",
       "    <tr style=\"text-align: right;\">\n",
       "      <th></th>\n",
       "      <th>Unnamed: 0</th>\n",
       "      <th>genres</th>\n",
       "      <th>rating</th>\n",
       "      <th>tconst</th>\n",
       "      <th>titles</th>\n",
       "      <th>type</th>\n",
       "      <th>year</th>\n",
       "      <th>runtime</th>\n",
       "      <th>certification</th>\n",
       "      <th>plot</th>\n",
       "      <th>...</th>\n",
       "      <th>isWar</th>\n",
       "      <th>isAnimation</th>\n",
       "      <th>isHorror</th>\n",
       "      <th>isSport</th>\n",
       "      <th>isMystery</th>\n",
       "      <th>isMusic</th>\n",
       "      <th>isDrama</th>\n",
       "      <th>isComedy</th>\n",
       "      <th>isAction</th>\n",
       "      <th>isGood</th>\n",
       "    </tr>\n",
       "  </thead>\n",
       "  <tbody>\n",
       "    <tr>\n",
       "      <th>0</th>\n",
       "      <td>0</td>\n",
       "      <td>[Crime, Drama]</td>\n",
       "      <td>9.3</td>\n",
       "      <td>tt0111161</td>\n",
       "      <td>The Shawshank Redemption</td>\n",
       "      <td>feature</td>\n",
       "      <td>1994</td>\n",
       "      <td>8520.0</td>\n",
       "      <td>R</td>\n",
       "      <td>[Chronicles the experiences of a formerly succ...</td>\n",
       "      <td>...</td>\n",
       "      <td>0</td>\n",
       "      <td>0</td>\n",
       "      <td>0</td>\n",
       "      <td>0</td>\n",
       "      <td>0</td>\n",
       "      <td>0</td>\n",
       "      <td>1</td>\n",
       "      <td>0</td>\n",
       "      <td>0</td>\n",
       "      <td>1</td>\n",
       "    </tr>\n",
       "    <tr>\n",
       "      <th>1</th>\n",
       "      <td>1</td>\n",
       "      <td>[Crime, Drama]</td>\n",
       "      <td>9.2</td>\n",
       "      <td>tt0068646</td>\n",
       "      <td>The Godfather</td>\n",
       "      <td>feature</td>\n",
       "      <td>1972</td>\n",
       "      <td>10500.0</td>\n",
       "      <td>R</td>\n",
       "      <td>[When the aging head of a famous crime family ...</td>\n",
       "      <td>...</td>\n",
       "      <td>0</td>\n",
       "      <td>0</td>\n",
       "      <td>0</td>\n",
       "      <td>0</td>\n",
       "      <td>0</td>\n",
       "      <td>0</td>\n",
       "      <td>1</td>\n",
       "      <td>0</td>\n",
       "      <td>0</td>\n",
       "      <td>1</td>\n",
       "    </tr>\n",
       "    <tr>\n",
       "      <th>2</th>\n",
       "      <td>2</td>\n",
       "      <td>[Crime, Drama]</td>\n",
       "      <td>9.0</td>\n",
       "      <td>tt0071562</td>\n",
       "      <td>The Godfather: Part II</td>\n",
       "      <td>feature</td>\n",
       "      <td>1974</td>\n",
       "      <td>12120.0</td>\n",
       "      <td>R</td>\n",
       "      <td>[The continuing saga of the Corleone crime fam...</td>\n",
       "      <td>...</td>\n",
       "      <td>0</td>\n",
       "      <td>0</td>\n",
       "      <td>0</td>\n",
       "      <td>0</td>\n",
       "      <td>0</td>\n",
       "      <td>0</td>\n",
       "      <td>1</td>\n",
       "      <td>0</td>\n",
       "      <td>0</td>\n",
       "      <td>1</td>\n",
       "    </tr>\n",
       "    <tr>\n",
       "      <th>3</th>\n",
       "      <td>3</td>\n",
       "      <td>[Action, Crime, Drama, Thriller]</td>\n",
       "      <td>9.0</td>\n",
       "      <td>tt0468569</td>\n",
       "      <td>The Dark Knight</td>\n",
       "      <td>feature</td>\n",
       "      <td>2008</td>\n",
       "      <td>9120.0</td>\n",
       "      <td>PG-13</td>\n",
       "      <td>[Set within a year after the events of Batman ...</td>\n",
       "      <td>...</td>\n",
       "      <td>0</td>\n",
       "      <td>0</td>\n",
       "      <td>0</td>\n",
       "      <td>0</td>\n",
       "      <td>0</td>\n",
       "      <td>0</td>\n",
       "      <td>1</td>\n",
       "      <td>0</td>\n",
       "      <td>1</td>\n",
       "      <td>1</td>\n",
       "    </tr>\n",
       "    <tr>\n",
       "      <th>4</th>\n",
       "      <td>4</td>\n",
       "      <td>[Crime, Drama]</td>\n",
       "      <td>8.9</td>\n",
       "      <td>tt0050083</td>\n",
       "      <td>12 Angry Men</td>\n",
       "      <td>feature</td>\n",
       "      <td>1957</td>\n",
       "      <td>5760.0</td>\n",
       "      <td>Approved</td>\n",
       "      <td>[The defense and the prosecution have rested a...</td>\n",
       "      <td>...</td>\n",
       "      <td>0</td>\n",
       "      <td>0</td>\n",
       "      <td>0</td>\n",
       "      <td>0</td>\n",
       "      <td>0</td>\n",
       "      <td>0</td>\n",
       "      <td>1</td>\n",
       "      <td>0</td>\n",
       "      <td>0</td>\n",
       "      <td>1</td>\n",
       "    </tr>\n",
       "  </tbody>\n",
       "</table>\n",
       "<p>5 rows × 32 columns</p>\n",
       "</div>"
      ],
      "text/plain": [
       "   Unnamed: 0                            genres  rating     tconst  \\\n",
       "0           0                    [Crime, Drama]     9.3  tt0111161   \n",
       "1           1                    [Crime, Drama]     9.2  tt0068646   \n",
       "2           2                    [Crime, Drama]     9.0  tt0071562   \n",
       "3           3  [Action, Crime, Drama, Thriller]     9.0  tt0468569   \n",
       "4           4                    [Crime, Drama]     8.9  tt0050083   \n",
       "\n",
       "                     titles     type  year  runtime certification  \\\n",
       "0  The Shawshank Redemption  feature  1994   8520.0             R   \n",
       "1             The Godfather  feature  1972  10500.0             R   \n",
       "2    The Godfather: Part II  feature  1974  12120.0             R   \n",
       "3           The Dark Knight  feature  2008   9120.0         PG-13   \n",
       "4              12 Angry Men  feature  1957   5760.0      Approved   \n",
       "\n",
       "                                                plot   ...   isWar  \\\n",
       "0  [Chronicles the experiences of a formerly succ...   ...       0   \n",
       "1  [When the aging head of a famous crime family ...   ...       0   \n",
       "2  [The continuing saga of the Corleone crime fam...   ...       0   \n",
       "3  [Set within a year after the events of Batman ...   ...       0   \n",
       "4  [The defense and the prosecution have rested a...   ...       0   \n",
       "\n",
       "   isAnimation  isHorror  isSport  isMystery  isMusic  isDrama  isComedy  \\\n",
       "0            0         0        0          0        0        1         0   \n",
       "1            0         0        0          0        0        1         0   \n",
       "2            0         0        0          0        0        1         0   \n",
       "3            0         0        0          0        0        1         0   \n",
       "4            0         0        0          0        0        1         0   \n",
       "\n",
       "   isAction  isGood  \n",
       "0         0       1  \n",
       "1         0       1  \n",
       "2         0       1  \n",
       "3         1       1  \n",
       "4         0       1  \n",
       "\n",
       "[5 rows x 32 columns]"
      ]
     },
     "execution_count": 12,
     "metadata": {},
     "output_type": "execute_result"
    }
   ],
   "source": [
    "movies.head()"
   ]
  },
  {
   "cell_type": "code",
   "execution_count": 13,
   "metadata": {
    "collapsed": false
   },
   "outputs": [
    {
     "data": {
      "text/plain": [
       "feature    501\n",
       "Name: type, dtype: int64"
      ]
     },
     "execution_count": 13,
     "metadata": {},
     "output_type": "execute_result"
    }
   ],
   "source": [
    "movies['type'].value_counts()"
   ]
  },
  {
   "cell_type": "code",
   "execution_count": 30,
   "metadata": {
    "collapsed": false
   },
   "outputs": [
    {
     "data": {
      "text/plain": [
       "Index([u'Unnamed: 0', u'genres', u'rating', u'tconst', u'titles', u'type',\n",
       "       u'year', u'runtime', u'certification', u'plot', u'tagline', u'ngenres',\n",
       "       u'isCrime', u'isRomance', u'isThriller', u'isHistory', u'isBiography',\n",
       "       u'isAdventure', u'isFantasy', u'isWestern', u'isSci-Fi', u'isFamily',\n",
       "       u'isWar', u'isAnimation', u'isHorror', u'isSport', u'isMystery',\n",
       "       u'isMusic', u'isDrama', u'isComedy', u'isAction', u'isGood', u'R',\n",
       "       u'PG-13', u'PG', u'G'],\n",
       "      dtype='object')"
      ]
     },
     "execution_count": 30,
     "metadata": {},
     "output_type": "execute_result"
    }
   ],
   "source": [
    "movies.columns"
   ]
  },
  {
   "cell_type": "code",
   "execution_count": 15,
   "metadata": {
    "collapsed": false
   },
   "outputs": [
    {
     "data": {
      "text/plain": [
       "count    501.000000\n",
       "mean       6.308782\n",
       "std        2.433212\n",
       "min        1.200000\n",
       "25%        4.300000\n",
       "50%        8.000000\n",
       "75%        8.300000\n",
       "max        9.300000\n",
       "Name: rating, dtype: float64"
      ]
     },
     "execution_count": 15,
     "metadata": {},
     "output_type": "execute_result"
    }
   ],
   "source": [
    "movies['rating'].describe()"
   ]
  },
  {
   "cell_type": "code",
   "execution_count": 16,
   "metadata": {
    "collapsed": false,
    "scrolled": true
   },
   "outputs": [
    {
     "data": {
      "text/plain": [
       "R            160\n",
       "PG-13         92\n",
       "PG            87\n",
       "Not Rated     33\n",
       "Approved      29\n",
       "Unrated       18\n",
       "G             15\n",
       "TV-PG         13\n",
       "TV-14          7\n",
       "Passed         7\n",
       "TV-MA          6\n",
       "M              3\n",
       "13             3\n",
       "12             3\n",
       "TV-G           1\n",
       "12A            1\n",
       "M18            1\n",
       "(Banned)       1\n",
       "15             1\n",
       "15PG           1\n",
       "16             1\n",
       "18             1\n",
       "NC-17          1\n",
       "M/6            1\n",
       "M/16           1\n",
       "14A            1\n",
       "E              1\n",
       "Name: certification, dtype: int64"
      ]
     },
     "execution_count": 16,
     "metadata": {},
     "output_type": "execute_result"
    }
   ],
   "source": [
    "movies['certification'].value_counts()"
   ]
  },
  {
   "cell_type": "code",
   "execution_count": 185,
   "metadata": {
    "collapsed": false
   },
   "outputs": [
    {
     "name": "stdout",
     "output_type": "stream",
     "text": [
      "isCrime \n",
      "0    419\n",
      "1     82\n",
      "Name: isCrime, dtype: int64 \n",
      "\n",
      "isRomance \n",
      "0    445\n",
      "1     56\n",
      "Name: isRomance, dtype: int64 \n",
      "\n",
      "isThriller \n",
      "0    394\n",
      "1    107\n",
      "Name: isThriller, dtype: int64 \n",
      "\n",
      "isHistory \n",
      "0    475\n",
      "1     26\n",
      "Name: isHistory, dtype: int64 \n",
      "\n",
      "isBiography \n",
      "0    468\n",
      "1     33\n",
      "Name: isBiography, dtype: int64 \n",
      "\n",
      "isAdventure \n",
      "0    359\n",
      "1    142\n",
      "Name: isAdventure, dtype: int64 \n",
      "\n",
      "isFantasy \n",
      "0    418\n",
      "1     83\n",
      "Name: isFantasy, dtype: int64 \n",
      "\n",
      "isWestern \n",
      "0    487\n",
      "1     14\n",
      "Name: isWestern, dtype: int64 \n",
      "\n",
      "isSci-Fi \n",
      "0    398\n",
      "1    103\n",
      "Name: isSci-Fi, dtype: int64 \n",
      "\n",
      "isFamily \n",
      "0    438\n",
      "1     63\n",
      "Name: isFamily, dtype: int64 \n",
      "\n",
      "isWar \n",
      "0    462\n",
      "1     39\n",
      "Name: isWar, dtype: int64 \n",
      "\n",
      "isAnimation \n",
      "0    463\n",
      "1     38\n",
      "Name: isAnimation, dtype: int64 \n",
      "\n",
      "isHorror \n",
      "0    458\n",
      "1     43\n",
      "Name: isHorror, dtype: int64 \n",
      "\n",
      "isSport \n",
      "0    482\n",
      "1     19\n",
      "Name: isSport, dtype: int64 \n",
      "\n",
      "isMystery \n",
      "0    459\n",
      "1     42\n",
      "Name: isMystery, dtype: int64 \n",
      "\n",
      "isMusic \n",
      "0    492\n",
      "1      9\n",
      "Name: isMusic, dtype: int64 \n",
      "\n",
      "isDrama \n",
      "0    253\n",
      "1    248\n",
      "Name: isDrama, dtype: int64 \n",
      "\n",
      "isComedy \n",
      "0    363\n",
      "1    138\n",
      "Name: isComedy, dtype: int64 \n",
      "\n",
      "isAction \n",
      "0    374\n",
      "1    127\n",
      "Name: isAction, dtype: int64 \n",
      "\n"
     ]
    }
   ],
   "source": [
    "genres = ['isCrime', u'isRomance', u'isThriller', u'isHistory', u'isBiography',\n",
    "       u'isAdventure', u'isFantasy', u'isWestern', u'isSci-Fi', u'isFamily',\n",
    "       u'isWar', u'isAnimation', u'isHorror', u'isSport', u'isMystery',\n",
    "       u'isMusic', u'isDrama', u'isComedy', u'isAction']\n",
    "for i in genres:\n",
    "    print i, '\\n', movies[i].value_counts(), \"\\n\""
   ]
  },
  {
   "cell_type": "code",
   "execution_count": 18,
   "metadata": {
    "collapsed": false
   },
   "outputs": [
    {
     "data": {
      "text/plain": [
       "<matplotlib.text.Text at 0x117fc2e90>"
      ]
     },
     "execution_count": 18,
     "metadata": {},
     "output_type": "execute_result"
    },
    {
     "data": {
      "image/png": "[encoded data removed]",
      "text/plain": [
       "<matplotlib.figure.Figure at 0x117f72bd0>"
      ]
     },
     "metadata": {},
     "output_type": "display_data"
    }
   ],
   "source": [
    "plt.hist(movies['rating'])\n",
    "plt.title(\"Distribution of Movie Ratings\")\n",
    "plt.xlabel(\"Movie Rating\")\n",
    "plt.ylabel(\"Frequency\")"
   ]
  },
  {
   "cell_type": "code",
   "execution_count": 19,
   "metadata": {
    "collapsed": false,
    "scrolled": true
   },
   "outputs": [
    {
     "data": {
      "text/plain": [
       "1    251\n",
       "0    250\n",
       "Name: isGood, dtype: int64"
      ]
     },
     "execution_count": 19,
     "metadata": {},
     "output_type": "execute_result"
    }
   ],
   "source": [
    "movies['isGood'].value_counts()"
   ]
  },
  {
   "cell_type": "code",
   "execution_count": 158,
   "metadata": {
    "collapsed": false
   },
   "outputs": [
    {
     "data": {
      "text/plain": [
       "count     501.000000\n",
       "mean     1989.682635\n",
       "std        21.863693\n",
       "min      1921.000000\n",
       "25%      1977.000000\n",
       "50%      1998.000000\n",
       "75%      2006.000000\n",
       "max      2016.000000\n",
       "Name: year, dtype: float64"
      ]
     },
     "execution_count": 158,
     "metadata": {},
     "output_type": "execute_result"
    }
   ],
   "source": [
    "movies['year'].describe()"
   ]
  },
  {
   "cell_type": "code",
   "execution_count": 160,
   "metadata": {
    "collapsed": false,
    "scrolled": true
   },
   "outputs": [
    {
     "data": {
      "text/plain": [
       "<matplotlib.text.Text at 0x127a38190>"
      ]
     },
     "execution_count": 160,
     "metadata": {},
     "output_type": "execute_result"
    },
    {
     "data": {
      "image/png": "[encoded data removed]",
      "text/plain": [
       "<matplotlib.figure.Figure at 0x12783b250>"
      ]
     },
     "metadata": {},
     "output_type": "display_data"
    }
   ],
   "source": [
    "plt.hist(movies['year'])\n",
    "plt.title(\"Release Year\")\n",
    "plt.xlabel(\"Year\")\n",
    "plt.ylabel(\"Frequency\")"
   ]
  },
  {
   "cell_type": "code",
   "execution_count": 31,
   "metadata": {
    "collapsed": false,
    "scrolled": true
   },
   "outputs": [
    {
     "data": {
      "text/plain": [
       "3    166\n",
       "2    125\n",
       "4     96\n",
       "1     69\n",
       "5     36\n",
       "6      7\n",
       "7      2\n",
       "Name: ngenres, dtype: int64"
      ]
     },
     "execution_count": 31,
     "metadata": {},
     "output_type": "execute_result"
    }
   ],
   "source": [
    "movies['ngenres'].value_counts()"
   ]
  },
  {
   "cell_type": "code",
   "execution_count": 74,
   "metadata": {
    "collapsed": false,
    "scrolled": true
   },
   "outputs": [
    {
     "data": {
      "text/plain": [
       "<matplotlib.text.Text at 0x11c08d850>"
      ]
     },
     "execution_count": 74,
     "metadata": {},
     "output_type": "execute_result"
    },
    {
     "data": {
      "image/png": "[encoded data removed]",
      "text/plain": [
       "<matplotlib.figure.Figure at 0x117bfc8d0>"
      ]
     },
     "metadata": {},
     "output_type": "display_data"
    }
   ],
   "source": [
    "plt.scatter(movies['year'], movies['rating'])\n",
    "plt.title(\"Movie Ratings vs Year\")\n",
    "plt.xlabel(\"Year\")\n",
    "plt.ylabel(\"Rating\")"
   ]
  },
  {
   "cell_type": "code",
   "execution_count": null,
   "metadata": {
    "collapsed": true
   },
   "outputs": [],
   "source": []
  },
  {
   "cell_type": "code",
   "execution_count": 83,
   "metadata": {
    "collapsed": false
   },
   "outputs": [
    {
     "data": {
      "text/plain": [
       "<matplotlib.axes._subplots.AxesSubplot at 0x11c0b44d0>"
      ]
     },
     "execution_count": 83,
     "metadata": {},
     "output_type": "execute_result"
    },
    {
     "data": {
      "image/png": "[encoded data removed]",
      "text/plain": [
       "<matplotlib.figure.Figure at 0x11c08ded0>"
      ]
     },
     "metadata": {},
     "output_type": "display_data"
    }
   ],
   "source": [
    "sbn.heatmap(movies.corr())"
   ]
  },
  {
   "cell_type": "markdown",
   "metadata": {},
   "source": [
    "### Adding additional features"
   ]
  },
  {
   "cell_type": "code",
   "execution_count": null,
   "metadata": {
    "collapsed": true
   },
   "outputs": [],
   "source": []
  },
  {
   "cell_type": "code",
   "execution_count": 29,
   "metadata": {
    "collapsed": false
   },
   "outputs": [
    {
     "data": {
      "text/html": [
       "<div>\n",
       "<table border=\"1\" class=\"dataframe\">\n",
       "  <thead>\n",
       "    <tr style=\"text-align: right;\">\n",
       "      <th></th>\n",
       "      <th>Unnamed: 0</th>\n",
       "      <th>genres</th>\n",
       "      <th>rating</th>\n",
       "      <th>tconst</th>\n",
       "      <th>titles</th>\n",
       "      <th>type</th>\n",
       "      <th>year</th>\n",
       "      <th>runtime</th>\n",
       "      <th>certification</th>\n",
       "      <th>plot</th>\n",
       "      <th>...</th>\n",
       "      <th>isMystery</th>\n",
       "      <th>isMusic</th>\n",
       "      <th>isDrama</th>\n",
       "      <th>isComedy</th>\n",
       "      <th>isAction</th>\n",
       "      <th>isGood</th>\n",
       "      <th>R</th>\n",
       "      <th>PG-13</th>\n",
       "      <th>PG</th>\n",
       "      <th>G</th>\n",
       "    </tr>\n",
       "  </thead>\n",
       "  <tbody>\n",
       "    <tr>\n",
       "      <th>0</th>\n",
       "      <td>0</td>\n",
       "      <td>[Crime, Drama]</td>\n",
       "      <td>9.3</td>\n",
       "      <td>tt0111161</td>\n",
       "      <td>The Shawshank Redemption</td>\n",
       "      <td>feature</td>\n",
       "      <td>1994</td>\n",
       "      <td>8520.0</td>\n",
       "      <td>R</td>\n",
       "      <td>[Chronicles the experiences of a formerly succ...</td>\n",
       "      <td>...</td>\n",
       "      <td>0</td>\n",
       "      <td>0</td>\n",
       "      <td>1</td>\n",
       "      <td>0</td>\n",
       "      <td>0</td>\n",
       "      <td>1</td>\n",
       "      <td>1</td>\n",
       "      <td>0</td>\n",
       "      <td>0</td>\n",
       "      <td>0</td>\n",
       "    </tr>\n",
       "    <tr>\n",
       "      <th>1</th>\n",
       "      <td>1</td>\n",
       "      <td>[Crime, Drama]</td>\n",
       "      <td>9.2</td>\n",
       "      <td>tt0068646</td>\n",
       "      <td>The Godfather</td>\n",
       "      <td>feature</td>\n",
       "      <td>1972</td>\n",
       "      <td>10500.0</td>\n",
       "      <td>R</td>\n",
       "      <td>[When the aging head of a famous crime family ...</td>\n",
       "      <td>...</td>\n",
       "      <td>0</td>\n",
       "      <td>0</td>\n",
       "      <td>1</td>\n",
       "      <td>0</td>\n",
       "      <td>0</td>\n",
       "      <td>1</td>\n",
       "      <td>1</td>\n",
       "      <td>0</td>\n",
       "      <td>0</td>\n",
       "      <td>0</td>\n",
       "    </tr>\n",
       "    <tr>\n",
       "      <th>2</th>\n",
       "      <td>2</td>\n",
       "      <td>[Crime, Drama]</td>\n",
       "      <td>9.0</td>\n",
       "      <td>tt0071562</td>\n",
       "      <td>The Godfather: Part II</td>\n",
       "      <td>feature</td>\n",
       "      <td>1974</td>\n",
       "      <td>12120.0</td>\n",
       "      <td>R</td>\n",
       "      <td>[The continuing saga of the Corleone crime fam...</td>\n",
       "      <td>...</td>\n",
       "      <td>0</td>\n",
       "      <td>0</td>\n",
       "      <td>1</td>\n",
       "      <td>0</td>\n",
       "      <td>0</td>\n",
       "      <td>1</td>\n",
       "      <td>1</td>\n",
       "      <td>0</td>\n",
       "      <td>0</td>\n",
       "      <td>0</td>\n",
       "    </tr>\n",
       "    <tr>\n",
       "      <th>3</th>\n",
       "      <td>3</td>\n",
       "      <td>[Action, Crime, Drama, Thriller]</td>\n",
       "      <td>9.0</td>\n",
       "      <td>tt0468569</td>\n",
       "      <td>The Dark Knight</td>\n",
       "      <td>feature</td>\n",
       "      <td>2008</td>\n",
       "      <td>9120.0</td>\n",
       "      <td>PG-13</td>\n",
       "      <td>[Set within a year after the events of Batman ...</td>\n",
       "      <td>...</td>\n",
       "      <td>0</td>\n",
       "      <td>0</td>\n",
       "      <td>1</td>\n",
       "      <td>0</td>\n",
       "      <td>1</td>\n",
       "      <td>1</td>\n",
       "      <td>0</td>\n",
       "      <td>1</td>\n",
       "      <td>0</td>\n",
       "      <td>0</td>\n",
       "    </tr>\n",
       "    <tr>\n",
       "      <th>4</th>\n",
       "      <td>4</td>\n",
       "      <td>[Crime, Drama]</td>\n",
       "      <td>8.9</td>\n",
       "      <td>tt0050083</td>\n",
       "      <td>12 Angry Men</td>\n",
       "      <td>feature</td>\n",
       "      <td>1957</td>\n",
       "      <td>5760.0</td>\n",
       "      <td>Approved</td>\n",
       "      <td>[The defense and the prosecution have rested a...</td>\n",
       "      <td>...</td>\n",
       "      <td>0</td>\n",
       "      <td>0</td>\n",
       "      <td>1</td>\n",
       "      <td>0</td>\n",
       "      <td>0</td>\n",
       "      <td>1</td>\n",
       "      <td>0</td>\n",
       "      <td>0</td>\n",
       "      <td>0</td>\n",
       "      <td>0</td>\n",
       "    </tr>\n",
       "  </tbody>\n",
       "</table>\n",
       "<p>5 rows × 36 columns</p>\n",
       "</div>"
      ],
      "text/plain": [
       "   Unnamed: 0                            genres  rating     tconst  \\\n",
       "0           0                    [Crime, Drama]     9.3  tt0111161   \n",
       "1           1                    [Crime, Drama]     9.2  tt0068646   \n",
       "2           2                    [Crime, Drama]     9.0  tt0071562   \n",
       "3           3  [Action, Crime, Drama, Thriller]     9.0  tt0468569   \n",
       "4           4                    [Crime, Drama]     8.9  tt0050083   \n",
       "\n",
       "                     titles     type  year  runtime certification  \\\n",
       "0  The Shawshank Redemption  feature  1994   8520.0             R   \n",
       "1             The Godfather  feature  1972  10500.0             R   \n",
       "2    The Godfather: Part II  feature  1974  12120.0             R   \n",
       "3           The Dark Knight  feature  2008   9120.0         PG-13   \n",
       "4              12 Angry Men  feature  1957   5760.0      Approved   \n",
       "\n",
       "                                                plot ... isMystery  isMusic  \\\n",
       "0  [Chronicles the experiences of a formerly succ... ...         0        0   \n",
       "1  [When the aging head of a famous crime family ... ...         0        0   \n",
       "2  [The continuing saga of the Corleone crime fam... ...         0        0   \n",
       "3  [Set within a year after the events of Batman ... ...         0        0   \n",
       "4  [The defense and the prosecution have rested a... ...         0        0   \n",
       "\n",
       "   isDrama  isComedy  isAction  isGood  R  PG-13  PG  G  \n",
       "0        1         0         0       1  1      0   0  0  \n",
       "1        1         0         0       1  1      0   0  0  \n",
       "2        1         0         0       1  1      0   0  0  \n",
       "3        1         0         1       1  0      1   0  0  \n",
       "4        1         0         0       1  0      0   0  0  \n",
       "\n",
       "[5 rows x 36 columns]"
      ]
     },
     "execution_count": 29,
     "metadata": {},
     "output_type": "execute_result"
    }
   ],
   "source": [
    "movies.head()"
   ]
  },
  {
   "cell_type": "markdown",
   "metadata": {},
   "source": [
    "# Modeling"
   ]
  },
  {
   "cell_type": "code",
   "execution_count": 34,
   "metadata": {
    "collapsed": false,
    "scrolled": true
   },
   "outputs": [
    {
     "data": {
      "text/plain": [
       "Index([u'Unnamed: 0', u'genres', u'rating', u'tconst', u'titles', u'type',\n",
       "       u'year', u'runtime', u'certification', u'plot', u'tagline', u'ngenres',\n",
       "       u'isCrime', u'isRomance', u'isThriller', u'isHistory', u'isBiography',\n",
       "       u'isAdventure', u'isFantasy', u'isWestern', u'isSci-Fi', u'isFamily',\n",
       "       u'isWar', u'isAnimation', u'isHorror', u'isSport', u'isMystery',\n",
       "       u'isMusic', u'isDrama', u'isComedy', u'isAction', u'isGood', u'R',\n",
       "       u'PG-13', u'PG', u'G'],\n",
       "      dtype='object')"
      ]
     },
     "execution_count": 34,
     "metadata": {},
     "output_type": "execute_result"
    }
   ],
   "source": [
    "movies.columns"
   ]
  },
  {
   "cell_type": "code",
   "execution_count": 51,
   "metadata": {
    "collapsed": true
   },
   "outputs": [],
   "source": [
    "movies_nona = movies.dropna()"
   ]
  },
  {
   "cell_type": "code",
   "execution_count": 52,
   "metadata": {
    "collapsed": false
   },
   "outputs": [],
   "source": [
    "y = movies_nona['isGood']\n",
    "x = movies_nona[[\n",
    "       u'year', u'runtime', u'ngenres',\n",
    "       u'isCrime', u'isRomance', u'isThriller', u'isHistory', u'isBiography',\n",
    "       u'isAdventure', u'isFantasy', u'isWestern', u'isSci-Fi', u'isFamily',\n",
    "       u'isWar', u'isAnimation', u'isHorror', u'isSport', u'isMystery',\n",
    "       u'isMusic', u'isDrama', u'isComedy', u'isAction', u'R',\n",
    "       u'PG-13', u'PG', u'G']]"
   ]
  },
  {
   "cell_type": "code",
   "execution_count": 161,
   "metadata": {
    "collapsed": false
   },
   "outputs": [
    {
     "data": {
      "text/plain": [
       "26"
      ]
     },
     "execution_count": 161,
     "metadata": {},
     "output_type": "execute_result"
    }
   ],
   "source": [
    "len(x.columns)"
   ]
  },
  {
   "cell_type": "code",
   "execution_count": 86,
   "metadata": {
    "collapsed": true
   },
   "outputs": [],
   "source": [
    "x_train, x_test, y_train, y_test = train_test_split(x,y)"
   ]
  },
  {
   "cell_type": "code",
   "execution_count": 100,
   "metadata": {
    "collapsed": false,
    "scrolled": true
   },
   "outputs": [
    {
     "name": "stdout",
     "output_type": "stream",
     "text": [
      "(328, 26)\n",
      "(110, 26)\n",
      "(328,)\n",
      "(110,)\n"
     ]
    }
   ],
   "source": [
    "xy = [x_train, x_test, y_train, y_test]\n",
    "for i in xy:\n",
    "    print i.shape"
   ]
  },
  {
   "cell_type": "code",
   "execution_count": 99,
   "metadata": {
    "collapsed": false
   },
   "outputs": [
    {
     "data": {
      "text/plain": [
       "(328, 26)"
      ]
     },
     "execution_count": 99,
     "metadata": {},
     "output_type": "execute_result"
    }
   ],
   "source": [
    "x_train.shape"
   ]
  },
  {
   "cell_type": "code",
   "execution_count": 90,
   "metadata": {
    "collapsed": true
   },
   "outputs": [],
   "source": [
    "model1 = RandomForestClassifier()"
   ]
  },
  {
   "cell_type": "code",
   "execution_count": 166,
   "metadata": {
    "collapsed": true
   },
   "outputs": [],
   "source": [
    "parameters = {\n",
    "    \"n_estimators\" : [10, 25, 50, 100, 500],\n",
    "    \"max_depth\" : [2,3,5,7,10, None],\n",
    "    \"max_features\" : [0.25, 0.5, 0.75, 1.0]\n",
    "}"
   ]
  },
  {
   "cell_type": "code",
   "execution_count": 167,
   "metadata": {
    "collapsed": false
   },
   "outputs": [],
   "source": [
    "gridsearch = GridSearchCV(model1, param_grid=parameters, cv=7, n_jobs=-1)"
   ]
  },
  {
   "cell_type": "code",
   "execution_count": 168,
   "metadata": {
    "collapsed": false
   },
   "outputs": [
    {
     "data": {
      "text/plain": [
       "GridSearchCV(cv=7, error_score='raise',\n",
       "       estimator=RandomForestClassifier(bootstrap=True, class_weight=None, criterion='gini',\n",
       "            max_depth=None, max_features='auto', max_leaf_nodes=None,\n",
       "            min_samples_leaf=1, min_samples_split=2,\n",
       "            min_weight_fraction_leaf=0.0, n_estimators=10, n_jobs=1,\n",
       "            oob_score=False, random_state=None, verbose=0,\n",
       "            warm_start=False),\n",
       "       fit_params={}, iid=True, n_jobs=-1,\n",
       "       param_grid={'n_estimators': [10, 25, 50, 100, 500], 'max_features': [0.25, 0.5, 0.75, 1.0], 'max_depth': [2, 3, 5, 7, 10, None]},\n",
       "       pre_dispatch='2*n_jobs', refit=True, scoring=None, verbose=0)"
      ]
     },
     "execution_count": 168,
     "metadata": {},
     "output_type": "execute_result"
    }
   ],
   "source": [
    "gridsearch"
   ]
  },
  {
   "cell_type": "code",
   "execution_count": 169,
   "metadata": {
    "collapsed": false
   },
   "outputs": [
    {
     "data": {
      "text/plain": [
       "GridSearchCV(cv=7, error_score='raise',\n",
       "       estimator=RandomForestClassifier(bootstrap=True, class_weight=None, criterion='gini',\n",
       "            max_depth=None, max_features='auto', max_leaf_nodes=None,\n",
       "            min_samples_leaf=1, min_samples_split=2,\n",
       "            min_weight_fraction_leaf=0.0, n_estimators=10, n_jobs=1,\n",
       "            oob_score=False, random_state=None, verbose=0,\n",
       "            warm_start=False),\n",
       "       fit_params={}, iid=True, n_jobs=-1,\n",
       "       param_grid={'n_estimators': [10, 25, 50, 100, 500], 'max_features': [0.25, 0.5, 0.75, 1.0], 'max_depth': [2, 3, 5, 7, 10, None]},\n",
       "       pre_dispatch='2*n_jobs', refit=True, scoring=None, verbose=0)"
      ]
     },
     "execution_count": 169,
     "metadata": {},
     "output_type": "execute_result"
    }
   ],
   "source": [
    "gridsearch.fit(x_train, y_train)"
   ]
  },
  {
   "cell_type": "code",
   "execution_count": 170,
   "metadata": {
    "collapsed": false
   },
   "outputs": [
    {
     "data": {
      "text/plain": [
       "RandomForestClassifier(bootstrap=True, class_weight=None, criterion='gini',\n",
       "            max_depth=None, max_features=0.25, max_leaf_nodes=None,\n",
       "            min_samples_leaf=1, min_samples_split=2,\n",
       "            min_weight_fraction_leaf=0.0, n_estimators=100, n_jobs=1,\n",
       "            oob_score=False, random_state=None, verbose=0,\n",
       "            warm_start=False)"
      ]
     },
     "execution_count": 170,
     "metadata": {},
     "output_type": "execute_result"
    }
   ],
   "source": [
    "gridsearch.best_estimator_.fit(x_train, y_train)"
   ]
  },
  {
   "cell_type": "code",
   "execution_count": 171,
   "metadata": {
    "collapsed": false
   },
   "outputs": [
    {
     "data": {
      "text/plain": [
       "1.0"
      ]
     },
     "execution_count": 171,
     "metadata": {},
     "output_type": "execute_result"
    }
   ],
   "source": [
    "gridsearch.best_estimator_.score(x_train, y_train)"
   ]
  },
  {
   "cell_type": "code",
   "execution_count": 172,
   "metadata": {
    "collapsed": false
   },
   "outputs": [
    {
     "data": {
      "text/plain": [
       "0.72727272727272729"
      ]
     },
     "execution_count": 172,
     "metadata": {},
     "output_type": "execute_result"
    }
   ],
   "source": [
    "gridsearch.best_estimator_.score(x_test, y_test)"
   ]
  },
  {
   "cell_type": "code",
   "execution_count": 173,
   "metadata": {
    "collapsed": false
   },
   "outputs": [],
   "source": [
    "predictions = gridsearch.best_estimator_.predict(x_test)"
   ]
  },
  {
   "cell_type": "code",
   "execution_count": 174,
   "metadata": {
    "collapsed": false,
    "scrolled": true
   },
   "outputs": [
    {
     "data": {
      "text/plain": [
       "array([[38, 18],\n",
       "       [12, 42]])"
      ]
     },
     "execution_count": 174,
     "metadata": {},
     "output_type": "execute_result"
    }
   ],
   "source": [
    "confusion_matrix(y_test, predictions)"
   ]
  },
  {
   "cell_type": "code",
   "execution_count": 175,
   "metadata": {
    "collapsed": false,
    "scrolled": true
   },
   "outputs": [
    {
     "name": "stdout",
     "output_type": "stream",
     "text": [
      "             precision    recall  f1-score   support\n",
      "\n",
      "          0       0.76      0.68      0.72        56\n",
      "          1       0.70      0.78      0.74        54\n",
      "\n",
      "avg / total       0.73      0.73      0.73       110\n",
      "\n"
     ]
    }
   ],
   "source": [
    "print classification_report(y_test, predictions)"
   ]
  },
  {
   "cell_type": "code",
   "execution_count": null,
   "metadata": {
    "collapsed": true
   },
   "outputs": [],
   "source": []
  },
  {
   "cell_type": "code",
   "execution_count": null,
   "metadata": {
    "collapsed": true
   },
   "outputs": [],
   "source": []
  },
  {
   "cell_type": "markdown",
   "metadata": {},
   "source": [
    "## Feature Importance"
   ]
  },
  {
   "cell_type": "code",
   "execution_count": 186,
   "metadata": {
    "collapsed": true
   },
   "outputs": [],
   "source": [
    "bestforest = RandomForestClassifier(bootstrap=True, class_weight=None, criterion='gini',\n",
    "            max_depth=7, max_features='auto', max_leaf_nodes=None,\n",
    "            min_samples_leaf=1, min_samples_split=2,\n",
    "            min_weight_fraction_leaf=0.0, n_estimators=500, n_jobs=1,\n",
    "            oob_score=False, random_state=None, verbose=0,\n",
    "            warm_start=False)"
   ]
  },
  {
   "cell_type": "code",
   "execution_count": 187,
   "metadata": {
    "collapsed": false
   },
   "outputs": [
    {
     "data": {
      "text/plain": [
       "RandomForestClassifier(bootstrap=True, class_weight=None, criterion='gini',\n",
       "            max_depth=7, max_features='auto', max_leaf_nodes=None,\n",
       "            min_samples_leaf=1, min_samples_split=2,\n",
       "            min_weight_fraction_leaf=0.0, n_estimators=500, n_jobs=1,\n",
       "            oob_score=False, random_state=None, verbose=0,\n",
       "            warm_start=False)"
      ]
     },
     "execution_count": 187,
     "metadata": {},
     "output_type": "execute_result"
    }
   ],
   "source": [
    "bestforest.fit(x_train, y_train)"
   ]
  },
  {
   "cell_type": "code",
   "execution_count": 188,
   "metadata": {
    "collapsed": false
   },
   "outputs": [],
   "source": [
    "from sklearn import tree\n",
    "i_tree = 0\n",
    "for tree_in_forest in bestforest.estimators_:\n",
    "    with open('tree_' + str(i_tree) + '.dot', 'w') as my_file:\n",
    "        my_file = tree.export_graphviz(tree_in_forest, out_file = my_file)\n",
    "    i_tree = i_tree + 1"
   ]
  },
  {
   "cell_type": "code",
   "execution_count": null,
   "metadata": {
    "collapsed": false
   },
   "outputs": [],
   "source": []
  },
  {
   "cell_type": "code",
   "execution_count": 189,
   "metadata": {
    "collapsed": false
   },
   "outputs": [
    {
     "data": {
      "text/html": [
       "<div>\n",
       "<table border=\"1\" class=\"dataframe\">\n",
       "  <thead>\n",
       "    <tr style=\"text-align: right;\">\n",
       "      <th></th>\n",
       "      <th>importance</th>\n",
       "    </tr>\n",
       "  </thead>\n",
       "  <tbody>\n",
       "    <tr>\n",
       "      <th>runtime</th>\n",
       "      <td>0.225788</td>\n",
       "    </tr>\n",
       "    <tr>\n",
       "      <th>year</th>\n",
       "      <td>0.156599</td>\n",
       "    </tr>\n",
       "    <tr>\n",
       "      <th>isDrama</th>\n",
       "      <td>0.132786</td>\n",
       "    </tr>\n",
       "    <tr>\n",
       "      <th>ngenres</th>\n",
       "      <td>0.055640</td>\n",
       "    </tr>\n",
       "    <tr>\n",
       "      <th>isAction</th>\n",
       "      <td>0.055151</td>\n",
       "    </tr>\n",
       "    <tr>\n",
       "      <th>isHorror</th>\n",
       "      <td>0.048464</td>\n",
       "    </tr>\n",
       "    <tr>\n",
       "      <th>isComedy</th>\n",
       "      <td>0.038770</td>\n",
       "    </tr>\n",
       "    <tr>\n",
       "      <th>isMystery</th>\n",
       "      <td>0.033517</td>\n",
       "    </tr>\n",
       "    <tr>\n",
       "      <th>isSci-Fi</th>\n",
       "      <td>0.025799</td>\n",
       "    </tr>\n",
       "    <tr>\n",
       "      <th>PG-13</th>\n",
       "      <td>0.018002</td>\n",
       "    </tr>\n",
       "  </tbody>\n",
       "</table>\n",
       "</div>"
      ],
      "text/plain": [
       "           importance\n",
       "runtime      0.225788\n",
       "year         0.156599\n",
       "isDrama      0.132786\n",
       "ngenres      0.055640\n",
       "isAction     0.055151\n",
       "isHorror     0.048464\n",
       "isComedy     0.038770\n",
       "isMystery    0.033517\n",
       "isSci-Fi     0.025799\n",
       "PG-13        0.018002"
      ]
     },
     "execution_count": 189,
     "metadata": {},
     "output_type": "execute_result"
    }
   ],
   "source": [
    "feature_importances = pd.DataFrame(bestforest.feature_importances_,\n",
    "                                   index = x_train.columns,\n",
    "                                    columns=['importance']).sort_values('importance',\n",
    "                                                                        ascending=False)\n",
    "feature_importances.head(10)"
   ]
  },
  {
   "cell_type": "code",
   "execution_count": 190,
   "metadata": {
    "collapsed": false
   },
   "outputs": [
    {
     "data": {
      "text/plain": [
       "u'/Users/christophereppig/DSI-CHI-1'"
      ]
     },
     "execution_count": 190,
     "metadata": {},
     "output_type": "execute_result"
    }
   ],
   "source": [
    "%pwd"
   ]
  },
  {
   "cell_type": "markdown",
   "metadata": {},
   "source": [
    "## Blog post:\n",
    "\n",
    "http://myadventuresindata.blogspot.com/2016/11/predicting-movie-quality.html"
   ]
  },
  {
   "cell_type": "code",
   "execution_count": null,
   "metadata": {
    "collapsed": true
   },
   "outputs": [],
   "source": []
  },
  {
   "cell_type": "code",
   "execution_count": null,
   "metadata": {
    "collapsed": true
   },
   "outputs": [],
   "source": []
  }
 ],
 "metadata": {
  "anaconda-cloud": {},
  "kernelspec": {
   "display_name": "Python [Root]",
   "language": "python",
   "name": "Python [Root]"
  },
  "language_info": {
   "codemirror_mode": {
    "name": "ipython",
    "version": 2
   },
   "file_extension": ".py",
   "mimetype": "text/x-python",
   "name": "python",
   "nbconvert_exporter": "python",
   "pygments_lexer": "ipython2",
   "version": "2.7.12"
  }
 },
 "nbformat": 4,
 "nbformat_minor": 0
}
