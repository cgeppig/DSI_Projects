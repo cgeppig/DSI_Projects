{
 "cells": [
  {
   "cell_type": "markdown",
   "metadata": {},
   "source": [
    "# Project 1\n",
    "\n",
    "## Step 1: Open the `sat_scores.csv` file. Investigate the data, and answer the questions below.\n"
   ]
  },
  {
   "cell_type": "markdown",
   "metadata": {},
   "source": [
    "##### 1. What does the data describe?"
   ]
  },
  {
   "cell_type": "markdown",
   "metadata": {},
   "source": [
    "The Scholastic Aptitude Test (SAT) is a test taken by some high school students for the purpose of college admission. This dataset contains data on average verbal and math scores for the SAT, and the percent of students who take the test in each state. "
   ]
  },
  {
   "cell_type": "markdown",
   "metadata": {},
   "source": [
    "##### 2. Does the data look complete? Are there any obvious issues with the observations?"
   ]
  },
  {
   "cell_type": "markdown",
   "metadata": {},
   "source": [
    "The data appears to be complete, with data for all 50 states and DC."
   ]
  },
  {
   "cell_type": "markdown",
   "metadata": {},
   "source": [
    "##### 3. Create a data dictionary for the dataset."
   ]
  },
  {
   "cell_type": "markdown",
   "metadata": {
    "collapsed": true
   },
   "source": [
    "State: This column is the two-letter indicators for each USA state and the District of Columbia\n",
    "Rate: This column is the percent of high-school students in the state who take the SAT.\n",
    "Verbal: This column is the average score for the verbal portion of the SAT.\n",
    "Math: This column is the average score for the math portion of the SAT."
   ]
  },
  {
   "cell_type": "markdown",
   "metadata": {},
   "source": [
    "## Step 2: Load the data."
   ]
  },
  {
   "cell_type": "markdown",
   "metadata": {},
   "source": [
    "##### 4. Load the data into a list of lists"
   ]
  },
  {
   "cell_type": "code",
   "execution_count": 157,
   "metadata": {
    "collapsed": false
   },
   "outputs": [
    {
     "name": "stdout",
     "output_type": "stream",
     "text": [
      "[['State', 'Rate', 'Verbal', 'Math'], ['CT', '82', '509', '510'], ['NJ', '81', '499', '513'], ['MA', '79', '511', '515'], ['NY', '77', '495', '505'], ['NH', '72', '520', '516'], ['RI', '71', '501', '499'], ['PA', '71', '500', '499'], ['VT', '69', '511', '506'], ['ME', '69', '506', '500'], ['VA', '68', '510', '501'], ['DE', '67', '501', '499'], ['MD', '65', '508', '510'], ['NC', '65', '493', '499'], ['GA', '63', '491', '489'], ['IN', '60', '499', '501'], ['SC', '57', '486', '488'], ['DC', '56', '482', '474'], ['OR', '55', '526', '526'], ['FL', '54', '498', '499'], ['WA', '53', '527', '527'], ['TX', '53', '493', '499'], ['HI', '52', '485', '515'], ['AK', '51', '514', '510'], ['CA', '51', '498', '517'], ['AZ', '34', '523', '525'], ['NV', '33', '509', '515'], ['CO', '31', '539', '542'], ['OH', '26', '534', '439'], ['MT', '23', '539', '539'], ['WV', '18', '527', '512'], ['ID', '17', '543', '542'], ['TN', '13', '562', '553'], ['NM', '13', '551', '542'], ['IL', '12', '576', '589'], ['KY', '12', '550', '550'], ['WY', '11', '547', '545'], ['MI', '11', '561', '572'], ['MN', '9', '580', '589'], ['KS', '9', '577', '580'], ['AL', '9', '559', '554'], ['NE', '8', '562', '568'], ['OK', '8', '567', '561'], ['MO', '8', '577', '577'], ['LA', '7', '564', '562'], ['WI', '6', '584', '596'], ['AR', '6', '562', '550'], ['UT', '5', '575', '570'], ['IA', '5', '593', '603'], ['SD', '4', '577', '582'], ['ND', '4', '592', '599'], ['MS', '4', '566', '551'], ['All', '45', '506', '514']]\n"
     ]
    }
   ],
   "source": [
    "import csv\n",
    "import numpy as np\n",
    "import scipy.stats as sp\n",
    "import matplotlib\n",
    "import matplotlib.pyplot as plt\n",
    "%matplotlib inline\n",
    "import seaborn as sns\n",
    "sns.set_style(\"whitegrid\")\n",
    "\n",
    "allData = []\n",
    "\n",
    "with open('../assets/sat_scores.csv', \"r\") as f:\n",
    "    reader = csv.reader(f)\n",
    "    for i in reader:\n",
    "        allData.append(i)\n"
   ]
  },
  {
   "cell_type": "markdown",
   "metadata": {},
   "source": [
    "##### 5. Print the data"
   ]
  },
  {
   "cell_type": "code",
   "execution_count": 158,
   "metadata": {
    "collapsed": false
   },
   "outputs": [
    {
     "data": {
      "text/plain": [
       "[['State', 'Rate', 'Verbal', 'Math'],\n",
       " ['CT', '82', '509', '510'],\n",
       " ['NJ', '81', '499', '513'],\n",
       " ['MA', '79', '511', '515'],\n",
       " ['NY', '77', '495', '505'],\n",
       " ['NH', '72', '520', '516'],\n",
       " ['RI', '71', '501', '499'],\n",
       " ['PA', '71', '500', '499'],\n",
       " ['VT', '69', '511', '506'],\n",
       " ['ME', '69', '506', '500'],\n",
       " ['VA', '68', '510', '501'],\n",
       " ['DE', '67', '501', '499'],\n",
       " ['MD', '65', '508', '510'],\n",
       " ['NC', '65', '493', '499'],\n",
       " ['GA', '63', '491', '489'],\n",
       " ['IN', '60', '499', '501'],\n",
       " ['SC', '57', '486', '488'],\n",
       " ['DC', '56', '482', '474'],\n",
       " ['OR', '55', '526', '526'],\n",
       " ['FL', '54', '498', '499'],\n",
       " ['WA', '53', '527', '527'],\n",
       " ['TX', '53', '493', '499'],\n",
       " ['HI', '52', '485', '515'],\n",
       " ['AK', '51', '514', '510'],\n",
       " ['CA', '51', '498', '517'],\n",
       " ['AZ', '34', '523', '525'],\n",
       " ['NV', '33', '509', '515'],\n",
       " ['CO', '31', '539', '542'],\n",
       " ['OH', '26', '534', '439'],\n",
       " ['MT', '23', '539', '539'],\n",
       " ['WV', '18', '527', '512'],\n",
       " ['ID', '17', '543', '542'],\n",
       " ['TN', '13', '562', '553'],\n",
       " ['NM', '13', '551', '542'],\n",
       " ['IL', '12', '576', '589'],\n",
       " ['KY', '12', '550', '550'],\n",
       " ['WY', '11', '547', '545'],\n",
       " ['MI', '11', '561', '572'],\n",
       " ['MN', '9', '580', '589'],\n",
       " ['KS', '9', '577', '580'],\n",
       " ['AL', '9', '559', '554'],\n",
       " ['NE', '8', '562', '568'],\n",
       " ['OK', '8', '567', '561'],\n",
       " ['MO', '8', '577', '577'],\n",
       " ['LA', '7', '564', '562'],\n",
       " ['WI', '6', '584', '596'],\n",
       " ['AR', '6', '562', '550'],\n",
       " ['UT', '5', '575', '570'],\n",
       " ['IA', '5', '593', '603'],\n",
       " ['SD', '4', '577', '582'],\n",
       " ['ND', '4', '592', '599'],\n",
       " ['MS', '4', '566', '551'],\n",
       " ['All', '45', '506', '514']]"
      ]
     },
     "execution_count": 158,
     "metadata": {},
     "output_type": "execute_result"
    }
   ],
   "source": [
    "allData"
   ]
  },
  {
   "cell_type": "markdown",
   "metadata": {
    "collapsed": true
   },
   "source": [
    "##### 6. Extract a list of the labels from the data, and remove them from the data."
   ]
  },
  {
   "cell_type": "code",
   "execution_count": 154,
   "metadata": {
    "collapsed": false
   },
   "outputs": [],
   "source": [
    "header = []\n",
    "data = []\n",
    "footer = []\n",
    "with open('../assets/sat_scores.csv', \"r\") as f:\n",
    "    reader = csv.reader(f)\n",
    "    for i in reader:\n",
    "        if len(header) <1:\n",
    "            header.append(i)\n",
    "        elif len(data) < 51:\n",
    "            data.append(i)\n",
    "        else:\n",
    "            footer.append(i)\n"
   ]
  },
  {
   "cell_type": "markdown",
   "metadata": {},
   "source": [
    "##### 7. Create a list of State names extracted from the data. (Hint: use the list of labels to index on the State column)"
   ]
  },
  {
   "cell_type": "code",
   "execution_count": 68,
   "metadata": {
    "collapsed": false
   },
   "outputs": [],
   "source": [
    "stateNames = []\n",
    "rates = []\n",
    "verbal = []\n",
    "math = []\n",
    "\n",
    "for i in data:\n",
    "    stateNames.append(i[0])\n",
    "    rates.append(int(i[1]))\n",
    "    verbal.append(int(i[2]))\n",
    "    math.append(int(i[3]))"
   ]
  },
  {
   "cell_type": "markdown",
   "metadata": {},
   "source": [
    "##### 8. Print the types of each column"
   ]
  },
  {
   "cell_type": "code",
   "execution_count": 69,
   "metadata": {
    "collapsed": false
   },
   "outputs": [
    {
     "name": "stdout",
     "output_type": "stream",
     "text": [
      "<type 'str'>\n",
      "<type 'int'>\n",
      "<type 'int'>\n",
      "<type 'int'>\n"
     ]
    }
   ],
   "source": [
    "print type(stateNames[0])\n",
    "print type(rates[0])\n",
    "print type(verbal[0])\n",
    "print type(math[0])"
   ]
  },
  {
   "cell_type": "markdown",
   "metadata": {},
   "source": [
    "##### 9. Do any types need to be reassigned? If so, go ahead and do it."
   ]
  },
  {
   "cell_type": "markdown",
   "metadata": {
    "collapsed": false
   },
   "source": [
    "See 7."
   ]
  },
  {
   "cell_type": "markdown",
   "metadata": {},
   "source": [
    "##### 10. Create a dictionary for each column mapping the State to its respective value for that column. "
   ]
  },
  {
   "cell_type": "code",
   "execution_count": 15,
   "metadata": {
    "collapsed": true
   },
   "outputs": [],
   "source": [
    "stateRates = {}\n",
    "stateVerbal = {}\n",
    "stateMath = {}\n",
    "for i in range(0,len(stateNames)):\n",
    "    stateRates.update({stateNames[i]:rates[i]})\n",
    "    stateVerbal.update({stateNames[i]:verbal[i]})\n",
    "    stateMath.update({stateNames[i]:math[i]})\n",
    "    "
   ]
  },
  {
   "cell_type": "markdown",
   "metadata": {},
   "source": [
    "##### 11. Create a dictionary with the values for each of the numeric columns"
   ]
  },
  {
   "cell_type": "code",
   "execution_count": 70,
   "metadata": {
    "collapsed": false
   },
   "outputs": [],
   "source": [
    "columnDic.update({\"rates\":rates})\n",
    "columnDic.update({\"verbal\":verbal})\n",
    "columnDic.update({\"math\":math})"
   ]
  },
  {
   "cell_type": "markdown",
   "metadata": {},
   "source": [
    "## Step 3: Describe the data"
   ]
  },
  {
   "cell_type": "markdown",
   "metadata": {},
   "source": [
    "##### 12. Print the min and max of each column"
   ]
  },
  {
   "cell_type": "code",
   "execution_count": 176,
   "metadata": {
    "collapsed": false
   },
   "outputs": [
    {
     "name": "stdout",
     "output_type": "stream",
     "text": [
      " Min rate:  4 , Max rate:  82\n",
      "Min verbal:  482 , Max verbal:  593\n",
      "Min math:  439 , Max verbal:  593\n",
      "\n",
      "\n",
      "Mean math:  531.843137255\n",
      "Mean verbal:  532.529411765\n",
      "Mean rate:  37.0\n",
      "\n",
      "\n",
      "Median math:  525.0\n",
      "Median verbal:  527.0\n",
      "Median rate:  33.0\n",
      "\n",
      "\n",
      "Mode math:  ModeResult(mode=array([499]), count=array([6]))\n",
      "Mode verbal:  ModeResult(mode=array([562]), count=array([3]))\n",
      "Mode rate:  ModeResult(mode=array([4]), count=array([3]))\n"
     ]
    }
   ],
   "source": [
    "print \"Min rate: \", min(rates), \", Max rate: \", max(rates)\n",
    "print \"Min verbal: \", min(verbal), \", Max verbal: \", max(verbal)\n",
    "print \"Min math: \", min(math), \", Max verbal: \", max(verbal)\n",
    "print \"\\n\"\n",
    "print \"Mean math: \", np.mean(math)\n",
    "print \"Mean verbal: \", np.mean(verbal)\n",
    "print \"Mean rate: \", np.mean(rates)\n",
    "print \"\\n\"\n",
    "print \"Median math: \", np.median(math)\n",
    "print \"Median verbal: \", np.median(verbal)\n",
    "print \"Median rate: \", np. median(rates)\n",
    "print \"\\n\"\n",
    "print \"Mode math: \", sp.mode(math)\n",
    "print \"Mode verbal: \", sp.mode(verbal)\n",
    "print \"Mode rate: \", sp.mode(rates)"
   ]
  },
  {
   "cell_type": "markdown",
   "metadata": {},
   "source": [
    "##### 13. Write a function using only list comprehensions, no loops, to compute Standard Deviation. Print the Standard Deviation of each numeric column."
   ]
  },
  {
   "cell_type": "code",
   "execution_count": 75,
   "metadata": {
    "collapsed": false
   },
   "outputs": [
    {
     "name": "stdout",
     "output_type": "stream",
     "text": [
      "StDev rate:  27.2792386761\n",
      "StDev verbal:  33.0319826842\n",
      "StDev math:  35.9298731731\n"
     ]
    }
   ],
   "source": [
    "print \"StDev rate: \", np.std(rates)\n",
    "print \"StDev verbal: \", np.std(verbal)\n",
    "print \"StDev math: \", np.std(math)"
   ]
  },
  {
   "cell_type": "markdown",
   "metadata": {},
   "source": [
    "## Step 4: Visualize the data"
   ]
  },
  {
   "cell_type": "markdown",
   "metadata": {
    "collapsed": true
   },
   "source": [
    "##### 14. Using MatPlotLib and PyPlot, plot the distribution of the Rate using histograms."
   ]
  },
  {
   "cell_type": "code",
   "execution_count": 155,
   "metadata": {
    "collapsed": false
   },
   "outputs": [
    {
     "data": {
      "text/plain": [
       "(0, 18)"
      ]
     },
     "execution_count": 155,
     "metadata": {},
     "output_type": "execute_result"
    },
    {
     "data": {
      "image/png": "[encoded data removed]",
      "text/plain": [
       "<matplotlib.figure.Figure at 0x11e597910>"
      ]
     },
     "metadata": {},
     "output_type": "display_data"
    }
   ],
   "source": [
    "histRates = plt.hist(rates)\n",
    "plt.ylabel(\"Frequency\")\n",
    "plt.xlabel(\"% of Students Taking SAT\")\n",
    "plt.title(\"Distribution of SAT Rates\")\n",
    "plt.ylim((0,18))\n"
   ]
  },
  {
   "cell_type": "markdown",
   "metadata": {},
   "source": [
    "##### 15. Plot the Math distribution"
   ]
  },
  {
   "cell_type": "code",
   "execution_count": 80,
   "metadata": {
    "collapsed": false
   },
   "outputs": [
    {
     "data": {
      "text/plain": [
       "(0, 13)"
      ]
     },
     "execution_count": 80,
     "metadata": {},
     "output_type": "execute_result"
    },
    {
     "data": {
      "image/png": "[encoded data removed]",
      "text/plain": [
       "<matplotlib.figure.Figure at 0x11c5f4810>"
      ]
     },
     "metadata": {},
     "output_type": "display_data"
    }
   ],
   "source": [
    "plt.hist(math)\n",
    "plt.ylabel(\"Frequency\")\n",
    "plt.xlabel(\"Average SAT Math Scores\")\n",
    "plt.title(\"Distribution of SAT Math Scores\")\n",
    "plt.ylim((0,13))"
   ]
  },
  {
   "cell_type": "markdown",
   "metadata": {},
   "source": [
    "##### 16. Plot the Verbal distribution"
   ]
  },
  {
   "cell_type": "code",
   "execution_count": 81,
   "metadata": {
    "collapsed": false
   },
   "outputs": [
    {
     "data": {
      "text/plain": [
       "(475, 600)"
      ]
     },
     "execution_count": 81,
     "metadata": {},
     "output_type": "execute_result"
    },
    {
     "data": {
      "image/png": "[encoded data removed]",
      "text/plain": [
       "<matplotlib.figure.Figure at 0x11c4192d0>"
      ]
     },
     "metadata": {},
     "output_type": "display_data"
    }
   ],
   "source": [
    "plt.hist(verbal)\n",
    "plt.ylabel(\"Frequency\")\n",
    "plt.xlabel(\"Average SAT Verbal Scores\")\n",
    "plt.title(\"Distribution of SAT Verbal Scores\")\n",
    "plt.ylim((0,10))\n",
    "plt.xlim((475,600))"
   ]
  },
  {
   "cell_type": "markdown",
   "metadata": {},
   "source": [
    "##### 17. What is the typical assumption for data distribution?"
   ]
  },
  {
   "cell_type": "markdown",
   "metadata": {
    "collapsed": false
   },
   "source": [
    "Normal distribution. "
   ]
  },
  {
   "cell_type": "markdown",
   "metadata": {},
   "source": [
    "##### 18. Does that distribution hold true for our data?"
   ]
  },
  {
   "cell_type": "markdown",
   "metadata": {
    "collapsed": false
   },
   "source": [
    "None of these distributions are normal, and the distributions of rate and verbal are particularly non-normal."
   ]
  },
  {
   "cell_type": "markdown",
   "metadata": {},
   "source": [
    "##### 19. Plot some scatterplots. **BONUS**: Use a PyPlot `figure` to present multiple plots at once."
   ]
  },
  {
   "cell_type": "code",
   "execution_count": 177,
   "metadata": {
    "collapsed": false
   },
   "outputs": [
    {
     "name": "stdout",
     "output_type": "stream",
     "text": [
      "[[ 1.          0.89990932]\n",
      " [ 0.89990932  1.        ]]\n",
      "[[ 1.         -0.77341925]\n",
      " [-0.77341925  1.        ]]\n",
      "[[ 1.         -0.88812091]\n",
      " [-0.88812091  1.        ]]\n"
     ]
    },
    {
     "data": {
      "image/png": "[encoded data removed]",
      "text/plain": [
       "<matplotlib.figure.Figure at 0x1207cf7d0>"
      ]
     },
     "metadata": {},
     "output_type": "display_data"
    },
    {
     "data": {
      "image/png": "[encoded data removed]",
      "text/plain": [
       "<matplotlib.figure.Figure at 0x11c6b2a50>"
      ]
     },
     "metadata": {},
     "output_type": "display_data"
    },
    {
     "data": {
      "image/png": "[encoded data removed]",
      "text/plain": [
       "<matplotlib.figure.Figure at 0x11d72cbd0>"
      ]
     },
     "metadata": {},
     "output_type": "display_data"
    }
   ],
   "source": [
    "fig1 = plt.figure()\n",
    "ax = fig1.add_subplot(111)\n",
    "ax.set(title = \"SAT Math vs Verbal Scores\",\n",
    "       ylabel = \"Average Verbal Scores\",\n",
    "       xlabel = \"Average Math Scores\")\n",
    "ax.scatter(math, verbal, marker = \"o\")\n",
    "     \n",
    "fig2 = plt.figure()\n",
    "ax2 = fig2.add_subplot(111)\n",
    "ax2.set(title = \"SAT Rate vs Math Scores\",\n",
    "       ylabel = \"SAT Rate\",\n",
    "       xlabel = \"Average Math Scores\")\n",
    "ax2.scatter(math, rates, marker = \"o\")\n",
    "\n",
    "fig3 = plt.figure()\n",
    "ax3 = fig3.add_subplot(111)\n",
    "ax3.set(title = \"SAT Rate vs Verbal Scores\",\n",
    "       ylabel = \"SAT Rate\",\n",
    "       xlabel = \"Average Verbal Scores\")\n",
    "ax3.scatter(verbal, rates, marker = \"o\")\n",
    "\n",
    "print np.corrcoef(math, verbal)\n",
    "print np.corrcoef(math, rates)\n",
    "print np.corrcoef(verbal, rates)"
   ]
  },
  {
   "cell_type": "markdown",
   "metadata": {},
   "source": [
    "##### 20. Are there any interesting relationships to note?"
   ]
  },
  {
   "cell_type": "markdown",
   "metadata": {
    "collapsed": false
   },
   "source": [
    "Unsurprisingly, SAT math and verbal scores correlate strongly and positively (r = 0.90). SAT math and verbal scores both correlate negatively with SAT rates (r = -0.77 and r = -0.89, respectively). It is very plausible that this effect is due to state-wide preference for the SAT vs the ACT. In states where the ACT is dominant, it is possible that only the best students take the SAT (which some scholars believe to be the more rigorous test), whereas most students in a SAT-dominant state take the SAT. \n",
    "\n"
   ]
  },
  {
   "cell_type": "markdown",
   "metadata": {},
   "source": [
    "##### 21. Create box plots for each variable. "
   ]
  },
  {
   "cell_type": "code",
   "execution_count": 171,
   "metadata": {
    "collapsed": false
   },
   "outputs": [
    {
     "data": {
      "image/png": "[encoded data removed]",
      "text/plain": [
       "<matplotlib.figure.Figure at 0x1201e5250>"
      ]
     },
     "metadata": {},
     "output_type": "display_data"
    },
    {
     "data": {
      "image/png": "[encoded data removed]",
      "text/plain": [
       "<matplotlib.figure.Figure at 0x11fd614d0>"
      ]
     },
     "metadata": {},
     "output_type": "display_data"
    }
   ],
   "source": [
    "# fig4 = plt.figure()\n",
    "# ax4 = fig.add_subplot(111)\n",
    "# ax4.set(title = \"SAT Math\",\n",
    "#        ylabel = \"math\",\n",
    "#        xlabel = \"other math\")\n",
    "# sns.boxplot(x=\"x\", y=\"y\", data=math)\n",
    "# plt.show()\n",
    "\n",
    "# # sns.boxplot(math)\n",
    "\n",
    "# sns.set_style(\"whitegrid\")\n",
    "# math = sns.load_dataset(\"math\")\n",
    "# ax4 = sns.boxplot(x=math[\"Math\"])\n",
    "\n",
    "fig4 = plt.figure()\n",
    "ax4 = fig4.add_subplot(111)\n",
    "ax4.set(title = \"SAT Math and Verbal Scores\",\n",
    "       ylabel = \"\",\n",
    "       xlabel = \"Math (left) Verbal(right)\")\n",
    "ax4.boxplot([math, verbal])\n",
    "plt.show()\n",
    "\n",
    "fig5 = plt.figure()\n",
    "ax5 = fig5.add_subplot(111)\n",
    "ax5.set(title = \"Rate of Students Taking SAT\",\n",
    "       ylabel = \"\",\n",
    "       xlabel = \"Rate\")\n",
    "ax5.boxplot([rates])\n",
    "plt.show()"
   ]
  },
  {
   "cell_type": "markdown",
   "metadata": {},
   "source": [
    "##### BONUS: Using Tableau, create a heat map for each variable using a map of the US. "
   ]
  },
  {
   "cell_type": "markdown",
   "metadata": {},
   "source": [
    "See blog post at: http://myadventuresindata.blogspot.com/2016/10/musings-on-sat-scores.html\n",
    "\n",
    "\n",
    "For the time being, create the visualization in Tableau and load the image inline within your notebook:\n",
    "\n",
    "The following are heat maps for SAT Math scores, SAT Verbal scores, and the rate of highschool students taking the SAT for the lower 48 states.\n",
    "\n",
    "![](../assets/sat_math_lower48.png)\n",
    "\n",
    "![](../assets/sat_verbal_lower48.png)\n",
    "\n",
    "![](../assets/sat_rate_lower48.png)"
   ]
  },
  {
   "cell_type": "code",
   "execution_count": null,
   "metadata": {
    "collapsed": false
   },
   "outputs": [],
   "source": []
  },
  {
   "cell_type": "code",
   "execution_count": null,
   "metadata": {
    "collapsed": true
   },
   "outputs": [],
   "source": []
  }
 ],
 "metadata": {
  "anaconda-cloud": {},
  "kernelspec": {
   "display_name": "Python [Root]",
   "language": "python",
   "name": "Python [Root]"
  },
  "language_info": {
   "codemirror_mode": {
    "name": "ipython",
    "version": 2
   },
   "file_extension": ".py",
   "mimetype": "text/x-python",
   "name": "python",
   "nbconvert_exporter": "python",
   "pygments_lexer": "ipython2",
   "version": "2.7.12"
  }
 },
 "nbformat": 4,
 "nbformat_minor": 0
}
