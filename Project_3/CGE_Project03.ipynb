{
 "cells": [
  {
   "cell_type": "markdown",
   "metadata": {},
   "source": [
    "# Getting started\n",
    "\n",
    "Once you've chosen your scenario, download the data from [the Iowa website](https://data.iowa.gov/Economy/Iowa-Liquor-Sales/m3tr-qhgy) in csv format. Start by loading the data with pandas. You may need to parse the date columns appropriately."
   ]
  },
  {
   "cell_type": "code",
   "execution_count": 28,
   "metadata": {
    "collapsed": true
   },
   "outputs": [],
   "source": [
    "import datetime\n",
    "import math\n",
    "import numpy as np\n",
    "import matplotlib\n",
    "import matplotlib.pyplot as plt\n",
    "import scipy as sp\n",
    "%matplotlib inline"
   ]
  },
  {
   "cell_type": "code",
   "execution_count": 4,
   "metadata": {
    "collapsed": true
   },
   "outputs": [
    {
     "name": "stderr",
     "output_type": "stream",
     "text": [
      "/Users/christophereppig/anaconda/lib/python2.7/site-packages/IPython/core/interactiveshell.py:2723: DtypeWarning: Columns (3) have mixed types. Specify dtype option on import or set low_memory=False.\n",
      "  interactivity=interactivity, compiler=compiler, result=result)\n"
     ]
    }
   ],
   "source": [
    "import pandas as pd\n",
    "\n",
    "\n",
    "## Load the data into a DataFrame\n",
    "# pd.read_csv()\n",
    "iowa = pd.read_csv('../../../../../Project03/Iowa_liquor_sales_reduced.csv')\n",
    "## Transform the dates if needed, e.g.\n"
   ]
  },
  {
   "cell_type": "markdown",
   "metadata": {},
   "source": [
    "## The Problem:\n",
    "\n",
    "This project will use available data to create the best possible model to predict number of bottles sold per Iowan county. The best model will have a high predictive power without over-fitting."
   ]
  },
  {
   "cell_type": "code",
   "execution_count": 5,
   "metadata": {
    "collapsed": false
   },
   "outputs": [],
   "source": [
    "iowa['Date'] = iowa['Date'].apply(str)"
   ]
  },
  {
   "cell_type": "code",
   "execution_count": 82,
   "metadata": {
    "collapsed": false,
    "scrolled": false
   },
   "outputs": [
    {
     "data": {
      "text/html": [
       "<div>\n",
       "<table border=\"1\" class=\"dataframe\">\n",
       "  <thead>\n",
       "    <tr style=\"text-align: right;\">\n",
       "      <th></th>\n",
       "      <th>Date</th>\n",
       "      <th>Store Number</th>\n",
       "      <th>City</th>\n",
       "      <th>Zip Code</th>\n",
       "      <th>County Number</th>\n",
       "      <th>County</th>\n",
       "      <th>Category</th>\n",
       "      <th>Category Name</th>\n",
       "      <th>Vendor Number</th>\n",
       "      <th>Item Number</th>\n",
       "      <th>...</th>\n",
       "      <th>Bottle Volume (ml)</th>\n",
       "      <th>State Bottle Cost</th>\n",
       "      <th>State Bottle Retail</th>\n",
       "      <th>Bottles Sold</th>\n",
       "      <th>Sale (Dollars)</th>\n",
       "      <th>Volume Sold (Liters)</th>\n",
       "      <th>Volume Sold (Gallons)</th>\n",
       "      <th>Sale Profit</th>\n",
       "      <th>Profit Per Gallon</th>\n",
       "      <th>Price Per Gallon</th>\n",
       "    </tr>\n",
       "  </thead>\n",
       "  <tbody>\n",
       "    <tr>\n",
       "      <th>0</th>\n",
       "      <td>2016-03-31</td>\n",
       "      <td>5029</td>\n",
       "      <td>DAVENPORT</td>\n",
       "      <td>52806</td>\n",
       "      <td>82.0</td>\n",
       "      <td>Scott</td>\n",
       "      <td>1022100.0</td>\n",
       "      <td>TEQUILA</td>\n",
       "      <td>370</td>\n",
       "      <td>87152</td>\n",
       "      <td>...</td>\n",
       "      <td>375</td>\n",
       "      <td>9.99</td>\n",
       "      <td>14.99</td>\n",
       "      <td>12</td>\n",
       "      <td>179.88</td>\n",
       "      <td>4.5</td>\n",
       "      <td>1.19</td>\n",
       "      <td>60.00</td>\n",
       "      <td>50.420168</td>\n",
       "      <td>151.159664</td>\n",
       "    </tr>\n",
       "    <tr>\n",
       "      <th>1</th>\n",
       "      <td>2016-03-31</td>\n",
       "      <td>5029</td>\n",
       "      <td>DAVENPORT</td>\n",
       "      <td>52806</td>\n",
       "      <td>82.0</td>\n",
       "      <td>Scott</td>\n",
       "      <td>1022100.0</td>\n",
       "      <td>TEQUILA</td>\n",
       "      <td>395</td>\n",
       "      <td>89197</td>\n",
       "      <td>...</td>\n",
       "      <td>1000</td>\n",
       "      <td>12.50</td>\n",
       "      <td>18.75</td>\n",
       "      <td>2</td>\n",
       "      <td>37.50</td>\n",
       "      <td>2.0</td>\n",
       "      <td>0.53</td>\n",
       "      <td>12.50</td>\n",
       "      <td>23.584906</td>\n",
       "      <td>70.754717</td>\n",
       "    </tr>\n",
       "    <tr>\n",
       "      <th>2</th>\n",
       "      <td>2016-03-31</td>\n",
       "      <td>4959</td>\n",
       "      <td>CEDAR FALLS</td>\n",
       "      <td>50613</td>\n",
       "      <td>7.0</td>\n",
       "      <td>Black Hawk</td>\n",
       "      <td>1071100.0</td>\n",
       "      <td>AMERICAN COCKTAILS</td>\n",
       "      <td>380</td>\n",
       "      <td>63959</td>\n",
       "      <td>...</td>\n",
       "      <td>1750</td>\n",
       "      <td>5.97</td>\n",
       "      <td>8.96</td>\n",
       "      <td>6</td>\n",
       "      <td>53.76</td>\n",
       "      <td>10.5</td>\n",
       "      <td>2.77</td>\n",
       "      <td>17.94</td>\n",
       "      <td>6.476534</td>\n",
       "      <td>19.407942</td>\n",
       "    </tr>\n",
       "    <tr>\n",
       "      <th>3</th>\n",
       "      <td>2016-03-31</td>\n",
       "      <td>2190</td>\n",
       "      <td>DES MOINES</td>\n",
       "      <td>50314</td>\n",
       "      <td>77.0</td>\n",
       "      <td>Polk</td>\n",
       "      <td>1031200.0</td>\n",
       "      <td>VODKA FLAVORED</td>\n",
       "      <td>205</td>\n",
       "      <td>40597</td>\n",
       "      <td>...</td>\n",
       "      <td>200</td>\n",
       "      <td>2.24</td>\n",
       "      <td>3.36</td>\n",
       "      <td>48</td>\n",
       "      <td>161.28</td>\n",
       "      <td>9.6</td>\n",
       "      <td>2.54</td>\n",
       "      <td>53.76</td>\n",
       "      <td>21.165354</td>\n",
       "      <td>63.496063</td>\n",
       "    </tr>\n",
       "    <tr>\n",
       "      <th>4</th>\n",
       "      <td>2016-03-31</td>\n",
       "      <td>5240</td>\n",
       "      <td>WEST BRANCH</td>\n",
       "      <td>52358</td>\n",
       "      <td>NaN</td>\n",
       "      <td>NaN</td>\n",
       "      <td>1081200.0</td>\n",
       "      <td>CREAM LIQUEURS</td>\n",
       "      <td>305</td>\n",
       "      <td>73055</td>\n",
       "      <td>...</td>\n",
       "      <td>750</td>\n",
       "      <td>12.50</td>\n",
       "      <td>18.75</td>\n",
       "      <td>6</td>\n",
       "      <td>112.50</td>\n",
       "      <td>4.5</td>\n",
       "      <td>1.19</td>\n",
       "      <td>37.50</td>\n",
       "      <td>31.512605</td>\n",
       "      <td>94.537815</td>\n",
       "    </tr>\n",
       "  </tbody>\n",
       "</table>\n",
       "<p>5 rows × 21 columns</p>\n",
       "</div>"
      ],
      "text/plain": [
       "        Date  Store Number         City Zip Code  County Number      County  \\\n",
       "0 2016-03-31          5029    DAVENPORT    52806           82.0       Scott   \n",
       "1 2016-03-31          5029    DAVENPORT    52806           82.0       Scott   \n",
       "2 2016-03-31          4959  CEDAR FALLS    50613            7.0  Black Hawk   \n",
       "3 2016-03-31          2190   DES MOINES    50314           77.0        Polk   \n",
       "4 2016-03-31          5240  WEST BRANCH    52358            NaN         NaN   \n",
       "\n",
       "    Category       Category Name  Vendor Number  Item Number  \\\n",
       "0  1022100.0             TEQUILA            370        87152   \n",
       "1  1022100.0             TEQUILA            395        89197   \n",
       "2  1071100.0  AMERICAN COCKTAILS            380        63959   \n",
       "3  1031200.0      VODKA FLAVORED            205        40597   \n",
       "4  1081200.0      CREAM LIQUEURS            305        73055   \n",
       "\n",
       "         ...        Bottle Volume (ml)  State Bottle Cost  \\\n",
       "0        ...                       375               9.99   \n",
       "1        ...                      1000              12.50   \n",
       "2        ...                      1750               5.97   \n",
       "3        ...                       200               2.24   \n",
       "4        ...                       750              12.50   \n",
       "\n",
       "   State Bottle Retail  Bottles Sold  Sale (Dollars)  Volume Sold (Liters)  \\\n",
       "0                14.99            12          179.88                   4.5   \n",
       "1                18.75             2           37.50                   2.0   \n",
       "2                 8.96             6           53.76                  10.5   \n",
       "3                 3.36            48          161.28                   9.6   \n",
       "4                18.75             6          112.50                   4.5   \n",
       "\n",
       "   Volume Sold (Gallons)  Sale Profit  Profit Per Gallon  Price Per Gallon  \n",
       "0                   1.19        60.00          50.420168        151.159664  \n",
       "1                   0.53        12.50          23.584906         70.754717  \n",
       "2                   2.77        17.94           6.476534         19.407942  \n",
       "3                   2.54        53.76          21.165354         63.496063  \n",
       "4                   1.19        37.50          31.512605         94.537815  \n",
       "\n",
       "[5 rows x 21 columns]"
      ]
     },
     "execution_count": 82,
     "metadata": {},
     "output_type": "execute_result"
    }
   ],
   "source": [
    "iowa.head(5)"
   ]
  },
  {
   "cell_type": "code",
   "execution_count": 168,
   "metadata": {
    "collapsed": false,
    "scrolled": true
   },
   "outputs": [
    {
     "name": "stdout",
     "output_type": "stream",
     "text": [
      "There are 771 zip codes in Iowa.\n"
     ]
    }
   ],
   "source": [
    "print 'There are %s zip codes in Iowa.' % len(set(iowa['Zip Code']))"
   ]
  },
  {
   "cell_type": "code",
   "execution_count": 169,
   "metadata": {
    "collapsed": false,
    "scrolled": true
   },
   "outputs": [
    {
     "name": "stdout",
     "output_type": "stream",
     "text": [
      "There are 386 cities in Iowa.\n"
     ]
    }
   ],
   "source": [
    "print \"There are %s cities in Iowa.\" % len(set(iowa['City']))"
   ]
  },
  {
   "cell_type": "code",
   "execution_count": 170,
   "metadata": {
    "collapsed": false,
    "scrolled": true
   },
   "outputs": [
    {
     "name": "stdout",
     "output_type": "stream",
     "text": [
      "There are 1403 stores licensed to sell liquor in Iowa.\n"
     ]
    }
   ],
   "source": [
    "print \"There are %s stores licensed to sell liquor in Iowa.\" % len(set(iowa['Store Number']))"
   ]
  },
  {
   "cell_type": "code",
   "execution_count": 171,
   "metadata": {
    "collapsed": false
   },
   "outputs": [
    {
     "name": "stdout",
     "output_type": "stream",
     "text": [
      "There are 100 counties in Iowa.\n"
     ]
    }
   ],
   "source": [
    "print \"There are %s counties in Iowa.\" % len(set(iowa['County']))"
   ]
  },
  {
   "cell_type": "code",
   "execution_count": 6,
   "metadata": {
    "collapsed": false
   },
   "outputs": [],
   "source": [
    "countynas = iowa['County Number'].apply(math.isnan) # looks for NaN in \"County Numer\""
   ]
  },
  {
   "cell_type": "code",
   "execution_count": 7,
   "metadata": {
    "collapsed": false
   },
   "outputs": [
    {
     "data": {
      "text/plain": [
       "10913"
      ]
     },
     "execution_count": 7,
     "metadata": {},
     "output_type": "execute_result"
    }
   ],
   "source": [
    "sum(countynas) # counts the number of NaN in \"County Number\""
   ]
  },
  {
   "cell_type": "code",
   "execution_count": 8,
   "metadata": {
    "collapsed": true
   },
   "outputs": [],
   "source": [
    "def bleach(string):\n",
    "    temp = \"\"\n",
    "    string = str(string)\n",
    "    for i in string:\n",
    "        if i in [\"1\",\"2\",\"3\",\"4\",\"5\",\"6\",\"7\",\"8\",\"9\",\"0\", \".\"]:\n",
    "            temp += i\n",
    "    if len(temp) > 0:\n",
    "        return float(temp)"
   ]
  },
  {
   "cell_type": "code",
   "execution_count": 9,
   "metadata": {
    "collapsed": false
   },
   "outputs": [],
   "source": [
    "iowa['State Bottle Cost'] = iowa['State Bottle Cost'].apply(bleach)\n",
    "iowa['State Bottle Retail'] = iowa['State Bottle Retail'].apply(bleach)\n",
    "iowa['Sale (Dollars)'] = iowa['Sale (Dollars)'].apply(bleach)"
   ]
  },
  {
   "cell_type": "code",
   "execution_count": 10,
   "metadata": {
    "collapsed": false
   },
   "outputs": [],
   "source": [
    "iowa['Sale Profit'] = (iowa['State Bottle Retail'] - iowa['State Bottle Cost']) * iowa['Bottles Sold']\n",
    "iowa['Profit Per Gallon'] = iowa['Sale Profit'] / iowa['Volume Sold (Gallons)']\n",
    "iowa['Price Per Gallon'] = iowa['Sale (Dollars)'] / iowa['Volume Sold (Gallons)']"
   ]
  },
  {
   "cell_type": "code",
   "execution_count": 11,
   "metadata": {
    "collapsed": false
   },
   "outputs": [
    {
     "data": {
      "text/plain": [
       "Index([u'Date', u'Store Number', u'City', u'Zip Code', u'County Number',\n",
       "       u'County', u'Category', u'Category Name', u'Vendor Number',\n",
       "       u'Item Number', u'Item Description', u'Bottle Volume (ml)',\n",
       "       u'State Bottle Cost', u'State Bottle Retail', u'Bottles Sold',\n",
       "       u'Sale (Dollars)', u'Volume Sold (Liters)', u'Volume Sold (Gallons)',\n",
       "       u'Sale Profit', u'Profit Per Gallon', u'Price Per Gallon'],\n",
       "      dtype='object')"
      ]
     },
     "execution_count": 11,
     "metadata": {},
     "output_type": "execute_result"
    }
   ],
   "source": [
    "iowa.columns"
   ]
  },
  {
   "cell_type": "code",
   "execution_count": 12,
   "metadata": {
    "collapsed": false
   },
   "outputs": [],
   "source": [
    "iowa['Date'] = iowa['Date'].apply(str)"
   ]
  },
  {
   "cell_type": "code",
   "execution_count": 13,
   "metadata": {
    "collapsed": false
   },
   "outputs": [],
   "source": [
    "iowa[\"Date\"] = pd.to_datetime(iowa[\"Date\"], format=\"%m/%d/%Y\") ## check syntax on date. will %m/%d/%y work?"
   ]
  },
  {
   "cell_type": "code",
   "execution_count": 20,
   "metadata": {
    "collapsed": false,
    "scrolled": false
   },
   "outputs": [
    {
     "data": {
      "text/html": [
       "<div>\n",
       "<table border=\"1\" class=\"dataframe\">\n",
       "  <thead>\n",
       "    <tr style=\"text-align: right;\">\n",
       "      <th></th>\n",
       "      <th>Date</th>\n",
       "      <th>Store Number</th>\n",
       "      <th>City</th>\n",
       "      <th>Zip Code</th>\n",
       "      <th>County Number</th>\n",
       "      <th>County</th>\n",
       "      <th>Category</th>\n",
       "      <th>Category Name</th>\n",
       "      <th>Vendor Number</th>\n",
       "      <th>Item Number</th>\n",
       "      <th>...</th>\n",
       "      <th>Bottle Volume (ml)</th>\n",
       "      <th>State Bottle Cost</th>\n",
       "      <th>State Bottle Retail</th>\n",
       "      <th>Bottles Sold</th>\n",
       "      <th>Sale (Dollars)</th>\n",
       "      <th>Volume Sold (Liters)</th>\n",
       "      <th>Volume Sold (Gallons)</th>\n",
       "      <th>Sale Profit</th>\n",
       "      <th>Profit Per Gallon</th>\n",
       "      <th>Price Per Gallon</th>\n",
       "    </tr>\n",
       "  </thead>\n",
       "  <tbody>\n",
       "    <tr>\n",
       "      <th>0</th>\n",
       "      <td>2016-03-31</td>\n",
       "      <td>5029</td>\n",
       "      <td>DAVENPORT</td>\n",
       "      <td>52806</td>\n",
       "      <td>82.0</td>\n",
       "      <td>Scott</td>\n",
       "      <td>1022100.0</td>\n",
       "      <td>TEQUILA</td>\n",
       "      <td>370</td>\n",
       "      <td>87152</td>\n",
       "      <td>...</td>\n",
       "      <td>375</td>\n",
       "      <td>9.99</td>\n",
       "      <td>14.99</td>\n",
       "      <td>12</td>\n",
       "      <td>179.88</td>\n",
       "      <td>4.5</td>\n",
       "      <td>1.19</td>\n",
       "      <td>60.00</td>\n",
       "      <td>50.420168</td>\n",
       "      <td>151.159664</td>\n",
       "    </tr>\n",
       "    <tr>\n",
       "      <th>1</th>\n",
       "      <td>2016-03-31</td>\n",
       "      <td>5029</td>\n",
       "      <td>DAVENPORT</td>\n",
       "      <td>52806</td>\n",
       "      <td>82.0</td>\n",
       "      <td>Scott</td>\n",
       "      <td>1022100.0</td>\n",
       "      <td>TEQUILA</td>\n",
       "      <td>395</td>\n",
       "      <td>89197</td>\n",
       "      <td>...</td>\n",
       "      <td>1000</td>\n",
       "      <td>12.50</td>\n",
       "      <td>18.75</td>\n",
       "      <td>2</td>\n",
       "      <td>37.50</td>\n",
       "      <td>2.0</td>\n",
       "      <td>0.53</td>\n",
       "      <td>12.50</td>\n",
       "      <td>23.584906</td>\n",
       "      <td>70.754717</td>\n",
       "    </tr>\n",
       "    <tr>\n",
       "      <th>2</th>\n",
       "      <td>2016-03-31</td>\n",
       "      <td>4959</td>\n",
       "      <td>CEDAR FALLS</td>\n",
       "      <td>50613</td>\n",
       "      <td>7.0</td>\n",
       "      <td>Black Hawk</td>\n",
       "      <td>1071100.0</td>\n",
       "      <td>AMERICAN COCKTAILS</td>\n",
       "      <td>380</td>\n",
       "      <td>63959</td>\n",
       "      <td>...</td>\n",
       "      <td>1750</td>\n",
       "      <td>5.97</td>\n",
       "      <td>8.96</td>\n",
       "      <td>6</td>\n",
       "      <td>53.76</td>\n",
       "      <td>10.5</td>\n",
       "      <td>2.77</td>\n",
       "      <td>17.94</td>\n",
       "      <td>6.476534</td>\n",
       "      <td>19.407942</td>\n",
       "    </tr>\n",
       "  </tbody>\n",
       "</table>\n",
       "<p>3 rows × 21 columns</p>\n",
       "</div>"
      ],
      "text/plain": [
       "        Date  Store Number         City Zip Code  County Number      County  \\\n",
       "0 2016-03-31          5029    DAVENPORT    52806           82.0       Scott   \n",
       "1 2016-03-31          5029    DAVENPORT    52806           82.0       Scott   \n",
       "2 2016-03-31          4959  CEDAR FALLS    50613            7.0  Black Hawk   \n",
       "\n",
       "    Category       Category Name  Vendor Number  Item Number  \\\n",
       "0  1022100.0             TEQUILA            370        87152   \n",
       "1  1022100.0             TEQUILA            395        89197   \n",
       "2  1071100.0  AMERICAN COCKTAILS            380        63959   \n",
       "\n",
       "         ...        Bottle Volume (ml)  State Bottle Cost  \\\n",
       "0        ...                       375               9.99   \n",
       "1        ...                      1000              12.50   \n",
       "2        ...                      1750               5.97   \n",
       "\n",
       "   State Bottle Retail  Bottles Sold  Sale (Dollars)  Volume Sold (Liters)  \\\n",
       "0                14.99            12          179.88                   4.5   \n",
       "1                18.75             2           37.50                   2.0   \n",
       "2                 8.96             6           53.76                  10.5   \n",
       "\n",
       "   Volume Sold (Gallons)  Sale Profit  Profit Per Gallon  Price Per Gallon  \n",
       "0                   1.19        60.00          50.420168        151.159664  \n",
       "1                   0.53        12.50          23.584906         70.754717  \n",
       "2                   2.77        17.94           6.476534         19.407942  \n",
       "\n",
       "[3 rows x 21 columns]"
      ]
     },
     "execution_count": 20,
     "metadata": {},
     "output_type": "execute_result"
    }
   ],
   "source": [
    "iowa.head(3)"
   ]
  },
  {
   "cell_type": "code",
   "execution_count": 230,
   "metadata": {
    "collapsed": false
   },
   "outputs": [],
   "source": [
    "liquor_types = pd.pivot_table(iowa, index=['Category Name', 'Item Description'],\n",
    "                             values=['Bottles Sold', 'Sale Profit', 'Sale (Dollars)'],\n",
    "                             aggfunc=(sum))\n"
   ]
  },
  {
   "cell_type": "code",
   "execution_count": 231,
   "metadata": {
    "collapsed": true
   },
   "outputs": [],
   "source": [
    "liquor_types = liquor_types.reset_index()"
   ]
  },
  {
   "cell_type": "code",
   "execution_count": 233,
   "metadata": {
    "collapsed": false
   },
   "outputs": [
    {
     "data": {
      "text/html": [
       "<div>\n",
       "<table border=\"1\" class=\"dataframe\">\n",
       "  <thead>\n",
       "    <tr style=\"text-align: right;\">\n",
       "      <th></th>\n",
       "      <th>Category Name</th>\n",
       "      <th>Item Description</th>\n",
       "      <th>Bottles Sold</th>\n",
       "      <th>Sale (Dollars)</th>\n",
       "      <th>Sale Profit</th>\n",
       "    </tr>\n",
       "  </thead>\n",
       "  <tbody>\n",
       "    <tr>\n",
       "      <th>0</th>\n",
       "      <td>100 PROOF VODKA</td>\n",
       "      <td>Barton Vodka</td>\n",
       "      <td>547</td>\n",
       "      <td>929.90</td>\n",
       "      <td>311.79</td>\n",
       "    </tr>\n",
       "    <tr>\n",
       "      <th>1</th>\n",
       "      <td>100 PROOF VODKA</td>\n",
       "      <td>Blaum Bros. Vodka</td>\n",
       "      <td>16</td>\n",
       "      <td>336.00</td>\n",
       "      <td>112.00</td>\n",
       "    </tr>\n",
       "    <tr>\n",
       "      <th>2</th>\n",
       "      <td>100 PROOF VODKA</td>\n",
       "      <td>Burnett's  Orange</td>\n",
       "      <td>24</td>\n",
       "      <td>207.12</td>\n",
       "      <td>69.12</td>\n",
       "    </tr>\n",
       "    <tr>\n",
       "      <th>3</th>\n",
       "      <td>100 PROOF VODKA</td>\n",
       "      <td>Burnett's  Pink Lemonade</td>\n",
       "      <td>12</td>\n",
       "      <td>176.28</td>\n",
       "      <td>58.80</td>\n",
       "    </tr>\n",
       "    <tr>\n",
       "      <th>4</th>\n",
       "      <td>100 PROOF VODKA</td>\n",
       "      <td>Burnett's Mango Pineapple</td>\n",
       "      <td>24</td>\n",
       "      <td>207.12</td>\n",
       "      <td>69.12</td>\n",
       "    </tr>\n",
       "  </tbody>\n",
       "</table>\n",
       "</div>"
      ],
      "text/plain": [
       "     Category Name           Item Description  Bottles Sold  Sale (Dollars)  \\\n",
       "0  100 PROOF VODKA               Barton Vodka           547          929.90   \n",
       "1  100 PROOF VODKA          Blaum Bros. Vodka            16          336.00   \n",
       "2  100 PROOF VODKA          Burnett's  Orange            24          207.12   \n",
       "3  100 PROOF VODKA   Burnett's  Pink Lemonade            12          176.28   \n",
       "4  100 PROOF VODKA  Burnett's Mango Pineapple            24          207.12   \n",
       "\n",
       "   Sale Profit  \n",
       "0       311.79  \n",
       "1       112.00  \n",
       "2        69.12  \n",
       "3        58.80  \n",
       "4        69.12  "
      ]
     },
     "execution_count": 233,
     "metadata": {},
     "output_type": "execute_result"
    }
   ],
   "source": [
    "liquor_types.head()"
   ]
  },
  {
   "cell_type": "code",
   "execution_count": 234,
   "metadata": {
    "collapsed": true
   },
   "outputs": [],
   "source": [
    "liquor_types.columns = ['Category Name', 'Item Description', 'Total Bottles Sold', 'Total Sales', 'Total Profit']"
   ]
  },
  {
   "cell_type": "code",
   "execution_count": 391,
   "metadata": {
    "collapsed": false,
    "scrolled": true
   },
   "outputs": [
    {
     "data": {
      "text/html": [
       "<div>\n",
       "<table border=\"1\" class=\"dataframe\">\n",
       "  <thead>\n",
       "    <tr style=\"text-align: right;\">\n",
       "      <th></th>\n",
       "      <th>Category Name</th>\n",
       "      <th>Item Description</th>\n",
       "      <th>Total Bottles Sold</th>\n",
       "      <th>Total Sales</th>\n",
       "      <th>Total Profit</th>\n",
       "    </tr>\n",
       "  </thead>\n",
       "  <tbody>\n",
       "    <tr>\n",
       "      <th>651</th>\n",
       "      <td>DECANTERS &amp; SPECIALTY PACKAGES</td>\n",
       "      <td>Belvedere Red</td>\n",
       "      <td>1</td>\n",
       "      <td>25.73</td>\n",
       "      <td>8.58</td>\n",
       "    </tr>\n",
       "    <tr>\n",
       "      <th>1027</th>\n",
       "      <td>IMPORTED GRAPE BRANDIES</td>\n",
       "      <td>Calvados Morin XO</td>\n",
       "      <td>1</td>\n",
       "      <td>70.50</td>\n",
       "      <td>23.50</td>\n",
       "    </tr>\n",
       "    <tr>\n",
       "      <th>1725</th>\n",
       "      <td>MISC. IMPORTED CORDIALS &amp; LIQUEURS</td>\n",
       "      <td>Yahara Bay Lemoncello</td>\n",
       "      <td>1</td>\n",
       "      <td>60.38</td>\n",
       "      <td>20.13</td>\n",
       "    </tr>\n",
       "    <tr>\n",
       "      <th>390</th>\n",
       "      <td>BOTTLED IN BOND BOURBON</td>\n",
       "      <td>Jailers Tennessee Whiskey</td>\n",
       "      <td>1</td>\n",
       "      <td>23.07</td>\n",
       "      <td>7.69</td>\n",
       "    </tr>\n",
       "    <tr>\n",
       "      <th>1724</th>\n",
       "      <td>MISC. IMPORTED CORDIALS &amp; LIQUEURS</td>\n",
       "      <td>Yahara Bay Apple Crisp(apple pie)</td>\n",
       "      <td>1</td>\n",
       "      <td>38.61</td>\n",
       "      <td>12.87</td>\n",
       "    </tr>\n",
       "    <tr>\n",
       "      <th>1047</th>\n",
       "      <td>IMPORTED GRAPE BRANDIES</td>\n",
       "      <td>Grappa Moscato</td>\n",
       "      <td>1</td>\n",
       "      <td>60.33</td>\n",
       "      <td>20.11</td>\n",
       "    </tr>\n",
       "    <tr>\n",
       "      <th>537</th>\n",
       "      <td>COFFEE LIQUEURS</td>\n",
       "      <td>Kahlua Peppermint Mocha</td>\n",
       "      <td>1</td>\n",
       "      <td>17.99</td>\n",
       "      <td>6.00</td>\n",
       "    </tr>\n",
       "    <tr>\n",
       "      <th>549</th>\n",
       "      <td>CORN WHISKIES</td>\n",
       "      <td>Cedar Ridge Malted Rye Barrel Marion</td>\n",
       "      <td>1</td>\n",
       "      <td>9150.00</td>\n",
       "      <td>3050.00</td>\n",
       "    </tr>\n",
       "    <tr>\n",
       "      <th>550</th>\n",
       "      <td>CORN WHISKIES</td>\n",
       "      <td>Cedar Ridge Malted Rye Barrel Urbandale</td>\n",
       "      <td>1</td>\n",
       "      <td>9150.00</td>\n",
       "      <td>3050.00</td>\n",
       "    </tr>\n",
       "    <tr>\n",
       "      <th>551</th>\n",
       "      <td>CORN WHISKIES</td>\n",
       "      <td>Cedar Ridge Rye Whiskey - Whole Cask Buy</td>\n",
       "      <td>1</td>\n",
       "      <td>9702.00</td>\n",
       "      <td>3234.00</td>\n",
       "    </tr>\n",
       "    <tr>\n",
       "      <th>1611</th>\n",
       "      <td>MISC. IMPORTED CORDIALS &amp; LIQUEURS</td>\n",
       "      <td>Cerises Rouge(Cherry Liqueur)</td>\n",
       "      <td>1</td>\n",
       "      <td>46.73</td>\n",
       "      <td>15.58</td>\n",
       "    </tr>\n",
       "    <tr>\n",
       "      <th>1969</th>\n",
       "      <td>SCOTCH WHISKIES</td>\n",
       "      <td>Dailuaine 29yr</td>\n",
       "      <td>1</td>\n",
       "      <td>172.77</td>\n",
       "      <td>57.59</td>\n",
       "    </tr>\n",
       "    <tr>\n",
       "      <th>2053</th>\n",
       "      <td>SINGLE BARREL BOURBON WHISKIES</td>\n",
       "      <td>Cedar Ridge Barrel Proof Bourbon Barrel #2552</td>\n",
       "      <td>1</td>\n",
       "      <td>8700.00</td>\n",
       "      <td>2900.00</td>\n",
       "    </tr>\n",
       "    <tr>\n",
       "      <th>2052</th>\n",
       "      <td>SINGLE BARREL BOURBON WHISKIES</td>\n",
       "      <td>Cedar Ridge Barrel Proof Bourbon Barrel</td>\n",
       "      <td>1</td>\n",
       "      <td>8700.00</td>\n",
       "      <td>2900.00</td>\n",
       "    </tr>\n",
       "    <tr>\n",
       "      <th>740</th>\n",
       "      <td>DECANTERS &amp; SPECIALTY PACKAGES</td>\n",
       "      <td>Lucid Absinthe w/Shot Glass HA</td>\n",
       "      <td>1</td>\n",
       "      <td>48.75</td>\n",
       "      <td>16.25</td>\n",
       "    </tr>\n",
       "    <tr>\n",
       "      <th>2408</th>\n",
       "      <td>STRAIGHT BOURBON WHISKIES</td>\n",
       "      <td>Wild Turkey Forgiven HA</td>\n",
       "      <td>1</td>\n",
       "      <td>41.25</td>\n",
       "      <td>13.75</td>\n",
       "    </tr>\n",
       "    <tr>\n",
       "      <th>1137</th>\n",
       "      <td>IMPORTED VODKA</td>\n",
       "      <td>Forex Pacific</td>\n",
       "      <td>1</td>\n",
       "      <td>27.00</td>\n",
       "      <td>9.00</td>\n",
       "    </tr>\n",
       "    <tr>\n",
       "      <th>1136</th>\n",
       "      <td>IMPORTED VODKA</td>\n",
       "      <td>Forex Atlantic</td>\n",
       "      <td>1</td>\n",
       "      <td>25.50</td>\n",
       "      <td>8.50</td>\n",
       "    </tr>\n",
       "    <tr>\n",
       "      <th>2054</th>\n",
       "      <td>SINGLE BARREL BOURBON WHISKIES</td>\n",
       "      <td>Cedar Ridge Barrel Proof Bourbon Barrel #2666</td>\n",
       "      <td>1</td>\n",
       "      <td>8700.00</td>\n",
       "      <td>2900.00</td>\n",
       "    </tr>\n",
       "    <tr>\n",
       "      <th>2454</th>\n",
       "      <td>TENNESSEE WHISKIES</td>\n",
       "      <td>Cedar Ridge Port Cask Finish Barrel #2561</td>\n",
       "      <td>1</td>\n",
       "      <td>9000.00</td>\n",
       "      <td>3000.00</td>\n",
       "    </tr>\n",
       "    <tr>\n",
       "      <th>1631</th>\n",
       "      <td>MISC. IMPORTED CORDIALS &amp; LIQUEURS</td>\n",
       "      <td>Framboise (Raspberry Liqueur)</td>\n",
       "      <td>1</td>\n",
       "      <td>45.89</td>\n",
       "      <td>15.30</td>\n",
       "    </tr>\n",
       "    <tr>\n",
       "      <th>2455</th>\n",
       "      <td>TENNESSEE WHISKIES</td>\n",
       "      <td>Cedar Ridge Port Cask Finish Barrel #2590</td>\n",
       "      <td>1</td>\n",
       "      <td>9000.00</td>\n",
       "      <td>3000.00</td>\n",
       "    </tr>\n",
       "    <tr>\n",
       "      <th>2456</th>\n",
       "      <td>TENNESSEE WHISKIES</td>\n",
       "      <td>Cedar Ridge Port Cask Finish Barrel #2663</td>\n",
       "      <td>1</td>\n",
       "      <td>9000.00</td>\n",
       "      <td>3000.00</td>\n",
       "    </tr>\n",
       "    <tr>\n",
       "      <th>2457</th>\n",
       "      <td>TENNESSEE WHISKIES</td>\n",
       "      <td>Cedar Ridge Port Cask Finish Barrel #2666</td>\n",
       "      <td>1</td>\n",
       "      <td>9000.00</td>\n",
       "      <td>3000.00</td>\n",
       "    </tr>\n",
       "    <tr>\n",
       "      <th>922</th>\n",
       "      <td>FLAVORED RUM</td>\n",
       "      <td>Cedar Ridge Barrel Aged Rum 5YR Reserve</td>\n",
       "      <td>1</td>\n",
       "      <td>8250.00</td>\n",
       "      <td>2750.00</td>\n",
       "    </tr>\n",
       "    <tr>\n",
       "      <th>2044</th>\n",
       "      <td>SCOTCH WHISKIES</td>\n",
       "      <td>The Cally 40YR HA</td>\n",
       "      <td>2</td>\n",
       "      <td>2022.48</td>\n",
       "      <td>674.16</td>\n",
       "    </tr>\n",
       "    <tr>\n",
       "      <th>2051</th>\n",
       "      <td>SINGLE BARREL BOURBON WHISKIES</td>\n",
       "      <td>Cedar Ridge Barrel Proof Bourbon</td>\n",
       "      <td>2</td>\n",
       "      <td>17400.00</td>\n",
       "      <td>5800.00</td>\n",
       "    </tr>\n",
       "    <tr>\n",
       "      <th>2402</th>\n",
       "      <td>STRAIGHT BOURBON WHISKIES</td>\n",
       "      <td>White Water Whiskey</td>\n",
       "      <td>2</td>\n",
       "      <td>33.52</td>\n",
       "      <td>11.18</td>\n",
       "    </tr>\n",
       "    <tr>\n",
       "      <th>1665</th>\n",
       "      <td>MISC. IMPORTED CORDIALS &amp; LIQUEURS</td>\n",
       "      <td>Libertine Absinthe(french Absinthe)</td>\n",
       "      <td>2</td>\n",
       "      <td>128.26</td>\n",
       "      <td>42.76</td>\n",
       "    </tr>\n",
       "    <tr>\n",
       "      <th>1970</th>\n",
       "      <td>SCOTCH WHISKIES</td>\n",
       "      <td>Dailuaine 34YR HA</td>\n",
       "      <td>2</td>\n",
       "      <td>1009.98</td>\n",
       "      <td>336.66</td>\n",
       "    </tr>\n",
       "    <tr>\n",
       "      <th>1958</th>\n",
       "      <td>SCOTCH WHISKIES</td>\n",
       "      <td>Clynelish Select Reserve HA</td>\n",
       "      <td>2</td>\n",
       "      <td>1449.00</td>\n",
       "      <td>483.00</td>\n",
       "    </tr>\n",
       "    <tr>\n",
       "      <th>2723</th>\n",
       "      <td>VODKA 80 PROOF</td>\n",
       "      <td>Hustle Vodka</td>\n",
       "      <td>2</td>\n",
       "      <td>28.48</td>\n",
       "      <td>9.50</td>\n",
       "    </tr>\n",
       "    <tr>\n",
       "      <th>2038</th>\n",
       "      <td>SCOTCH WHISKIES</td>\n",
       "      <td>Pittyvaich 25YR HA</td>\n",
       "      <td>3</td>\n",
       "      <td>1008.72</td>\n",
       "      <td>336.24</td>\n",
       "    </tr>\n",
       "    <tr>\n",
       "      <th>2695</th>\n",
       "      <td>VODKA 80 PROOF</td>\n",
       "      <td>Bellion Vodka</td>\n",
       "      <td>3</td>\n",
       "      <td>67.50</td>\n",
       "      <td>22.50</td>\n",
       "    </tr>\n",
       "    <tr>\n",
       "      <th>2011</th>\n",
       "      <td>SCOTCH WHISKIES</td>\n",
       "      <td>Johnnie Walker Private Collection 2015 Fruit HA</td>\n",
       "      <td>3</td>\n",
       "      <td>1912.50</td>\n",
       "      <td>637.50</td>\n",
       "    </tr>\n",
       "    <tr>\n",
       "      <th>2010</th>\n",
       "      <td>SCOTCH WHISKIES</td>\n",
       "      <td>Johnnie Walker Private Collection 2014 Smoke HA</td>\n",
       "      <td>3</td>\n",
       "      <td>1912.50</td>\n",
       "      <td>637.50</td>\n",
       "    </tr>\n",
       "    <tr>\n",
       "      <th>227</th>\n",
       "      <td>AMERICAN SLOE GINS</td>\n",
       "      <td>Hiram Walker Sloe Gin 3-Pak</td>\n",
       "      <td>3</td>\n",
       "      <td>17.55</td>\n",
       "      <td>5.85</td>\n",
       "    </tr>\n",
       "    <tr>\n",
       "      <th>3088</th>\n",
       "      <td>WHITE CREME DE CACAO</td>\n",
       "      <td>Hiram Walker Creme De Cacao White 3pak</td>\n",
       "      <td>3</td>\n",
       "      <td>17.55</td>\n",
       "      <td>5.85</td>\n",
       "    </tr>\n",
       "    <tr>\n",
       "      <th>782</th>\n",
       "      <td>DECANTERS &amp; SPECIALTY PACKAGES</td>\n",
       "      <td>Wild Turkey 375ml Sampler Pack</td>\n",
       "      <td>3</td>\n",
       "      <td>83.52</td>\n",
       "      <td>27.84</td>\n",
       "    </tr>\n",
       "    <tr>\n",
       "      <th>1024</th>\n",
       "      <td>IMPORTED GRAPE BRANDIES</td>\n",
       "      <td>Calvados Morin 1973</td>\n",
       "      <td>3</td>\n",
       "      <td>625.50</td>\n",
       "      <td>208.50</td>\n",
       "    </tr>\n",
       "    <tr>\n",
       "      <th>164</th>\n",
       "      <td>AMERICAN DRY GINS</td>\n",
       "      <td>Genevieve Gin</td>\n",
       "      <td>3</td>\n",
       "      <td>162.00</td>\n",
       "      <td>54.00</td>\n",
       "    </tr>\n",
       "    <tr>\n",
       "      <th>1571</th>\n",
       "      <td>MISC. AMERICAN CORDIALS &amp; LIQUEURS</td>\n",
       "      <td>Yahara Bay Apple Crisp(apple pie)</td>\n",
       "      <td>3</td>\n",
       "      <td>80.10</td>\n",
       "      <td>26.70</td>\n",
       "    </tr>\n",
       "    <tr>\n",
       "      <th>2435</th>\n",
       "      <td>STRAIGHT RYE WHISKIES</td>\n",
       "      <td>Old Potrero Rye</td>\n",
       "      <td>3</td>\n",
       "      <td>165.03</td>\n",
       "      <td>55.02</td>\n",
       "    </tr>\n",
       "    <tr>\n",
       "      <th>2608</th>\n",
       "      <td>TEQUILA</td>\n",
       "      <td>Patron Gran Burdeos</td>\n",
       "      <td>3</td>\n",
       "      <td>1102.50</td>\n",
       "      <td>367.50</td>\n",
       "    </tr>\n",
       "    <tr>\n",
       "      <th>2179</th>\n",
       "      <td>SINGLE MALT SCOTCH</td>\n",
       "      <td>Toiteach</td>\n",
       "      <td>3</td>\n",
       "      <td>235.68</td>\n",
       "      <td>78.57</td>\n",
       "    </tr>\n",
       "    <tr>\n",
       "      <th>3091</th>\n",
       "      <td>WHITE CREME DE MENTHE</td>\n",
       "      <td>Hiram Walker Creme De Menthe White 3 Pak</td>\n",
       "      <td>3</td>\n",
       "      <td>17.55</td>\n",
       "      <td>5.85</td>\n",
       "    </tr>\n",
       "    <tr>\n",
       "      <th>1138</th>\n",
       "      <td>IMPORTED VODKA</td>\n",
       "      <td>Forex Standard</td>\n",
       "      <td>4</td>\n",
       "      <td>87.00</td>\n",
       "      <td>29.00</td>\n",
       "    </tr>\n",
       "    <tr>\n",
       "      <th>1126</th>\n",
       "      <td>IMPORTED VODKA</td>\n",
       "      <td>Crystal Head Vodka Mini</td>\n",
       "      <td>4</td>\n",
       "      <td>26.60</td>\n",
       "      <td>8.88</td>\n",
       "    </tr>\n",
       "    <tr>\n",
       "      <th>2075</th>\n",
       "      <td>SINGLE MALT SCOTCH</td>\n",
       "      <td>Aberfeldy 21 Year Single Malt Scotch</td>\n",
       "      <td>4</td>\n",
       "      <td>533.04</td>\n",
       "      <td>177.68</td>\n",
       "    </tr>\n",
       "    <tr>\n",
       "      <th>474</th>\n",
       "      <td>CANADIAN WHISKIES</td>\n",
       "      <td>Lot 40</td>\n",
       "      <td>4</td>\n",
       "      <td>179.96</td>\n",
       "      <td>60.00</td>\n",
       "    </tr>\n",
       "  </tbody>\n",
       "</table>\n",
       "</div>"
      ],
      "text/plain": [
       "                           Category Name  \\\n",
       "651       DECANTERS & SPECIALTY PACKAGES   \n",
       "1027             IMPORTED GRAPE BRANDIES   \n",
       "1725  MISC. IMPORTED CORDIALS & LIQUEURS   \n",
       "390              BOTTLED IN BOND BOURBON   \n",
       "1724  MISC. IMPORTED CORDIALS & LIQUEURS   \n",
       "1047             IMPORTED GRAPE BRANDIES   \n",
       "537                      COFFEE LIQUEURS   \n",
       "549                        CORN WHISKIES   \n",
       "550                        CORN WHISKIES   \n",
       "551                        CORN WHISKIES   \n",
       "1611  MISC. IMPORTED CORDIALS & LIQUEURS   \n",
       "1969                     SCOTCH WHISKIES   \n",
       "2053      SINGLE BARREL BOURBON WHISKIES   \n",
       "2052      SINGLE BARREL BOURBON WHISKIES   \n",
       "740       DECANTERS & SPECIALTY PACKAGES   \n",
       "2408           STRAIGHT BOURBON WHISKIES   \n",
       "1137                      IMPORTED VODKA   \n",
       "1136                      IMPORTED VODKA   \n",
       "2054      SINGLE BARREL BOURBON WHISKIES   \n",
       "2454                  TENNESSEE WHISKIES   \n",
       "1631  MISC. IMPORTED CORDIALS & LIQUEURS   \n",
       "2455                  TENNESSEE WHISKIES   \n",
       "2456                  TENNESSEE WHISKIES   \n",
       "2457                  TENNESSEE WHISKIES   \n",
       "922                         FLAVORED RUM   \n",
       "2044                     SCOTCH WHISKIES   \n",
       "2051      SINGLE BARREL BOURBON WHISKIES   \n",
       "2402           STRAIGHT BOURBON WHISKIES   \n",
       "1665  MISC. IMPORTED CORDIALS & LIQUEURS   \n",
       "1970                     SCOTCH WHISKIES   \n",
       "1958                     SCOTCH WHISKIES   \n",
       "2723                      VODKA 80 PROOF   \n",
       "2038                     SCOTCH WHISKIES   \n",
       "2695                      VODKA 80 PROOF   \n",
       "2011                     SCOTCH WHISKIES   \n",
       "2010                     SCOTCH WHISKIES   \n",
       "227                   AMERICAN SLOE GINS   \n",
       "3088                WHITE CREME DE CACAO   \n",
       "782       DECANTERS & SPECIALTY PACKAGES   \n",
       "1024             IMPORTED GRAPE BRANDIES   \n",
       "164                    AMERICAN DRY GINS   \n",
       "1571  MISC. AMERICAN CORDIALS & LIQUEURS   \n",
       "2435               STRAIGHT RYE WHISKIES   \n",
       "2608                             TEQUILA   \n",
       "2179                  SINGLE MALT SCOTCH   \n",
       "3091               WHITE CREME DE MENTHE   \n",
       "1138                      IMPORTED VODKA   \n",
       "1126                      IMPORTED VODKA   \n",
       "2075                  SINGLE MALT SCOTCH   \n",
       "474                    CANADIAN WHISKIES   \n",
       "\n",
       "                                     Item Description  Total Bottles Sold  \\\n",
       "651                                     Belvedere Red                   1   \n",
       "1027                                Calvados Morin XO                   1   \n",
       "1725                            Yahara Bay Lemoncello                   1   \n",
       "390                         Jailers Tennessee Whiskey                   1   \n",
       "1724                Yahara Bay Apple Crisp(apple pie)                   1   \n",
       "1047                                   Grappa Moscato                   1   \n",
       "537                           Kahlua Peppermint Mocha                   1   \n",
       "549              Cedar Ridge Malted Rye Barrel Marion                   1   \n",
       "550           Cedar Ridge Malted Rye Barrel Urbandale                   1   \n",
       "551          Cedar Ridge Rye Whiskey - Whole Cask Buy                   1   \n",
       "1611                    Cerises Rouge(Cherry Liqueur)                   1   \n",
       "1969                                   Dailuaine 29yr                   1   \n",
       "2053    Cedar Ridge Barrel Proof Bourbon Barrel #2552                   1   \n",
       "2052          Cedar Ridge Barrel Proof Bourbon Barrel                   1   \n",
       "740                    Lucid Absinthe w/Shot Glass HA                   1   \n",
       "2408                          Wild Turkey Forgiven HA                   1   \n",
       "1137                                    Forex Pacific                   1   \n",
       "1136                                   Forex Atlantic                   1   \n",
       "2054    Cedar Ridge Barrel Proof Bourbon Barrel #2666                   1   \n",
       "2454        Cedar Ridge Port Cask Finish Barrel #2561                   1   \n",
       "1631                    Framboise (Raspberry Liqueur)                   1   \n",
       "2455        Cedar Ridge Port Cask Finish Barrel #2590                   1   \n",
       "2456        Cedar Ridge Port Cask Finish Barrel #2663                   1   \n",
       "2457        Cedar Ridge Port Cask Finish Barrel #2666                   1   \n",
       "922           Cedar Ridge Barrel Aged Rum 5YR Reserve                   1   \n",
       "2044                                The Cally 40YR HA                   2   \n",
       "2051                 Cedar Ridge Barrel Proof Bourbon                   2   \n",
       "2402                              White Water Whiskey                   2   \n",
       "1665              Libertine Absinthe(french Absinthe)                   2   \n",
       "1970                                Dailuaine 34YR HA                   2   \n",
       "1958                      Clynelish Select Reserve HA                   2   \n",
       "2723                                     Hustle Vodka                   2   \n",
       "2038                               Pittyvaich 25YR HA                   3   \n",
       "2695                                    Bellion Vodka                   3   \n",
       "2011  Johnnie Walker Private Collection 2015 Fruit HA                   3   \n",
       "2010  Johnnie Walker Private Collection 2014 Smoke HA                   3   \n",
       "227                       Hiram Walker Sloe Gin 3-Pak                   3   \n",
       "3088           Hiram Walker Creme De Cacao White 3pak                   3   \n",
       "782                    Wild Turkey 375ml Sampler Pack                   3   \n",
       "1024                              Calvados Morin 1973                   3   \n",
       "164                                     Genevieve Gin                   3   \n",
       "1571                Yahara Bay Apple Crisp(apple pie)                   3   \n",
       "2435                                  Old Potrero Rye                   3   \n",
       "2608                              Patron Gran Burdeos                   3   \n",
       "2179                                         Toiteach                   3   \n",
       "3091         Hiram Walker Creme De Menthe White 3 Pak                   3   \n",
       "1138                                   Forex Standard                   4   \n",
       "1126                          Crystal Head Vodka Mini                   4   \n",
       "2075             Aberfeldy 21 Year Single Malt Scotch                   4   \n",
       "474                                            Lot 40                   4   \n",
       "\n",
       "      Total Sales  Total Profit  \n",
       "651         25.73          8.58  \n",
       "1027        70.50         23.50  \n",
       "1725        60.38         20.13  \n",
       "390         23.07          7.69  \n",
       "1724        38.61         12.87  \n",
       "1047        60.33         20.11  \n",
       "537         17.99          6.00  \n",
       "549       9150.00       3050.00  \n",
       "550       9150.00       3050.00  \n",
       "551       9702.00       3234.00  \n",
       "1611        46.73         15.58  \n",
       "1969       172.77         57.59  \n",
       "2053      8700.00       2900.00  \n",
       "2052      8700.00       2900.00  \n",
       "740         48.75         16.25  \n",
       "2408        41.25         13.75  \n",
       "1137        27.00          9.00  \n",
       "1136        25.50          8.50  \n",
       "2054      8700.00       2900.00  \n",
       "2454      9000.00       3000.00  \n",
       "1631        45.89         15.30  \n",
       "2455      9000.00       3000.00  \n",
       "2456      9000.00       3000.00  \n",
       "2457      9000.00       3000.00  \n",
       "922       8250.00       2750.00  \n",
       "2044      2022.48        674.16  \n",
       "2051     17400.00       5800.00  \n",
       "2402        33.52         11.18  \n",
       "1665       128.26         42.76  \n",
       "1970      1009.98        336.66  \n",
       "1958      1449.00        483.00  \n",
       "2723        28.48          9.50  \n",
       "2038      1008.72        336.24  \n",
       "2695        67.50         22.50  \n",
       "2011      1912.50        637.50  \n",
       "2010      1912.50        637.50  \n",
       "227         17.55          5.85  \n",
       "3088        17.55          5.85  \n",
       "782         83.52         27.84  \n",
       "1024       625.50        208.50  \n",
       "164        162.00         54.00  \n",
       "1571        80.10         26.70  \n",
       "2435       165.03         55.02  \n",
       "2608      1102.50        367.50  \n",
       "2179       235.68         78.57  \n",
       "3091        17.55          5.85  \n",
       "1138        87.00         29.00  \n",
       "1126        26.60          8.88  \n",
       "2075       533.04        177.68  \n",
       "474        179.96         60.00  "
      ]
     },
     "execution_count": 391,
     "metadata": {},
     "output_type": "execute_result"
    }
   ],
   "source": [
    "liquor_types.sort_values(\"Total Bottles Sold\", ascending=True).head(50)"
   ]
  },
  {
   "cell_type": "code",
   "execution_count": 101,
   "metadata": {
    "collapsed": false,
    "scrolled": true
   },
   "outputs": [
    {
     "data": {
      "text/html": [
       "<div>\n",
       "<table border=\"1\" class=\"dataframe\">\n",
       "  <thead>\n",
       "    <tr style=\"text-align: right;\">\n",
       "      <th></th>\n",
       "      <th>County</th>\n",
       "      <th>Store Number</th>\n",
       "      <th>Bottle Volume (ml)</th>\n",
       "      <th>Bottles Sold</th>\n",
       "      <th>Category</th>\n",
       "      <th>County Number</th>\n",
       "      <th>Item Number</th>\n",
       "      <th>Price Per Gallon</th>\n",
       "      <th>Profit Per Gallon</th>\n",
       "      <th>Sale (Dollars)</th>\n",
       "      <th>Sale Profit</th>\n",
       "      <th>State Bottle Cost</th>\n",
       "      <th>State Bottle Retail</th>\n",
       "      <th>Vendor Number</th>\n",
       "      <th>Volume Sold (Gallons)</th>\n",
       "      <th>Volume Sold (Liters)</th>\n",
       "    </tr>\n",
       "  </thead>\n",
       "  <tbody>\n",
       "    <tr>\n",
       "      <th>0</th>\n",
       "      <td>Adair</td>\n",
       "      <td>3461</td>\n",
       "      <td>1008.862705</td>\n",
       "      <td>6.550717</td>\n",
       "      <td>1.039404e+06</td>\n",
       "      <td>1.0</td>\n",
       "      <td>43708.999488</td>\n",
       "      <td>56.422438</td>\n",
       "      <td>18.854115</td>\n",
       "      <td>77.293781</td>\n",
       "      <td>25.868560</td>\n",
       "      <td>8.815768</td>\n",
       "      <td>13.244544</td>\n",
       "      <td>264.932889</td>\n",
       "      <td>1.745523</td>\n",
       "      <td>6.612116</td>\n",
       "    </tr>\n",
       "    <tr>\n",
       "      <th>1</th>\n",
       "      <td>Adair</td>\n",
       "      <td>3969</td>\n",
       "      <td>1041.494845</td>\n",
       "      <td>8.175258</td>\n",
       "      <td>1.040270e+06</td>\n",
       "      <td>1.0</td>\n",
       "      <td>52356.185567</td>\n",
       "      <td>75.314807</td>\n",
       "      <td>25.115349</td>\n",
       "      <td>107.914742</td>\n",
       "      <td>35.992165</td>\n",
       "      <td>11.647320</td>\n",
       "      <td>17.476289</td>\n",
       "      <td>286.319588</td>\n",
       "      <td>2.166186</td>\n",
       "      <td>8.202577</td>\n",
       "    </tr>\n",
       "    <tr>\n",
       "      <th>2</th>\n",
       "      <td>Adair</td>\n",
       "      <td>4317</td>\n",
       "      <td>1058.658453</td>\n",
       "      <td>6.291581</td>\n",
       "      <td>1.041119e+06</td>\n",
       "      <td>1.0</td>\n",
       "      <td>42735.119781</td>\n",
       "      <td>55.524451</td>\n",
       "      <td>18.549783</td>\n",
       "      <td>87.550862</td>\n",
       "      <td>29.332957</td>\n",
       "      <td>9.264387</td>\n",
       "      <td>13.918371</td>\n",
       "      <td>276.466804</td>\n",
       "      <td>1.941294</td>\n",
       "      <td>7.348973</td>\n",
       "    </tr>\n",
       "    <tr>\n",
       "      <th>3</th>\n",
       "      <td>Adair</td>\n",
       "      <td>4417</td>\n",
       "      <td>955.978261</td>\n",
       "      <td>11.905797</td>\n",
       "      <td>1.032968e+06</td>\n",
       "      <td>1.0</td>\n",
       "      <td>31822.083333</td>\n",
       "      <td>60.928869</td>\n",
       "      <td>20.358030</td>\n",
       "      <td>136.518080</td>\n",
       "      <td>45.639457</td>\n",
       "      <td>9.036087</td>\n",
       "      <td>13.579638</td>\n",
       "      <td>263.985507</td>\n",
       "      <td>2.450906</td>\n",
       "      <td>9.273587</td>\n",
       "    </tr>\n",
       "    <tr>\n",
       "      <th>4</th>\n",
       "      <td>Adair</td>\n",
       "      <td>4620</td>\n",
       "      <td>1301.276408</td>\n",
       "      <td>8.779930</td>\n",
       "      <td>1.037810e+06</td>\n",
       "      <td>1.0</td>\n",
       "      <td>44160.077465</td>\n",
       "      <td>64.801862</td>\n",
       "      <td>21.638075</td>\n",
       "      <td>130.818486</td>\n",
       "      <td>43.751496</td>\n",
       "      <td>12.362887</td>\n",
       "      <td>18.567271</td>\n",
       "      <td>279.072183</td>\n",
       "      <td>2.830387</td>\n",
       "      <td>10.716778</td>\n",
       "    </tr>\n",
       "  </tbody>\n",
       "</table>\n",
       "</div>"
      ],
      "text/plain": [
       "  County  Store Number  Bottle Volume (ml)  Bottles Sold      Category  \\\n",
       "0  Adair          3461         1008.862705      6.550717  1.039404e+06   \n",
       "1  Adair          3969         1041.494845      8.175258  1.040270e+06   \n",
       "2  Adair          4317         1058.658453      6.291581  1.041119e+06   \n",
       "3  Adair          4417          955.978261     11.905797  1.032968e+06   \n",
       "4  Adair          4620         1301.276408      8.779930  1.037810e+06   \n",
       "\n",
       "   County Number   Item Number  Price Per Gallon  Profit Per Gallon  \\\n",
       "0            1.0  43708.999488         56.422438          18.854115   \n",
       "1            1.0  52356.185567         75.314807          25.115349   \n",
       "2            1.0  42735.119781         55.524451          18.549783   \n",
       "3            1.0  31822.083333         60.928869          20.358030   \n",
       "4            1.0  44160.077465         64.801862          21.638075   \n",
       "\n",
       "   Sale (Dollars)  Sale Profit  State Bottle Cost  State Bottle Retail  \\\n",
       "0       77.293781    25.868560           8.815768            13.244544   \n",
       "1      107.914742    35.992165          11.647320            17.476289   \n",
       "2       87.550862    29.332957           9.264387            13.918371   \n",
       "3      136.518080    45.639457           9.036087            13.579638   \n",
       "4      130.818486    43.751496          12.362887            18.567271   \n",
       "\n",
       "   Vendor Number  Volume Sold (Gallons)  Volume Sold (Liters)  \n",
       "0     264.932889               1.745523              6.612116  \n",
       "1     286.319588               2.166186              8.202577  \n",
       "2     276.466804               1.941294              7.348973  \n",
       "3     263.985507               2.450906              9.273587  \n",
       "4     279.072183               2.830387             10.716778  "
      ]
     },
     "execution_count": 101,
     "metadata": {},
     "output_type": "execute_result"
    }
   ],
   "source": [
    "countiesVendorPivot = pd.pivot_table(iowa, index=['County', 'Store Number'])\n",
    "countiesVendorPivot = countiesVendorPivot.reset_index()\n",
    "countiesVendorPivot.head()"
   ]
  },
  {
   "cell_type": "code",
   "execution_count": 102,
   "metadata": {
    "collapsed": false
   },
   "outputs": [
    {
     "data": {
      "text/html": [
       "<div>\n",
       "<table border=\"1\" class=\"dataframe\">\n",
       "  <thead>\n",
       "    <tr style=\"text-align: right;\">\n",
       "      <th></th>\n",
       "      <th>County</th>\n",
       "      <th>Store Number</th>\n",
       "      <th>Bottle Volume (ml)</th>\n",
       "      <th>Bottles Sold</th>\n",
       "      <th>Category</th>\n",
       "      <th>County Number</th>\n",
       "      <th>Item Number</th>\n",
       "      <th>Price Per Gallon</th>\n",
       "      <th>Profit Per Gallon</th>\n",
       "      <th>Sale (Dollars)</th>\n",
       "      <th>Sale Profit</th>\n",
       "      <th>State Bottle Cost</th>\n",
       "      <th>State Bottle Retail</th>\n",
       "      <th>Vendor Number</th>\n",
       "      <th>Volume Sold (Gallons)</th>\n",
       "      <th>Volume Sold (Liters)</th>\n",
       "    </tr>\n",
       "  </thead>\n",
       "  <tbody>\n",
       "    <tr>\n",
       "      <th>30</th>\n",
       "      <td>Black Hawk</td>\n",
       "      <td>2106</td>\n",
       "      <td>911.035680</td>\n",
       "      <td>19.514209</td>\n",
       "      <td>1.047111e+06</td>\n",
       "      <td>7.0</td>\n",
       "      <td>59717.849069</td>\n",
       "      <td>70.847142</td>\n",
       "      <td>23.641039</td>\n",
       "      <td>279.787480</td>\n",
       "      <td>93.362513</td>\n",
       "      <td>10.744967</td>\n",
       "      <td>16.126917</td>\n",
       "      <td>259.625355</td>\n",
       "      <td>4.849771</td>\n",
       "      <td>18.355608</td>\n",
       "    </tr>\n",
       "    <tr>\n",
       "      <th>1297</th>\n",
       "      <td>Webster</td>\n",
       "      <td>2113</td>\n",
       "      <td>960.447548</td>\n",
       "      <td>4.667047</td>\n",
       "      <td>1.041298e+06</td>\n",
       "      <td>94.0</td>\n",
       "      <td>45287.823261</td>\n",
       "      <td>66.675431</td>\n",
       "      <td>22.254455</td>\n",
       "      <td>61.288512</td>\n",
       "      <td>20.497879</td>\n",
       "      <td>10.632919</td>\n",
       "      <td>15.963609</td>\n",
       "      <td>240.522235</td>\n",
       "      <td>1.221135</td>\n",
       "      <td>4.623090</td>\n",
       "    </tr>\n",
       "    <tr>\n",
       "      <th>31</th>\n",
       "      <td>Black Hawk</td>\n",
       "      <td>2130</td>\n",
       "      <td>927.014836</td>\n",
       "      <td>18.523256</td>\n",
       "      <td>1.043942e+06</td>\n",
       "      <td>7.0</td>\n",
       "      <td>53142.796512</td>\n",
       "      <td>65.885271</td>\n",
       "      <td>21.984815</td>\n",
       "      <td>283.706347</td>\n",
       "      <td>94.635431</td>\n",
       "      <td>10.251927</td>\n",
       "      <td>15.386269</td>\n",
       "      <td>256.792101</td>\n",
       "      <td>4.435104</td>\n",
       "      <td>16.787416</td>\n",
       "    </tr>\n",
       "    <tr>\n",
       "      <th>194</th>\n",
       "      <td>Cerro Gordo</td>\n",
       "      <td>2152</td>\n",
       "      <td>1054.295221</td>\n",
       "      <td>4.039322</td>\n",
       "      <td>1.040807e+06</td>\n",
       "      <td>17.0</td>\n",
       "      <td>39428.354507</td>\n",
       "      <td>49.881377</td>\n",
       "      <td>16.679053</td>\n",
       "      <td>49.236606</td>\n",
       "      <td>16.493787</td>\n",
       "      <td>8.690375</td>\n",
       "      <td>13.063176</td>\n",
       "      <td>245.863884</td>\n",
       "      <td>1.112819</td>\n",
       "      <td>4.213134</td>\n",
       "    </tr>\n",
       "    <tr>\n",
       "      <th>9</th>\n",
       "      <td>Allamakee</td>\n",
       "      <td>2178</td>\n",
       "      <td>1029.598406</td>\n",
       "      <td>7.677192</td>\n",
       "      <td>1.042614e+06</td>\n",
       "      <td>3.0</td>\n",
       "      <td>48581.587983</td>\n",
       "      <td>62.917051</td>\n",
       "      <td>21.024306</td>\n",
       "      <td>103.288737</td>\n",
       "      <td>34.621343</td>\n",
       "      <td>10.068841</td>\n",
       "      <td>15.127811</td>\n",
       "      <td>252.951870</td>\n",
       "      <td>2.132100</td>\n",
       "      <td>8.070549</td>\n",
       "    </tr>\n",
       "  </tbody>\n",
       "</table>\n",
       "</div>"
      ],
      "text/plain": [
       "           County  Store Number  Bottle Volume (ml)  Bottles Sold  \\\n",
       "30     Black Hawk          2106          911.035680     19.514209   \n",
       "1297      Webster          2113          960.447548      4.667047   \n",
       "31     Black Hawk          2130          927.014836     18.523256   \n",
       "194   Cerro Gordo          2152         1054.295221      4.039322   \n",
       "9       Allamakee          2178         1029.598406      7.677192   \n",
       "\n",
       "          Category  County Number   Item Number  Price Per Gallon  \\\n",
       "30    1.047111e+06            7.0  59717.849069         70.847142   \n",
       "1297  1.041298e+06           94.0  45287.823261         66.675431   \n",
       "31    1.043942e+06            7.0  53142.796512         65.885271   \n",
       "194   1.040807e+06           17.0  39428.354507         49.881377   \n",
       "9     1.042614e+06            3.0  48581.587983         62.917051   \n",
       "\n",
       "      Profit Per Gallon  Sale (Dollars)  Sale Profit  State Bottle Cost  \\\n",
       "30            23.641039      279.787480    93.362513          10.744967   \n",
       "1297          22.254455       61.288512    20.497879          10.632919   \n",
       "31            21.984815      283.706347    94.635431          10.251927   \n",
       "194           16.679053       49.236606    16.493787           8.690375   \n",
       "9             21.024306      103.288737    34.621343          10.068841   \n",
       "\n",
       "      State Bottle Retail  Vendor Number  Volume Sold (Gallons)  \\\n",
       "30              16.126917     259.625355               4.849771   \n",
       "1297            15.963609     240.522235               1.221135   \n",
       "31              15.386269     256.792101               4.435104   \n",
       "194             13.063176     245.863884               1.112819   \n",
       "9               15.127811     252.951870               2.132100   \n",
       "\n",
       "      Volume Sold (Liters)  \n",
       "30               18.355608  \n",
       "1297              4.623090  \n",
       "31               16.787416  \n",
       "194               4.213134  \n",
       "9                 8.070549  "
      ]
     },
     "execution_count": 102,
     "metadata": {},
     "output_type": "execute_result"
    }
   ],
   "source": [
    "countiesVendorPivot.sort_values(\"Store Number\").head()"
   ]
  },
  {
   "cell_type": "code",
   "execution_count": null,
   "metadata": {
    "collapsed": true
   },
   "outputs": [],
   "source": []
  },
  {
   "cell_type": "code",
   "execution_count": 91,
   "metadata": {
    "collapsed": false,
    "scrolled": false
   },
   "outputs": [
    {
     "data": {
      "text/html": [
       "<div>\n",
       "<table border=\"1\" class=\"dataframe\">\n",
       "  <thead>\n",
       "    <tr style=\"text-align: right;\">\n",
       "      <th></th>\n",
       "      <th>County</th>\n",
       "      <th>Vendor Number</th>\n",
       "      <th>Bottle Volume (ml)</th>\n",
       "      <th>Bottles Sold</th>\n",
       "      <th>Category</th>\n",
       "      <th>County Number</th>\n",
       "      <th>Item Number</th>\n",
       "      <th>Price Per Gallon</th>\n",
       "      <th>Profit Per Gallon</th>\n",
       "      <th>Sale (Dollars)</th>\n",
       "      <th>Sale Profit</th>\n",
       "      <th>State Bottle Cost</th>\n",
       "      <th>State Bottle Retail</th>\n",
       "      <th>Store Number</th>\n",
       "      <th>Volume Sold (Gallons)</th>\n",
       "      <th>Volume Sold (Liters)</th>\n",
       "    </tr>\n",
       "  </thead>\n",
       "  <tbody>\n",
       "    <tr>\n",
       "      <th>0</th>\n",
       "      <td>Adair</td>\n",
       "      <td>35</td>\n",
       "      <td>931.475904</td>\n",
       "      <td>4.825301</td>\n",
       "      <td>1.052493e+06</td>\n",
       "      <td>1.0</td>\n",
       "      <td>37943.674699</td>\n",
       "      <td>74.875159</td>\n",
       "      <td>25.026108</td>\n",
       "      <td>80.228373</td>\n",
       "      <td>26.881566</td>\n",
       "      <td>11.112229</td>\n",
       "      <td>16.701325</td>\n",
       "      <td>4161.626506</td>\n",
       "      <td>1.225181</td>\n",
       "      <td>4.639940</td>\n",
       "    </tr>\n",
       "    <tr>\n",
       "      <th>25</th>\n",
       "      <td>Adair</td>\n",
       "      <td>301</td>\n",
       "      <td>908.536585</td>\n",
       "      <td>4.707317</td>\n",
       "      <td>1.031082e+06</td>\n",
       "      <td>1.0</td>\n",
       "      <td>38176.341463</td>\n",
       "      <td>71.043319</td>\n",
       "      <td>23.694675</td>\n",
       "      <td>80.857073</td>\n",
       "      <td>26.963415</td>\n",
       "      <td>11.058780</td>\n",
       "      <td>16.592195</td>\n",
       "      <td>3890.390244</td>\n",
       "      <td>1.182439</td>\n",
       "      <td>4.481707</td>\n",
       "    </tr>\n",
       "    <tr>\n",
       "      <th>26</th>\n",
       "      <td>Adair</td>\n",
       "      <td>305</td>\n",
       "      <td>705.357143</td>\n",
       "      <td>7.607143</td>\n",
       "      <td>1.078762e+06</td>\n",
       "      <td>1.0</td>\n",
       "      <td>71894.571429</td>\n",
       "      <td>93.384805</td>\n",
       "      <td>31.133447</td>\n",
       "      <td>128.401786</td>\n",
       "      <td>42.802143</td>\n",
       "      <td>11.468571</td>\n",
       "      <td>17.203929</td>\n",
       "      <td>4348.000000</td>\n",
       "      <td>1.406429</td>\n",
       "      <td>5.321429</td>\n",
       "    </tr>\n",
       "    <tr>\n",
       "      <th>27</th>\n",
       "      <td>Adair</td>\n",
       "      <td>306</td>\n",
       "      <td>750.000000</td>\n",
       "      <td>2.166667</td>\n",
       "      <td>1.022810e+06</td>\n",
       "      <td>1.0</td>\n",
       "      <td>31617.833333</td>\n",
       "      <td>127.876257</td>\n",
       "      <td>42.636612</td>\n",
       "      <td>57.698333</td>\n",
       "      <td>19.238333</td>\n",
       "      <td>16.953333</td>\n",
       "      <td>25.433333</td>\n",
       "      <td>4367.000000</td>\n",
       "      <td>0.430000</td>\n",
       "      <td>1.625000</td>\n",
       "    </tr>\n",
       "    <tr>\n",
       "      <th>28</th>\n",
       "      <td>Adair</td>\n",
       "      <td>322</td>\n",
       "      <td>770.833333</td>\n",
       "      <td>4.208333</td>\n",
       "      <td>1.074370e+06</td>\n",
       "      <td>1.0</td>\n",
       "      <td>69970.187500</td>\n",
       "      <td>71.646832</td>\n",
       "      <td>23.882277</td>\n",
       "      <td>62.641875</td>\n",
       "      <td>20.880625</td>\n",
       "      <td>9.667500</td>\n",
       "      <td>14.501250</td>\n",
       "      <td>4056.437500</td>\n",
       "      <td>0.867708</td>\n",
       "      <td>3.281250</td>\n",
       "    </tr>\n",
       "  </tbody>\n",
       "</table>\n",
       "</div>"
      ],
      "text/plain": [
       "   County  Vendor Number  Bottle Volume (ml)  Bottles Sold      Category  \\\n",
       "0   Adair             35          931.475904      4.825301  1.052493e+06   \n",
       "25  Adair            301          908.536585      4.707317  1.031082e+06   \n",
       "26  Adair            305          705.357143      7.607143  1.078762e+06   \n",
       "27  Adair            306          750.000000      2.166667  1.022810e+06   \n",
       "28  Adair            322          770.833333      4.208333  1.074370e+06   \n",
       "\n",
       "    County Number   Item Number  Price Per Gallon  Profit Per Gallon  \\\n",
       "0             1.0  37943.674699         74.875159          25.026108   \n",
       "25            1.0  38176.341463         71.043319          23.694675   \n",
       "26            1.0  71894.571429         93.384805          31.133447   \n",
       "27            1.0  31617.833333        127.876257          42.636612   \n",
       "28            1.0  69970.187500         71.646832          23.882277   \n",
       "\n",
       "    Sale (Dollars)  Sale Profit  State Bottle Cost  State Bottle Retail  \\\n",
       "0        80.228373    26.881566          11.112229            16.701325   \n",
       "25       80.857073    26.963415          11.058780            16.592195   \n",
       "26      128.401786    42.802143          11.468571            17.203929   \n",
       "27       57.698333    19.238333          16.953333            25.433333   \n",
       "28       62.641875    20.880625           9.667500            14.501250   \n",
       "\n",
       "    Store Number  Volume Sold (Gallons)  Volume Sold (Liters)  \n",
       "0    4161.626506               1.225181              4.639940  \n",
       "25   3890.390244               1.182439              4.481707  \n",
       "26   4348.000000               1.406429              5.321429  \n",
       "27   4367.000000               0.430000              1.625000  \n",
       "28   4056.437500               0.867708              3.281250  "
      ]
     },
     "execution_count": 91,
     "metadata": {},
     "output_type": "execute_result"
    }
   ],
   "source": [
    "countiesVendorPivot.sort_values('County').head()"
   ]
  },
  {
   "cell_type": "code",
   "execution_count": 206,
   "metadata": {
    "collapsed": false
   },
   "outputs": [
    {
     "data": {
      "text/html": [
       "<div>\n",
       "<table border=\"1\" class=\"dataframe\">\n",
       "  <thead>\n",
       "    <tr style=\"text-align: right;\">\n",
       "      <th></th>\n",
       "      <th>Bottle Volume (ml)</th>\n",
       "      <th>State Bottle Retail</th>\n",
       "    </tr>\n",
       "    <tr>\n",
       "      <th>County</th>\n",
       "      <th></th>\n",
       "      <th></th>\n",
       "    </tr>\n",
       "  </thead>\n",
       "  <tbody>\n",
       "    <tr>\n",
       "      <th>Adair</th>\n",
       "      <td>1006.737843</td>\n",
       "      <td>13.739184</td>\n",
       "    </tr>\n",
       "    <tr>\n",
       "      <th>Adams</th>\n",
       "      <td>994.086161</td>\n",
       "      <td>15.302268</td>\n",
       "    </tr>\n",
       "    <tr>\n",
       "      <th>Allamakee</th>\n",
       "      <td>1060.234696</td>\n",
       "      <td>14.937870</td>\n",
       "    </tr>\n",
       "    <tr>\n",
       "      <th>Appanoose</th>\n",
       "      <td>974.081146</td>\n",
       "      <td>14.404090</td>\n",
       "    </tr>\n",
       "    <tr>\n",
       "      <th>Audubon</th>\n",
       "      <td>1022.390950</td>\n",
       "      <td>12.976996</td>\n",
       "    </tr>\n",
       "  </tbody>\n",
       "</table>\n",
       "</div>"
      ],
      "text/plain": [
       "           Bottle Volume (ml)  State Bottle Retail\n",
       "County                                            \n",
       "Adair             1006.737843            13.739184\n",
       "Adams              994.086161            15.302268\n",
       "Allamakee         1060.234696            14.937870\n",
       "Appanoose          974.081146            14.404090\n",
       "Audubon           1022.390950            12.976996"
      ]
     },
     "execution_count": 206,
     "metadata": {},
     "output_type": "execute_result"
    }
   ],
   "source": [
    "countiesAverages = pd.pivot_table(iowa, index=['County'],\n",
    "                                 values =['Bottle Volume (ml)', 'State Bottle Retail'],\n",
    "                                 aggfunc=(np.mean))\n",
    "countiesAverages.head()"
   ]
  },
  {
   "cell_type": "code",
   "execution_count": 208,
   "metadata": {
    "collapsed": false,
    "scrolled": true
   },
   "outputs": [],
   "source": [
    "countiesAverages = countiesAverages.reset_index()"
   ]
  },
  {
   "cell_type": "code",
   "execution_count": 209,
   "metadata": {
    "collapsed": false
   },
   "outputs": [
    {
     "data": {
      "text/html": [
       "<div>\n",
       "<table border=\"1\" class=\"dataframe\">\n",
       "  <thead>\n",
       "    <tr style=\"text-align: right;\">\n",
       "      <th></th>\n",
       "      <th>County</th>\n",
       "      <th>Average Bottle Volume</th>\n",
       "      <th>Average Bottle Price</th>\n",
       "    </tr>\n",
       "  </thead>\n",
       "  <tbody>\n",
       "    <tr>\n",
       "      <th>0</th>\n",
       "      <td>Adair</td>\n",
       "      <td>1006.737843</td>\n",
       "      <td>13.739184</td>\n",
       "    </tr>\n",
       "    <tr>\n",
       "      <th>1</th>\n",
       "      <td>Adams</td>\n",
       "      <td>994.086161</td>\n",
       "      <td>15.302268</td>\n",
       "    </tr>\n",
       "    <tr>\n",
       "      <th>2</th>\n",
       "      <td>Allamakee</td>\n",
       "      <td>1060.234696</td>\n",
       "      <td>14.937870</td>\n",
       "    </tr>\n",
       "    <tr>\n",
       "      <th>3</th>\n",
       "      <td>Appanoose</td>\n",
       "      <td>974.081146</td>\n",
       "      <td>14.404090</td>\n",
       "    </tr>\n",
       "    <tr>\n",
       "      <th>4</th>\n",
       "      <td>Audubon</td>\n",
       "      <td>1022.390950</td>\n",
       "      <td>12.976996</td>\n",
       "    </tr>\n",
       "  </tbody>\n",
       "</table>\n",
       "</div>"
      ],
      "text/plain": [
       "      County  Average Bottle Volume  Average Bottle Price\n",
       "0      Adair            1006.737843             13.739184\n",
       "1      Adams             994.086161             15.302268\n",
       "2  Allamakee            1060.234696             14.937870\n",
       "3  Appanoose             974.081146             14.404090\n",
       "4    Audubon            1022.390950             12.976996"
      ]
     },
     "execution_count": 209,
     "metadata": {},
     "output_type": "execute_result"
    }
   ],
   "source": [
    "countiesAverages.columns = ['County', 'Average Bottle Volume', 'Average Bottle Price']\n",
    "countiesAverages.head()"
   ]
  },
  {
   "cell_type": "code",
   "execution_count": 103,
   "metadata": {
    "collapsed": false,
    "scrolled": false
   },
   "outputs": [
    {
     "data": {
      "text/html": [
       "<div>\n",
       "<table border=\"1\" class=\"dataframe\">\n",
       "  <thead>\n",
       "    <tr style=\"text-align: right;\">\n",
       "      <th></th>\n",
       "      <th>County</th>\n",
       "      <th>Store Number</th>\n",
       "    </tr>\n",
       "  </thead>\n",
       "  <tbody>\n",
       "    <tr>\n",
       "      <th>0</th>\n",
       "      <td>Adair</td>\n",
       "      <td>8</td>\n",
       "    </tr>\n",
       "    <tr>\n",
       "      <th>1</th>\n",
       "      <td>Adams</td>\n",
       "      <td>1</td>\n",
       "    </tr>\n",
       "    <tr>\n",
       "      <th>2</th>\n",
       "      <td>Allamakee</td>\n",
       "      <td>6</td>\n",
       "    </tr>\n",
       "    <tr>\n",
       "      <th>3</th>\n",
       "      <td>Appanoose</td>\n",
       "      <td>6</td>\n",
       "    </tr>\n",
       "    <tr>\n",
       "      <th>4</th>\n",
       "      <td>Audubon</td>\n",
       "      <td>3</td>\n",
       "    </tr>\n",
       "  </tbody>\n",
       "</table>\n",
       "</div>"
      ],
      "text/plain": [
       "      County  Store Number\n",
       "0      Adair             8\n",
       "1      Adams             1\n",
       "2  Allamakee             6\n",
       "3  Appanoose             6\n",
       "4    Audubon             3"
      ]
     },
     "execution_count": 103,
     "metadata": {},
     "output_type": "execute_result"
    }
   ],
   "source": [
    "countiesVendorPivot2 = pd.pivot_table(countiesVendorPivot, index=['County'], values=['Store Number'], aggfunc=(len))\n",
    "countiesVendorPivot2 = countiesVendorPivot2.reset_index()\n",
    "countiesVendorPivot2.head()\n"
   ]
  },
  {
   "cell_type": "code",
   "execution_count": 108,
   "metadata": {
    "collapsed": true
   },
   "outputs": [],
   "source": [
    "countiesVendorPivot2.columns = ['County', 'Number of Stores']"
   ]
  },
  {
   "cell_type": "code",
   "execution_count": 109,
   "metadata": {
    "collapsed": false
   },
   "outputs": [
    {
     "data": {
      "text/html": [
       "<div>\n",
       "<table border=\"1\" class=\"dataframe\">\n",
       "  <thead>\n",
       "    <tr style=\"text-align: right;\">\n",
       "      <th></th>\n",
       "      <th>County</th>\n",
       "      <th>Number of Stores</th>\n",
       "    </tr>\n",
       "  </thead>\n",
       "  <tbody>\n",
       "    <tr>\n",
       "      <th>0</th>\n",
       "      <td>Adair</td>\n",
       "      <td>8</td>\n",
       "    </tr>\n",
       "    <tr>\n",
       "      <th>1</th>\n",
       "      <td>Adams</td>\n",
       "      <td>1</td>\n",
       "    </tr>\n",
       "    <tr>\n",
       "      <th>2</th>\n",
       "      <td>Allamakee</td>\n",
       "      <td>6</td>\n",
       "    </tr>\n",
       "    <tr>\n",
       "      <th>3</th>\n",
       "      <td>Appanoose</td>\n",
       "      <td>6</td>\n",
       "    </tr>\n",
       "    <tr>\n",
       "      <th>4</th>\n",
       "      <td>Audubon</td>\n",
       "      <td>3</td>\n",
       "    </tr>\n",
       "    <tr>\n",
       "      <th>5</th>\n",
       "      <td>Benton</td>\n",
       "      <td>6</td>\n",
       "    </tr>\n",
       "    <tr>\n",
       "      <th>6</th>\n",
       "      <td>Black Hawk</td>\n",
       "      <td>73</td>\n",
       "    </tr>\n",
       "    <tr>\n",
       "      <th>7</th>\n",
       "      <td>Boone</td>\n",
       "      <td>15</td>\n",
       "    </tr>\n",
       "    <tr>\n",
       "      <th>8</th>\n",
       "      <td>Bremer</td>\n",
       "      <td>9</td>\n",
       "    </tr>\n",
       "    <tr>\n",
       "      <th>9</th>\n",
       "      <td>Buchanan</td>\n",
       "      <td>10</td>\n",
       "    </tr>\n",
       "    <tr>\n",
       "      <th>10</th>\n",
       "      <td>Buena Vista</td>\n",
       "      <td>13</td>\n",
       "    </tr>\n",
       "    <tr>\n",
       "      <th>11</th>\n",
       "      <td>Butler</td>\n",
       "      <td>7</td>\n",
       "    </tr>\n",
       "    <tr>\n",
       "      <th>12</th>\n",
       "      <td>Calhoun</td>\n",
       "      <td>8</td>\n",
       "    </tr>\n",
       "    <tr>\n",
       "      <th>13</th>\n",
       "      <td>Carroll</td>\n",
       "      <td>12</td>\n",
       "    </tr>\n",
       "    <tr>\n",
       "      <th>14</th>\n",
       "      <td>Cass</td>\n",
       "      <td>9</td>\n",
       "    </tr>\n",
       "    <tr>\n",
       "      <th>15</th>\n",
       "      <td>Cedar</td>\n",
       "      <td>8</td>\n",
       "    </tr>\n",
       "    <tr>\n",
       "      <th>16</th>\n",
       "      <td>Cerro Gordo</td>\n",
       "      <td>20</td>\n",
       "    </tr>\n",
       "    <tr>\n",
       "      <th>17</th>\n",
       "      <td>Cherokee</td>\n",
       "      <td>7</td>\n",
       "    </tr>\n",
       "    <tr>\n",
       "      <th>18</th>\n",
       "      <td>Chickasaw</td>\n",
       "      <td>5</td>\n",
       "    </tr>\n",
       "    <tr>\n",
       "      <th>19</th>\n",
       "      <td>Clarke</td>\n",
       "      <td>6</td>\n",
       "    </tr>\n",
       "    <tr>\n",
       "      <th>20</th>\n",
       "      <td>Clay</td>\n",
       "      <td>8</td>\n",
       "    </tr>\n",
       "    <tr>\n",
       "      <th>21</th>\n",
       "      <td>Clayton</td>\n",
       "      <td>12</td>\n",
       "    </tr>\n",
       "    <tr>\n",
       "      <th>22</th>\n",
       "      <td>Clinton</td>\n",
       "      <td>17</td>\n",
       "    </tr>\n",
       "    <tr>\n",
       "      <th>23</th>\n",
       "      <td>Crawford</td>\n",
       "      <td>6</td>\n",
       "    </tr>\n",
       "    <tr>\n",
       "      <th>24</th>\n",
       "      <td>Dallas</td>\n",
       "      <td>17</td>\n",
       "    </tr>\n",
       "  </tbody>\n",
       "</table>\n",
       "</div>"
      ],
      "text/plain": [
       "         County  Number of Stores\n",
       "0         Adair                 8\n",
       "1         Adams                 1\n",
       "2     Allamakee                 6\n",
       "3     Appanoose                 6\n",
       "4       Audubon                 3\n",
       "5        Benton                 6\n",
       "6    Black Hawk                73\n",
       "7         Boone                15\n",
       "8        Bremer                 9\n",
       "9      Buchanan                10\n",
       "10  Buena Vista                13\n",
       "11       Butler                 7\n",
       "12      Calhoun                 8\n",
       "13      Carroll                12\n",
       "14         Cass                 9\n",
       "15        Cedar                 8\n",
       "16  Cerro Gordo                20\n",
       "17     Cherokee                 7\n",
       "18    Chickasaw                 5\n",
       "19       Clarke                 6\n",
       "20         Clay                 8\n",
       "21      Clayton                12\n",
       "22      Clinton                17\n",
       "23     Crawford                 6\n",
       "24       Dallas                17"
      ]
     },
     "execution_count": 109,
     "metadata": {},
     "output_type": "execute_result"
    }
   ],
   "source": [
    "countiesVendorPivot2.head(25)"
   ]
  },
  {
   "cell_type": "code",
   "execution_count": 110,
   "metadata": {
    "collapsed": false
   },
   "outputs": [
    {
     "data": {
      "text/plain": [
       "1380"
      ]
     },
     "execution_count": 110,
     "metadata": {},
     "output_type": "execute_result"
    }
   ],
   "source": [
    "sum(countiesVendorPivot2['Number of Stores'])"
   ]
  },
  {
   "cell_type": "code",
   "execution_count": 151,
   "metadata": {
    "collapsed": false
   },
   "outputs": [],
   "source": [
    "# maybe don't use bottles sold and state bottle retail here\n",
    "countiesProfitPivot = pd.pivot_table(iowa, index=['County'],\n",
    "                             values=['Sale Profit','Bottles Sold', 'State Bottle Retail', ],\n",
    "                             aggfunc=(sum))\n",
    "countiesProfitPivot = countiesProfitPivot.reset_index()\n",
    "countiesProfitPivot.columns = ['County', 'Bottles Sold', 'SumProfit', 'Total Bottle Retail']\n"
   ]
  },
  {
   "cell_type": "code",
   "execution_count": 376,
   "metadata": {
    "collapsed": false,
    "scrolled": true
   },
   "outputs": [
    {
     "data": {
      "text/html": [
       "<div>\n",
       "<table border=\"1\" class=\"dataframe\">\n",
       "  <thead>\n",
       "    <tr style=\"text-align: right;\">\n",
       "      <th></th>\n",
       "      <th>County</th>\n",
       "      <th>Bottles Sold</th>\n",
       "      <th>SumProfit</th>\n",
       "      <th>Total Bottle Retail</th>\n",
       "    </tr>\n",
       "  </thead>\n",
       "  <tbody>\n",
       "    <tr>\n",
       "      <th>76</th>\n",
       "      <td>Polk</td>\n",
       "      <td>5818078</td>\n",
       "      <td>2.621364e+07</td>\n",
       "      <td>7.546130e+06</td>\n",
       "    </tr>\n",
       "    <tr>\n",
       "      <th>56</th>\n",
       "      <td>Linn</td>\n",
       "      <td>2421390</td>\n",
       "      <td>1.031109e+07</td>\n",
       "      <td>3.350986e+06</td>\n",
       "    </tr>\n",
       "    <tr>\n",
       "      <th>81</th>\n",
       "      <td>Scott</td>\n",
       "      <td>2045563</td>\n",
       "      <td>8.357573e+06</td>\n",
       "      <td>2.420137e+06</td>\n",
       "    </tr>\n",
       "    <tr>\n",
       "      <th>6</th>\n",
       "      <td>Black Hawk</td>\n",
       "      <td>1735197</td>\n",
       "      <td>6.648537e+06</td>\n",
       "      <td>2.133624e+06</td>\n",
       "    </tr>\n",
       "    <tr>\n",
       "      <th>51</th>\n",
       "      <td>Johnson</td>\n",
       "      <td>1527109</td>\n",
       "      <td>7.202983e+06</td>\n",
       "      <td>2.097862e+06</td>\n",
       "    </tr>\n",
       "    <tr>\n",
       "      <th>77</th>\n",
       "      <td>Pottawattamie</td>\n",
       "      <td>951506</td>\n",
       "      <td>4.148367e+06</td>\n",
       "      <td>1.300927e+06</td>\n",
       "    </tr>\n",
       "    <tr>\n",
       "      <th>96</th>\n",
       "      <td>Woodbury</td>\n",
       "      <td>939206</td>\n",
       "      <td>4.123710e+06</td>\n",
       "      <td>1.277224e+06</td>\n",
       "    </tr>\n",
       "    <tr>\n",
       "      <th>30</th>\n",
       "      <td>Dubuque</td>\n",
       "      <td>779839</td>\n",
       "      <td>3.565410e+06</td>\n",
       "      <td>1.147811e+06</td>\n",
       "    </tr>\n",
       "    <tr>\n",
       "      <th>84</th>\n",
       "      <td>Story</td>\n",
       "      <td>770265</td>\n",
       "      <td>3.541601e+06</td>\n",
       "      <td>1.381440e+06</td>\n",
       "    </tr>\n",
       "    <tr>\n",
       "      <th>16</th>\n",
       "      <td>Cerro Gordo</td>\n",
       "      <td>550337</td>\n",
       "      <td>2.355573e+06</td>\n",
       "      <td>9.657233e+05</td>\n",
       "    </tr>\n",
       "  </tbody>\n",
       "</table>\n",
       "</div>"
      ],
      "text/plain": [
       "           County  Bottles Sold     SumProfit  Total Bottle Retail\n",
       "76           Polk       5818078  2.621364e+07         7.546130e+06\n",
       "56           Linn       2421390  1.031109e+07         3.350986e+06\n",
       "81          Scott       2045563  8.357573e+06         2.420137e+06\n",
       "6      Black Hawk       1735197  6.648537e+06         2.133624e+06\n",
       "51        Johnson       1527109  7.202983e+06         2.097862e+06\n",
       "77  Pottawattamie        951506  4.148367e+06         1.300927e+06\n",
       "96       Woodbury        939206  4.123710e+06         1.277224e+06\n",
       "30        Dubuque        779839  3.565410e+06         1.147811e+06\n",
       "84          Story        770265  3.541601e+06         1.381440e+06\n",
       "16    Cerro Gordo        550337  2.355573e+06         9.657233e+05"
      ]
     },
     "execution_count": 376,
     "metadata": {},
     "output_type": "execute_result"
    }
   ],
   "source": [
    "countiesProfitPivot.sort_values(\"Bottles Sold\", ascending=False).head(10)"
   ]
  },
  {
   "cell_type": "code",
   "execution_count": 153,
   "metadata": {
    "collapsed": false
   },
   "outputs": [],
   "source": [
    "countiesProfitVendorJoin  = pd.merge(countiesVendorPivot2, countiesProfitPivot, on='County')"
   ]
  },
  {
   "cell_type": "code",
   "execution_count": 154,
   "metadata": {
    "collapsed": false
   },
   "outputs": [],
   "source": [
    "countiesProfitVendorJoin['Profit Per Vendor'] = countiesProfitVendorJoin['SumProfit'] / countiesProfitVendorJoin['Number of Stores']"
   ]
  },
  {
   "cell_type": "code",
   "execution_count": 155,
   "metadata": {
    "collapsed": false,
    "scrolled": false
   },
   "outputs": [
    {
     "data": {
      "text/html": [
       "<div>\n",
       "<table border=\"1\" class=\"dataframe\">\n",
       "  <thead>\n",
       "    <tr style=\"text-align: right;\">\n",
       "      <th></th>\n",
       "      <th>County</th>\n",
       "      <th>Number of Stores</th>\n",
       "      <th>Bottles Sold</th>\n",
       "      <th>SumProfit</th>\n",
       "      <th>Total Bottle Retail</th>\n",
       "      <th>Profit Per Vendor</th>\n",
       "    </tr>\n",
       "  </thead>\n",
       "  <tbody>\n",
       "    <tr>\n",
       "      <th>51</th>\n",
       "      <td>Johnson</td>\n",
       "      <td>53</td>\n",
       "      <td>1527109</td>\n",
       "      <td>7.202983e+06</td>\n",
       "      <td>2.097862e+06</td>\n",
       "      <td>135905.340377</td>\n",
       "    </tr>\n",
       "    <tr>\n",
       "      <th>24</th>\n",
       "      <td>Dallas</td>\n",
       "      <td>17</td>\n",
       "      <td>374922</td>\n",
       "      <td>2.213984e+06</td>\n",
       "      <td>4.124453e+05</td>\n",
       "      <td>130234.345294</td>\n",
       "    </tr>\n",
       "    <tr>\n",
       "      <th>76</th>\n",
       "      <td>Polk</td>\n",
       "      <td>207</td>\n",
       "      <td>5818078</td>\n",
       "      <td>2.621364e+07</td>\n",
       "      <td>7.546130e+06</td>\n",
       "      <td>126635.942512</td>\n",
       "    </tr>\n",
       "    <tr>\n",
       "      <th>81</th>\n",
       "      <td>Scott</td>\n",
       "      <td>67</td>\n",
       "      <td>2045563</td>\n",
       "      <td>8.357573e+06</td>\n",
       "      <td>2.420137e+06</td>\n",
       "      <td>124739.888507</td>\n",
       "    </tr>\n",
       "    <tr>\n",
       "      <th>16</th>\n",
       "      <td>Cerro Gordo</td>\n",
       "      <td>20</td>\n",
       "      <td>550337</td>\n",
       "      <td>2.355573e+06</td>\n",
       "      <td>9.657233e+05</td>\n",
       "      <td>117778.665000</td>\n",
       "    </tr>\n",
       "  </tbody>\n",
       "</table>\n",
       "</div>"
      ],
      "text/plain": [
       "         County  Number of Stores  Bottles Sold     SumProfit  \\\n",
       "51      Johnson                53       1527109  7.202983e+06   \n",
       "24       Dallas                17        374922  2.213984e+06   \n",
       "76         Polk               207       5818078  2.621364e+07   \n",
       "81        Scott                67       2045563  8.357573e+06   \n",
       "16  Cerro Gordo                20        550337  2.355573e+06   \n",
       "\n",
       "    Total Bottle Retail  Profit Per Vendor  \n",
       "51         2.097862e+06      135905.340377  \n",
       "24         4.124453e+05      130234.345294  \n",
       "76         7.546130e+06      126635.942512  \n",
       "81         2.420137e+06      124739.888507  \n",
       "16         9.657233e+05      117778.665000  "
      ]
     },
     "execution_count": 155,
     "metadata": {},
     "output_type": "execute_result"
    }
   ],
   "source": [
    "countiesProfitVendorJoin.sort_values('Profit Per Vendor', ascending=False).head()"
   ]
  },
  {
   "cell_type": "code",
   "execution_count": 116,
   "metadata": {
    "collapsed": false,
    "scrolled": false
   },
   "outputs": [
    {
     "data": {
      "text/html": [
       "<div>\n",
       "<table border=\"1\" class=\"dataframe\">\n",
       "  <thead>\n",
       "    <tr style=\"text-align: right;\">\n",
       "      <th></th>\n",
       "      <th>Number of Stores</th>\n",
       "      <th>SumProfit</th>\n",
       "      <th>Profit Per Vendor</th>\n",
       "    </tr>\n",
       "  </thead>\n",
       "  <tbody>\n",
       "    <tr>\n",
       "      <th>count</th>\n",
       "      <td>99.000000</td>\n",
       "      <td>9.900000e+01</td>\n",
       "      <td>99.000000</td>\n",
       "    </tr>\n",
       "    <tr>\n",
       "      <th>mean</th>\n",
       "      <td>13.939394</td>\n",
       "      <td>1.177198e+06</td>\n",
       "      <td>58576.577569</td>\n",
       "    </tr>\n",
       "    <tr>\n",
       "      <th>std</th>\n",
       "      <td>25.033373</td>\n",
       "      <td>3.065236e+06</td>\n",
       "      <td>30064.707897</td>\n",
       "    </tr>\n",
       "    <tr>\n",
       "      <th>min</th>\n",
       "      <td>1.000000</td>\n",
       "      <td>9.940240e+03</td>\n",
       "      <td>9940.240000</td>\n",
       "    </tr>\n",
       "    <tr>\n",
       "      <th>25%</th>\n",
       "      <td>5.000000</td>\n",
       "      <td>1.830150e+05</td>\n",
       "      <td>32089.905857</td>\n",
       "    </tr>\n",
       "    <tr>\n",
       "      <th>50%</th>\n",
       "      <td>7.000000</td>\n",
       "      <td>3.452164e+05</td>\n",
       "      <td>54401.570000</td>\n",
       "    </tr>\n",
       "    <tr>\n",
       "      <th>75%</th>\n",
       "      <td>12.500000</td>\n",
       "      <td>7.265732e+05</td>\n",
       "      <td>80111.910357</td>\n",
       "    </tr>\n",
       "    <tr>\n",
       "      <th>max</th>\n",
       "      <td>207.000000</td>\n",
       "      <td>2.621364e+07</td>\n",
       "      <td>135905.340377</td>\n",
       "    </tr>\n",
       "  </tbody>\n",
       "</table>\n",
       "</div>"
      ],
      "text/plain": [
       "       Number of Stores     SumProfit  Profit Per Vendor\n",
       "count         99.000000  9.900000e+01          99.000000\n",
       "mean          13.939394  1.177198e+06       58576.577569\n",
       "std           25.033373  3.065236e+06       30064.707897\n",
       "min            1.000000  9.940240e+03        9940.240000\n",
       "25%            5.000000  1.830150e+05       32089.905857\n",
       "50%            7.000000  3.452164e+05       54401.570000\n",
       "75%           12.500000  7.265732e+05       80111.910357\n",
       "max          207.000000  2.621364e+07      135905.340377"
      ]
     },
     "execution_count": 116,
     "metadata": {},
     "output_type": "execute_result"
    }
   ],
   "source": [
    "countiesProfitVendorJoin.describe()"
   ]
  },
  {
   "cell_type": "code",
   "execution_count": 156,
   "metadata": {
    "collapsed": true
   },
   "outputs": [],
   "source": [
    "countiesProfitVendorJoin['Quartile'] = countiesProfitVendorJoin['Profit Per Vendor']"
   ]
  },
  {
   "cell_type": "code",
   "execution_count": 157,
   "metadata": {
    "collapsed": false,
    "scrolled": true
   },
   "outputs": [
    {
     "data": {
      "text/html": [
       "<div>\n",
       "<table border=\"1\" class=\"dataframe\">\n",
       "  <thead>\n",
       "    <tr style=\"text-align: right;\">\n",
       "      <th></th>\n",
       "      <th>County</th>\n",
       "      <th>Number of Stores</th>\n",
       "      <th>Bottles Sold</th>\n",
       "      <th>SumProfit</th>\n",
       "      <th>Total Bottle Retail</th>\n",
       "      <th>Profit Per Vendor</th>\n",
       "      <th>Quartile</th>\n",
       "    </tr>\n",
       "  </thead>\n",
       "  <tbody>\n",
       "    <tr>\n",
       "      <th>0</th>\n",
       "      <td>Adair</td>\n",
       "      <td>8</td>\n",
       "      <td>43503</td>\n",
       "      <td>177416.35</td>\n",
       "      <td>76568.47</td>\n",
       "      <td>22177.043750</td>\n",
       "      <td>22177.043750</td>\n",
       "    </tr>\n",
       "    <tr>\n",
       "      <th>1</th>\n",
       "      <td>Adams</td>\n",
       "      <td>1</td>\n",
       "      <td>10173</td>\n",
       "      <td>40908.67</td>\n",
       "      <td>34277.08</td>\n",
       "      <td>40908.670000</td>\n",
       "      <td>40908.670000</td>\n",
       "    </tr>\n",
       "    <tr>\n",
       "      <th>2</th>\n",
       "      <td>Allamakee</td>\n",
       "      <td>6</td>\n",
       "      <td>74610</td>\n",
       "      <td>336293.58</td>\n",
       "      <td>160074.22</td>\n",
       "      <td>56048.930000</td>\n",
       "      <td>56048.930000</td>\n",
       "    </tr>\n",
       "    <tr>\n",
       "      <th>3</th>\n",
       "      <td>Appanoose</td>\n",
       "      <td>6</td>\n",
       "      <td>81618</td>\n",
       "      <td>338571.27</td>\n",
       "      <td>150882.84</td>\n",
       "      <td>56428.545000</td>\n",
       "      <td>56428.545000</td>\n",
       "    </tr>\n",
       "    <tr>\n",
       "      <th>4</th>\n",
       "      <td>Audubon</td>\n",
       "      <td>3</td>\n",
       "      <td>18552</td>\n",
       "      <td>70731.86</td>\n",
       "      <td>31832.57</td>\n",
       "      <td>23577.286667</td>\n",
       "      <td>23577.286667</td>\n",
       "    </tr>\n",
       "  </tbody>\n",
       "</table>\n",
       "</div>"
      ],
      "text/plain": [
       "      County  Number of Stores  Bottles Sold  SumProfit  Total Bottle Retail  \\\n",
       "0      Adair                 8         43503  177416.35             76568.47   \n",
       "1      Adams                 1         10173   40908.67             34277.08   \n",
       "2  Allamakee                 6         74610  336293.58            160074.22   \n",
       "3  Appanoose                 6         81618  338571.27            150882.84   \n",
       "4    Audubon                 3         18552   70731.86             31832.57   \n",
       "\n",
       "   Profit Per Vendor      Quartile  \n",
       "0       22177.043750  22177.043750  \n",
       "1       40908.670000  40908.670000  \n",
       "2       56048.930000  56048.930000  \n",
       "3       56428.545000  56428.545000  \n",
       "4       23577.286667  23577.286667  "
      ]
     },
     "execution_count": 157,
     "metadata": {},
     "output_type": "execute_result"
    }
   ],
   "source": [
    "countiesProfitVendorJoin.head(5)"
   ]
  },
  {
   "cell_type": "code",
   "execution_count": 144,
   "metadata": {
    "collapsed": false
   },
   "outputs": [],
   "source": [
    "def makeQuartile(x):\n",
    "    if x < 32090:\n",
    "        return 1\n",
    "    elif (x >= 32090) & (x < 54402):\n",
    "        return 2\n",
    "    elif (x >= 54402) & (x < 80112):\n",
    "        return 3\n",
    "    else:\n",
    "        return 4"
   ]
  },
  {
   "cell_type": "code",
   "execution_count": 158,
   "metadata": {
    "collapsed": false
   },
   "outputs": [],
   "source": [
    "countiesProfitVendorJoin['Quartile'] = countiesProfitVendorJoin['Quartile'].apply(makeQuartile)"
   ]
  },
  {
   "cell_type": "code",
   "execution_count": 159,
   "metadata": {
    "collapsed": false,
    "scrolled": false
   },
   "outputs": [
    {
     "data": {
      "text/html": [
       "<div>\n",
       "<table border=\"1\" class=\"dataframe\">\n",
       "  <thead>\n",
       "    <tr style=\"text-align: right;\">\n",
       "      <th></th>\n",
       "      <th>County</th>\n",
       "      <th>Number of Stores</th>\n",
       "      <th>Bottles Sold</th>\n",
       "      <th>SumProfit</th>\n",
       "      <th>Total Bottle Retail</th>\n",
       "      <th>Profit Per Vendor</th>\n",
       "      <th>Quartile</th>\n",
       "    </tr>\n",
       "  </thead>\n",
       "  <tbody>\n",
       "    <tr>\n",
       "      <th>56</th>\n",
       "      <td>Linn</td>\n",
       "      <td>101</td>\n",
       "      <td>2421390</td>\n",
       "      <td>1.031109e+07</td>\n",
       "      <td>3.350986e+06</td>\n",
       "      <td>102090.019109</td>\n",
       "      <td>4</td>\n",
       "    </tr>\n",
       "    <tr>\n",
       "      <th>63</th>\n",
       "      <td>Marshall</td>\n",
       "      <td>15</td>\n",
       "      <td>283493</td>\n",
       "      <td>1.266260e+06</td>\n",
       "      <td>4.433484e+05</td>\n",
       "      <td>84417.301333</td>\n",
       "      <td>4</td>\n",
       "    </tr>\n",
       "    <tr>\n",
       "      <th>29</th>\n",
       "      <td>Dickinson</td>\n",
       "      <td>15</td>\n",
       "      <td>327118</td>\n",
       "      <td>1.546171e+06</td>\n",
       "      <td>5.309779e+05</td>\n",
       "      <td>103078.084000</td>\n",
       "      <td>4</td>\n",
       "    </tr>\n",
       "    <tr>\n",
       "      <th>24</th>\n",
       "      <td>Dallas</td>\n",
       "      <td>17</td>\n",
       "      <td>374922</td>\n",
       "      <td>2.213984e+06</td>\n",
       "      <td>4.124453e+05</td>\n",
       "      <td>130234.345294</td>\n",
       "      <td>4</td>\n",
       "    </tr>\n",
       "    <tr>\n",
       "      <th>23</th>\n",
       "      <td>Crawford</td>\n",
       "      <td>6</td>\n",
       "      <td>108825</td>\n",
       "      <td>5.189021e+05</td>\n",
       "      <td>1.714620e+05</td>\n",
       "      <td>86483.690000</td>\n",
       "      <td>4</td>\n",
       "    </tr>\n",
       "    <tr>\n",
       "      <th>22</th>\n",
       "      <td>Clinton</td>\n",
       "      <td>17</td>\n",
       "      <td>341921</td>\n",
       "      <td>1.389838e+06</td>\n",
       "      <td>4.780590e+05</td>\n",
       "      <td>81755.190000</td>\n",
       "      <td>4</td>\n",
       "    </tr>\n",
       "    <tr>\n",
       "      <th>82</th>\n",
       "      <td>Shelby</td>\n",
       "      <td>4</td>\n",
       "      <td>71154</td>\n",
       "      <td>3.204517e+05</td>\n",
       "      <td>9.967620e+04</td>\n",
       "      <td>80112.935000</td>\n",
       "      <td>4</td>\n",
       "    </tr>\n",
       "    <tr>\n",
       "      <th>43</th>\n",
       "      <td>Henry</td>\n",
       "      <td>5</td>\n",
       "      <td>100511</td>\n",
       "      <td>4.452695e+05</td>\n",
       "      <td>1.597518e+05</td>\n",
       "      <td>89053.900000</td>\n",
       "      <td>4</td>\n",
       "    </tr>\n",
       "    <tr>\n",
       "      <th>44</th>\n",
       "      <td>Howard</td>\n",
       "      <td>3</td>\n",
       "      <td>55932</td>\n",
       "      <td>2.714828e+05</td>\n",
       "      <td>8.977945e+04</td>\n",
       "      <td>90494.266667</td>\n",
       "      <td>4</td>\n",
       "    </tr>\n",
       "    <tr>\n",
       "      <th>30</th>\n",
       "      <td>Dubuque</td>\n",
       "      <td>40</td>\n",
       "      <td>779839</td>\n",
       "      <td>3.565410e+06</td>\n",
       "      <td>1.147811e+06</td>\n",
       "      <td>89135.256000</td>\n",
       "      <td>4</td>\n",
       "    </tr>\n",
       "    <tr>\n",
       "      <th>81</th>\n",
       "      <td>Scott</td>\n",
       "      <td>67</td>\n",
       "      <td>2045563</td>\n",
       "      <td>8.357573e+06</td>\n",
       "      <td>2.420137e+06</td>\n",
       "      <td>124739.888507</td>\n",
       "      <td>4</td>\n",
       "    </tr>\n",
       "    <tr>\n",
       "      <th>16</th>\n",
       "      <td>Cerro Gordo</td>\n",
       "      <td>20</td>\n",
       "      <td>550337</td>\n",
       "      <td>2.355573e+06</td>\n",
       "      <td>9.657233e+05</td>\n",
       "      <td>117778.665000</td>\n",
       "      <td>4</td>\n",
       "    </tr>\n",
       "    <tr>\n",
       "      <th>58</th>\n",
       "      <td>Lucas</td>\n",
       "      <td>2</td>\n",
       "      <td>39202</td>\n",
       "      <td>1.729755e+05</td>\n",
       "      <td>7.418472e+04</td>\n",
       "      <td>86487.750000</td>\n",
       "      <td>4</td>\n",
       "    </tr>\n",
       "    <tr>\n",
       "      <th>95</th>\n",
       "      <td>Winneshiek</td>\n",
       "      <td>5</td>\n",
       "      <td>114224</td>\n",
       "      <td>5.283763e+05</td>\n",
       "      <td>2.007855e+05</td>\n",
       "      <td>105675.254000</td>\n",
       "      <td>4</td>\n",
       "    </tr>\n",
       "    <tr>\n",
       "      <th>96</th>\n",
       "      <td>Woodbury</td>\n",
       "      <td>38</td>\n",
       "      <td>939206</td>\n",
       "      <td>4.123710e+06</td>\n",
       "      <td>1.277224e+06</td>\n",
       "      <td>108518.688421</td>\n",
       "      <td>4</td>\n",
       "    </tr>\n",
       "  </tbody>\n",
       "</table>\n",
       "</div>"
      ],
      "text/plain": [
       "         County  Number of Stores  Bottles Sold     SumProfit  \\\n",
       "56         Linn               101       2421390  1.031109e+07   \n",
       "63     Marshall                15        283493  1.266260e+06   \n",
       "29    Dickinson                15        327118  1.546171e+06   \n",
       "24       Dallas                17        374922  2.213984e+06   \n",
       "23     Crawford                 6        108825  5.189021e+05   \n",
       "22      Clinton                17        341921  1.389838e+06   \n",
       "82       Shelby                 4         71154  3.204517e+05   \n",
       "43        Henry                 5        100511  4.452695e+05   \n",
       "44       Howard                 3         55932  2.714828e+05   \n",
       "30      Dubuque                40        779839  3.565410e+06   \n",
       "81        Scott                67       2045563  8.357573e+06   \n",
       "16  Cerro Gordo                20        550337  2.355573e+06   \n",
       "58        Lucas                 2         39202  1.729755e+05   \n",
       "95   Winneshiek                 5        114224  5.283763e+05   \n",
       "96     Woodbury                38        939206  4.123710e+06   \n",
       "\n",
       "    Total Bottle Retail  Profit Per Vendor  Quartile  \n",
       "56         3.350986e+06      102090.019109         4  \n",
       "63         4.433484e+05       84417.301333         4  \n",
       "29         5.309779e+05      103078.084000         4  \n",
       "24         4.124453e+05      130234.345294         4  \n",
       "23         1.714620e+05       86483.690000         4  \n",
       "22         4.780590e+05       81755.190000         4  \n",
       "82         9.967620e+04       80112.935000         4  \n",
       "43         1.597518e+05       89053.900000         4  \n",
       "44         8.977945e+04       90494.266667         4  \n",
       "30         1.147811e+06       89135.256000         4  \n",
       "81         2.420137e+06      124739.888507         4  \n",
       "16         9.657233e+05      117778.665000         4  \n",
       "58         7.418472e+04       86487.750000         4  \n",
       "95         2.007855e+05      105675.254000         4  \n",
       "96         1.277224e+06      108518.688421         4  "
      ]
     },
     "execution_count": 159,
     "metadata": {},
     "output_type": "execute_result"
    }
   ],
   "source": [
    "countiesProfitVendorJoin.sort_values('Quartile', ascending=False).head(15)"
   ]
  },
  {
   "cell_type": "code",
   "execution_count": 384,
   "metadata": {
    "collapsed": false
   },
   "outputs": [
    {
     "data": {
      "text/html": [
       "<div>\n",
       "<table border=\"1\" class=\"dataframe\">\n",
       "  <thead>\n",
       "    <tr style=\"text-align: right;\">\n",
       "      <th></th>\n",
       "      <th>County</th>\n",
       "      <th>Number of Stores</th>\n",
       "      <th>Bottles Sold</th>\n",
       "      <th>SumProfit</th>\n",
       "      <th>Total Bottle Retail</th>\n",
       "      <th>Profit Per Vendor</th>\n",
       "      <th>Quartile</th>\n",
       "      <th>Bottles per Vendor</th>\n",
       "    </tr>\n",
       "  </thead>\n",
       "  <tbody>\n",
       "    <tr>\n",
       "      <th>0</th>\n",
       "      <td>Adair</td>\n",
       "      <td>8</td>\n",
       "      <td>43503</td>\n",
       "      <td>177416.35</td>\n",
       "      <td>76568.47</td>\n",
       "      <td>22177.043750</td>\n",
       "      <td>1</td>\n",
       "      <td>5437.875</td>\n",
       "    </tr>\n",
       "    <tr>\n",
       "      <th>1</th>\n",
       "      <td>Adams</td>\n",
       "      <td>1</td>\n",
       "      <td>10173</td>\n",
       "      <td>40908.67</td>\n",
       "      <td>34277.08</td>\n",
       "      <td>40908.670000</td>\n",
       "      <td>2</td>\n",
       "      <td>10173.000</td>\n",
       "    </tr>\n",
       "    <tr>\n",
       "      <th>2</th>\n",
       "      <td>Allamakee</td>\n",
       "      <td>6</td>\n",
       "      <td>74610</td>\n",
       "      <td>336293.58</td>\n",
       "      <td>160074.22</td>\n",
       "      <td>56048.930000</td>\n",
       "      <td>3</td>\n",
       "      <td>12435.000</td>\n",
       "    </tr>\n",
       "    <tr>\n",
       "      <th>3</th>\n",
       "      <td>Appanoose</td>\n",
       "      <td>6</td>\n",
       "      <td>81618</td>\n",
       "      <td>338571.27</td>\n",
       "      <td>150882.84</td>\n",
       "      <td>56428.545000</td>\n",
       "      <td>3</td>\n",
       "      <td>13603.000</td>\n",
       "    </tr>\n",
       "    <tr>\n",
       "      <th>4</th>\n",
       "      <td>Audubon</td>\n",
       "      <td>3</td>\n",
       "      <td>18552</td>\n",
       "      <td>70731.86</td>\n",
       "      <td>31832.57</td>\n",
       "      <td>23577.286667</td>\n",
       "      <td>1</td>\n",
       "      <td>6184.000</td>\n",
       "    </tr>\n",
       "  </tbody>\n",
       "</table>\n",
       "</div>"
      ],
      "text/plain": [
       "      County  Number of Stores  Bottles Sold  SumProfit  Total Bottle Retail  \\\n",
       "0      Adair                 8         43503  177416.35             76568.47   \n",
       "1      Adams                 1         10173   40908.67             34277.08   \n",
       "2  Allamakee                 6         74610  336293.58            160074.22   \n",
       "3  Appanoose                 6         81618  338571.27            150882.84   \n",
       "4    Audubon                 3         18552   70731.86             31832.57   \n",
       "\n",
       "   Profit Per Vendor  Quartile  Bottles per Vendor  \n",
       "0       22177.043750         1            5437.875  \n",
       "1       40908.670000         2           10173.000  \n",
       "2       56048.930000         3           12435.000  \n",
       "3       56428.545000         3           13603.000  \n",
       "4       23577.286667         1            6184.000  "
      ]
     },
     "execution_count": 384,
     "metadata": {},
     "output_type": "execute_result"
    }
   ],
   "source": [
    "countiesProfitVendorJoin['Bottles per Vendor'] = countiesProfitVendorJoin['Bottles Sold'] / countiesProfitVendorJoin['Number of Stores']\n",
    "countiesProfitVendorJoin.head(5)"
   ]
  },
  {
   "cell_type": "code",
   "execution_count": 386,
   "metadata": {
    "collapsed": false
   },
   "outputs": [
    {
     "data": {
      "text/html": [
       "<div>\n",
       "<table border=\"1\" class=\"dataframe\">\n",
       "  <thead>\n",
       "    <tr style=\"text-align: right;\">\n",
       "      <th></th>\n",
       "      <th>County</th>\n",
       "      <th>Number of Stores</th>\n",
       "      <th>Bottles Sold</th>\n",
       "      <th>SumProfit</th>\n",
       "      <th>Total Bottle Retail</th>\n",
       "      <th>Profit Per Vendor</th>\n",
       "      <th>Quartile</th>\n",
       "      <th>Bottles per Vendor</th>\n",
       "    </tr>\n",
       "  </thead>\n",
       "  <tbody>\n",
       "    <tr>\n",
       "      <th>6</th>\n",
       "      <td>Black Hawk</td>\n",
       "      <td>73</td>\n",
       "      <td>1735197</td>\n",
       "      <td>6.648537e+06</td>\n",
       "      <td>2.133624e+06</td>\n",
       "      <td>91075.847260</td>\n",
       "      <td>4</td>\n",
       "      <td>23769.821918</td>\n",
       "    </tr>\n",
       "    <tr>\n",
       "      <th>8</th>\n",
       "      <td>Bremer</td>\n",
       "      <td>9</td>\n",
       "      <td>159127</td>\n",
       "      <td>7.269718e+05</td>\n",
       "      <td>3.264211e+05</td>\n",
       "      <td>80774.638889</td>\n",
       "      <td>4</td>\n",
       "      <td>17680.777778</td>\n",
       "    </tr>\n",
       "    <tr>\n",
       "      <th>16</th>\n",
       "      <td>Cerro Gordo</td>\n",
       "      <td>20</td>\n",
       "      <td>550337</td>\n",
       "      <td>2.355573e+06</td>\n",
       "      <td>9.657233e+05</td>\n",
       "      <td>117778.665000</td>\n",
       "      <td>4</td>\n",
       "      <td>27516.850000</td>\n",
       "    </tr>\n",
       "    <tr>\n",
       "      <th>22</th>\n",
       "      <td>Clinton</td>\n",
       "      <td>17</td>\n",
       "      <td>341921</td>\n",
       "      <td>1.389838e+06</td>\n",
       "      <td>4.780590e+05</td>\n",
       "      <td>81755.190000</td>\n",
       "      <td>4</td>\n",
       "      <td>20113.000000</td>\n",
       "    </tr>\n",
       "    <tr>\n",
       "      <th>23</th>\n",
       "      <td>Crawford</td>\n",
       "      <td>6</td>\n",
       "      <td>108825</td>\n",
       "      <td>5.189021e+05</td>\n",
       "      <td>1.714620e+05</td>\n",
       "      <td>86483.690000</td>\n",
       "      <td>4</td>\n",
       "      <td>18137.500000</td>\n",
       "    </tr>\n",
       "  </tbody>\n",
       "</table>\n",
       "</div>"
      ],
      "text/plain": [
       "         County  Number of Stores  Bottles Sold     SumProfit  \\\n",
       "6    Black Hawk                73       1735197  6.648537e+06   \n",
       "8        Bremer                 9        159127  7.269718e+05   \n",
       "16  Cerro Gordo                20        550337  2.355573e+06   \n",
       "22      Clinton                17        341921  1.389838e+06   \n",
       "23     Crawford                 6        108825  5.189021e+05   \n",
       "\n",
       "    Total Bottle Retail  Profit Per Vendor  Quartile  Bottles per Vendor  \n",
       "6          2.133624e+06       91075.847260         4        23769.821918  \n",
       "8          3.264211e+05       80774.638889         4        17680.777778  \n",
       "16         9.657233e+05      117778.665000         4        27516.850000  \n",
       "22         4.780590e+05       81755.190000         4        20113.000000  \n",
       "23         1.714620e+05       86483.690000         4        18137.500000  "
      ]
     },
     "execution_count": 386,
     "metadata": {},
     "output_type": "execute_result"
    }
   ],
   "source": [
    "topQuartile = countiesProfitVendorJoin[(countiesProfitVendorJoin['Quartile'] == 4)]\n",
    "topQuartile.head()"
   ]
  },
  {
   "cell_type": "code",
   "execution_count": 390,
   "metadata": {
    "collapsed": false
   },
   "outputs": [
    {
     "name": "stdout",
     "output_type": "stream",
     "text": [
      "Average Bottles per Top-Quartile Vendor:  21959.4643222\n",
      "Average Profit per Top-Quartile Vendor:  99121.3332569\n"
     ]
    }
   ],
   "source": [
    "print \"Average Bottles per Top-Quartile Vendor: \", np.mean(topQuartile['Bottles per Vendor'])\n",
    "print \"Average Profit per Top-Quartile Vendor: \", np.mean(topQuartile['Profit Per Vendor'])"
   ]
  },
  {
   "cell_type": "code",
   "execution_count": 177,
   "metadata": {
    "collapsed": false,
    "scrolled": true
   },
   "outputs": [
    {
     "data": {
      "text/html": [
       "<div>\n",
       "<table border=\"1\" class=\"dataframe\">\n",
       "  <thead>\n",
       "    <tr style=\"text-align: right;\">\n",
       "      <th></th>\n",
       "      <th>Q1</th>\n",
       "      <th>Q2</th>\n",
       "      <th>Q3</th>\n",
       "      <th>Q4</th>\n",
       "    </tr>\n",
       "  </thead>\n",
       "  <tbody>\n",
       "    <tr>\n",
       "      <th>0</th>\n",
       "      <td>1.0</td>\n",
       "      <td>0.0</td>\n",
       "      <td>0.0</td>\n",
       "      <td>0.0</td>\n",
       "    </tr>\n",
       "    <tr>\n",
       "      <th>1</th>\n",
       "      <td>0.0</td>\n",
       "      <td>1.0</td>\n",
       "      <td>0.0</td>\n",
       "      <td>0.0</td>\n",
       "    </tr>\n",
       "    <tr>\n",
       "      <th>2</th>\n",
       "      <td>0.0</td>\n",
       "      <td>0.0</td>\n",
       "      <td>1.0</td>\n",
       "      <td>0.0</td>\n",
       "    </tr>\n",
       "    <tr>\n",
       "      <th>3</th>\n",
       "      <td>0.0</td>\n",
       "      <td>0.0</td>\n",
       "      <td>1.0</td>\n",
       "      <td>0.0</td>\n",
       "    </tr>\n",
       "    <tr>\n",
       "      <th>4</th>\n",
       "      <td>1.0</td>\n",
       "      <td>0.0</td>\n",
       "      <td>0.0</td>\n",
       "      <td>0.0</td>\n",
       "    </tr>\n",
       "  </tbody>\n",
       "</table>\n",
       "</div>"
      ],
      "text/plain": [
       "    Q1   Q2   Q3   Q4\n",
       "0  1.0  0.0  0.0  0.0\n",
       "1  0.0  1.0  0.0  0.0\n",
       "2  0.0  0.0  1.0  0.0\n",
       "3  0.0  0.0  1.0  0.0\n",
       "4  1.0  0.0  0.0  0.0"
      ]
     },
     "execution_count": 177,
     "metadata": {},
     "output_type": "execute_result"
    }
   ],
   "source": [
    "countyQuartileDummies = pd.get_dummies(countiesProfitVendorJoin['Quartile'])\n",
    "countyQuartileDummies.columns = [\"Q1\", \"Q2\", \"Q3\", \"Q4\"]\n",
    "countyQuartileDummies.head()"
   ]
  },
  {
   "cell_type": "code",
   "execution_count": 179,
   "metadata": {
    "collapsed": false,
    "scrolled": true
   },
   "outputs": [
    {
     "data": {
      "text/html": [
       "<div>\n",
       "<table border=\"1\" class=\"dataframe\">\n",
       "  <thead>\n",
       "    <tr style=\"text-align: right;\">\n",
       "      <th></th>\n",
       "      <th>County</th>\n",
       "      <th>Number of Stores</th>\n",
       "      <th>Bottles Sold</th>\n",
       "      <th>SumProfit</th>\n",
       "      <th>Total Bottle Retail</th>\n",
       "      <th>Profit Per Vendor</th>\n",
       "      <th>Quartile</th>\n",
       "      <th>Q1</th>\n",
       "      <th>Q2</th>\n",
       "      <th>Q3</th>\n",
       "      <th>Q4</th>\n",
       "    </tr>\n",
       "  </thead>\n",
       "  <tbody>\n",
       "    <tr>\n",
       "      <th>0</th>\n",
       "      <td>Adair</td>\n",
       "      <td>8</td>\n",
       "      <td>43503</td>\n",
       "      <td>177416.35</td>\n",
       "      <td>76568.47</td>\n",
       "      <td>22177.043750</td>\n",
       "      <td>1</td>\n",
       "      <td>1.0</td>\n",
       "      <td>0.0</td>\n",
       "      <td>0.0</td>\n",
       "      <td>0.0</td>\n",
       "    </tr>\n",
       "    <tr>\n",
       "      <th>1</th>\n",
       "      <td>Adams</td>\n",
       "      <td>1</td>\n",
       "      <td>10173</td>\n",
       "      <td>40908.67</td>\n",
       "      <td>34277.08</td>\n",
       "      <td>40908.670000</td>\n",
       "      <td>2</td>\n",
       "      <td>0.0</td>\n",
       "      <td>1.0</td>\n",
       "      <td>0.0</td>\n",
       "      <td>0.0</td>\n",
       "    </tr>\n",
       "    <tr>\n",
       "      <th>2</th>\n",
       "      <td>Allamakee</td>\n",
       "      <td>6</td>\n",
       "      <td>74610</td>\n",
       "      <td>336293.58</td>\n",
       "      <td>160074.22</td>\n",
       "      <td>56048.930000</td>\n",
       "      <td>3</td>\n",
       "      <td>0.0</td>\n",
       "      <td>0.0</td>\n",
       "      <td>1.0</td>\n",
       "      <td>0.0</td>\n",
       "    </tr>\n",
       "    <tr>\n",
       "      <th>3</th>\n",
       "      <td>Appanoose</td>\n",
       "      <td>6</td>\n",
       "      <td>81618</td>\n",
       "      <td>338571.27</td>\n",
       "      <td>150882.84</td>\n",
       "      <td>56428.545000</td>\n",
       "      <td>3</td>\n",
       "      <td>0.0</td>\n",
       "      <td>0.0</td>\n",
       "      <td>1.0</td>\n",
       "      <td>0.0</td>\n",
       "    </tr>\n",
       "    <tr>\n",
       "      <th>4</th>\n",
       "      <td>Audubon</td>\n",
       "      <td>3</td>\n",
       "      <td>18552</td>\n",
       "      <td>70731.86</td>\n",
       "      <td>31832.57</td>\n",
       "      <td>23577.286667</td>\n",
       "      <td>1</td>\n",
       "      <td>1.0</td>\n",
       "      <td>0.0</td>\n",
       "      <td>0.0</td>\n",
       "      <td>0.0</td>\n",
       "    </tr>\n",
       "  </tbody>\n",
       "</table>\n",
       "</div>"
      ],
      "text/plain": [
       "      County  Number of Stores  Bottles Sold  SumProfit  Total Bottle Retail  \\\n",
       "0      Adair                 8         43503  177416.35             76568.47   \n",
       "1      Adams                 1         10173   40908.67             34277.08   \n",
       "2  Allamakee                 6         74610  336293.58            160074.22   \n",
       "3  Appanoose                 6         81618  338571.27            150882.84   \n",
       "4    Audubon                 3         18552   70731.86             31832.57   \n",
       "\n",
       "   Profit Per Vendor  Quartile   Q1   Q2   Q3   Q4  \n",
       "0       22177.043750         1  1.0  0.0  0.0  0.0  \n",
       "1       40908.670000         2  0.0  1.0  0.0  0.0  \n",
       "2       56048.930000         3  0.0  0.0  1.0  0.0  \n",
       "3       56428.545000         3  0.0  0.0  1.0  0.0  \n",
       "4       23577.286667         1  1.0  0.0  0.0  0.0  "
      ]
     },
     "execution_count": 179,
     "metadata": {},
     "output_type": "execute_result"
    }
   ],
   "source": [
    "finalCounty = pd.concat([countiesProfitVendorJoin, countyQuartileDummies], axis=1)\n",
    "finalCounty.head()"
   ]
  },
  {
   "cell_type": "code",
   "execution_count": 210,
   "metadata": {
    "collapsed": false,
    "scrolled": false
   },
   "outputs": [
    {
     "data": {
      "text/html": [
       "<div>\n",
       "<table border=\"1\" class=\"dataframe\">\n",
       "  <thead>\n",
       "    <tr style=\"text-align: right;\">\n",
       "      <th></th>\n",
       "      <th>County</th>\n",
       "      <th>Number of Stores</th>\n",
       "      <th>Bottles Sold</th>\n",
       "      <th>SumProfit</th>\n",
       "      <th>Total Bottle Retail</th>\n",
       "      <th>Profit Per Vendor</th>\n",
       "      <th>Quartile</th>\n",
       "      <th>Q1</th>\n",
       "      <th>Q2</th>\n",
       "      <th>Q3</th>\n",
       "      <th>Q4</th>\n",
       "      <th>Average Bottle Volume</th>\n",
       "      <th>Average Bottle Price</th>\n",
       "    </tr>\n",
       "  </thead>\n",
       "  <tbody>\n",
       "    <tr>\n",
       "      <th>0</th>\n",
       "      <td>Adair</td>\n",
       "      <td>8</td>\n",
       "      <td>43503</td>\n",
       "      <td>177416.35</td>\n",
       "      <td>76568.47</td>\n",
       "      <td>22177.043750</td>\n",
       "      <td>1</td>\n",
       "      <td>1.0</td>\n",
       "      <td>0.0</td>\n",
       "      <td>0.0</td>\n",
       "      <td>0.0</td>\n",
       "      <td>1006.737843</td>\n",
       "      <td>13.739184</td>\n",
       "    </tr>\n",
       "    <tr>\n",
       "      <th>1</th>\n",
       "      <td>Adams</td>\n",
       "      <td>1</td>\n",
       "      <td>10173</td>\n",
       "      <td>40908.67</td>\n",
       "      <td>34277.08</td>\n",
       "      <td>40908.670000</td>\n",
       "      <td>2</td>\n",
       "      <td>0.0</td>\n",
       "      <td>1.0</td>\n",
       "      <td>0.0</td>\n",
       "      <td>0.0</td>\n",
       "      <td>994.086161</td>\n",
       "      <td>15.302268</td>\n",
       "    </tr>\n",
       "    <tr>\n",
       "      <th>2</th>\n",
       "      <td>Allamakee</td>\n",
       "      <td>6</td>\n",
       "      <td>74610</td>\n",
       "      <td>336293.58</td>\n",
       "      <td>160074.22</td>\n",
       "      <td>56048.930000</td>\n",
       "      <td>3</td>\n",
       "      <td>0.0</td>\n",
       "      <td>0.0</td>\n",
       "      <td>1.0</td>\n",
       "      <td>0.0</td>\n",
       "      <td>1060.234696</td>\n",
       "      <td>14.937870</td>\n",
       "    </tr>\n",
       "    <tr>\n",
       "      <th>3</th>\n",
       "      <td>Appanoose</td>\n",
       "      <td>6</td>\n",
       "      <td>81618</td>\n",
       "      <td>338571.27</td>\n",
       "      <td>150882.84</td>\n",
       "      <td>56428.545000</td>\n",
       "      <td>3</td>\n",
       "      <td>0.0</td>\n",
       "      <td>0.0</td>\n",
       "      <td>1.0</td>\n",
       "      <td>0.0</td>\n",
       "      <td>974.081146</td>\n",
       "      <td>14.404090</td>\n",
       "    </tr>\n",
       "    <tr>\n",
       "      <th>4</th>\n",
       "      <td>Audubon</td>\n",
       "      <td>3</td>\n",
       "      <td>18552</td>\n",
       "      <td>70731.86</td>\n",
       "      <td>31832.57</td>\n",
       "      <td>23577.286667</td>\n",
       "      <td>1</td>\n",
       "      <td>1.0</td>\n",
       "      <td>0.0</td>\n",
       "      <td>0.0</td>\n",
       "      <td>0.0</td>\n",
       "      <td>1022.390950</td>\n",
       "      <td>12.976996</td>\n",
       "    </tr>\n",
       "  </tbody>\n",
       "</table>\n",
       "</div>"
      ],
      "text/plain": [
       "      County  Number of Stores  Bottles Sold  SumProfit  Total Bottle Retail  \\\n",
       "0      Adair                 8         43503  177416.35             76568.47   \n",
       "1      Adams                 1         10173   40908.67             34277.08   \n",
       "2  Allamakee                 6         74610  336293.58            160074.22   \n",
       "3  Appanoose                 6         81618  338571.27            150882.84   \n",
       "4    Audubon                 3         18552   70731.86             31832.57   \n",
       "\n",
       "   Profit Per Vendor  Quartile   Q1   Q2   Q3   Q4  Average Bottle Volume  \\\n",
       "0       22177.043750         1  1.0  0.0  0.0  0.0            1006.737843   \n",
       "1       40908.670000         2  0.0  1.0  0.0  0.0             994.086161   \n",
       "2       56048.930000         3  0.0  0.0  1.0  0.0            1060.234696   \n",
       "3       56428.545000         3  0.0  0.0  1.0  0.0             974.081146   \n",
       "4       23577.286667         1  1.0  0.0  0.0  0.0            1022.390950   \n",
       "\n",
       "   Average Bottle Price  \n",
       "0             13.739184  \n",
       "1             15.302268  \n",
       "2             14.937870  \n",
       "3             14.404090  \n",
       "4             12.976996  "
      ]
     },
     "execution_count": 210,
     "metadata": {},
     "output_type": "execute_result"
    }
   ],
   "source": [
    "finalJoin  = pd.merge(finalCounty, countiesAverages, on='County')\n",
    "finalJoin.head()"
   ]
  },
  {
   "cell_type": "code",
   "execution_count": 244,
   "metadata": {
    "collapsed": false
   },
   "outputs": [],
   "source": [
    "finalJoin['Bottles Sold'] = finalJoin['Bottles Sold'].apply(float)"
   ]
  },
  {
   "cell_type": "code",
   "execution_count": 247,
   "metadata": {
    "collapsed": false
   },
   "outputs": [],
   "source": [
    "finalJoin['Log Bottles Sold'] = finalJoin['Bottles Sold'].apply(math.log)"
   ]
  },
  {
   "cell_type": "code",
   "execution_count": 248,
   "metadata": {
    "collapsed": false
   },
   "outputs": [
    {
     "data": {
      "text/html": [
       "<div>\n",
       "<table border=\"1\" class=\"dataframe\">\n",
       "  <thead>\n",
       "    <tr style=\"text-align: right;\">\n",
       "      <th></th>\n",
       "      <th>County</th>\n",
       "      <th>Number of Stores</th>\n",
       "      <th>Bottles Sold</th>\n",
       "      <th>SumProfit</th>\n",
       "      <th>Total Bottle Retail</th>\n",
       "      <th>Profit Per Vendor</th>\n",
       "      <th>Quartile</th>\n",
       "      <th>Q1</th>\n",
       "      <th>Q2</th>\n",
       "      <th>Q3</th>\n",
       "      <th>Q4</th>\n",
       "      <th>Average Bottle Volume</th>\n",
       "      <th>Average Bottle Price</th>\n",
       "      <th>Log Bottles Sold</th>\n",
       "    </tr>\n",
       "  </thead>\n",
       "  <tbody>\n",
       "    <tr>\n",
       "      <th>0</th>\n",
       "      <td>Adair</td>\n",
       "      <td>8</td>\n",
       "      <td>43503.0</td>\n",
       "      <td>177416.35</td>\n",
       "      <td>76568.47</td>\n",
       "      <td>22177.043750</td>\n",
       "      <td>1</td>\n",
       "      <td>1.0</td>\n",
       "      <td>0.0</td>\n",
       "      <td>0.0</td>\n",
       "      <td>0.0</td>\n",
       "      <td>1006.737843</td>\n",
       "      <td>13.739184</td>\n",
       "      <td>10.680585</td>\n",
       "    </tr>\n",
       "    <tr>\n",
       "      <th>1</th>\n",
       "      <td>Adams</td>\n",
       "      <td>1</td>\n",
       "      <td>10173.0</td>\n",
       "      <td>40908.67</td>\n",
       "      <td>34277.08</td>\n",
       "      <td>40908.670000</td>\n",
       "      <td>2</td>\n",
       "      <td>0.0</td>\n",
       "      <td>1.0</td>\n",
       "      <td>0.0</td>\n",
       "      <td>0.0</td>\n",
       "      <td>994.086161</td>\n",
       "      <td>15.302268</td>\n",
       "      <td>9.227492</td>\n",
       "    </tr>\n",
       "    <tr>\n",
       "      <th>2</th>\n",
       "      <td>Allamakee</td>\n",
       "      <td>6</td>\n",
       "      <td>74610.0</td>\n",
       "      <td>336293.58</td>\n",
       "      <td>160074.22</td>\n",
       "      <td>56048.930000</td>\n",
       "      <td>3</td>\n",
       "      <td>0.0</td>\n",
       "      <td>0.0</td>\n",
       "      <td>1.0</td>\n",
       "      <td>0.0</td>\n",
       "      <td>1060.234696</td>\n",
       "      <td>14.937870</td>\n",
       "      <td>11.220030</td>\n",
       "    </tr>\n",
       "    <tr>\n",
       "      <th>3</th>\n",
       "      <td>Appanoose</td>\n",
       "      <td>6</td>\n",
       "      <td>81618.0</td>\n",
       "      <td>338571.27</td>\n",
       "      <td>150882.84</td>\n",
       "      <td>56428.545000</td>\n",
       "      <td>3</td>\n",
       "      <td>0.0</td>\n",
       "      <td>0.0</td>\n",
       "      <td>1.0</td>\n",
       "      <td>0.0</td>\n",
       "      <td>974.081146</td>\n",
       "      <td>14.404090</td>\n",
       "      <td>11.309805</td>\n",
       "    </tr>\n",
       "    <tr>\n",
       "      <th>4</th>\n",
       "      <td>Audubon</td>\n",
       "      <td>3</td>\n",
       "      <td>18552.0</td>\n",
       "      <td>70731.86</td>\n",
       "      <td>31832.57</td>\n",
       "      <td>23577.286667</td>\n",
       "      <td>1</td>\n",
       "      <td>1.0</td>\n",
       "      <td>0.0</td>\n",
       "      <td>0.0</td>\n",
       "      <td>0.0</td>\n",
       "      <td>1022.390950</td>\n",
       "      <td>12.976996</td>\n",
       "      <td>9.828333</td>\n",
       "    </tr>\n",
       "  </tbody>\n",
       "</table>\n",
       "</div>"
      ],
      "text/plain": [
       "      County  Number of Stores  Bottles Sold  SumProfit  Total Bottle Retail  \\\n",
       "0      Adair                 8       43503.0  177416.35             76568.47   \n",
       "1      Adams                 1       10173.0   40908.67             34277.08   \n",
       "2  Allamakee                 6       74610.0  336293.58            160074.22   \n",
       "3  Appanoose                 6       81618.0  338571.27            150882.84   \n",
       "4    Audubon                 3       18552.0   70731.86             31832.57   \n",
       "\n",
       "   Profit Per Vendor  Quartile   Q1   Q2   Q3   Q4  Average Bottle Volume  \\\n",
       "0       22177.043750         1  1.0  0.0  0.0  0.0            1006.737843   \n",
       "1       40908.670000         2  0.0  1.0  0.0  0.0             994.086161   \n",
       "2       56048.930000         3  0.0  0.0  1.0  0.0            1060.234696   \n",
       "3       56428.545000         3  0.0  0.0  1.0  0.0             974.081146   \n",
       "4       23577.286667         1  1.0  0.0  0.0  0.0            1022.390950   \n",
       "\n",
       "   Average Bottle Price  Log Bottles Sold  \n",
       "0             13.739184         10.680585  \n",
       "1             15.302268          9.227492  \n",
       "2             14.937870         11.220030  \n",
       "3             14.404090         11.309805  \n",
       "4             12.976996          9.828333  "
      ]
     },
     "execution_count": 248,
     "metadata": {},
     "output_type": "execute_result"
    }
   ],
   "source": [
    "finalJoin.head()"
   ]
  },
  {
   "cell_type": "code",
   "execution_count": 195,
   "metadata": {
    "collapsed": false,
    "scrolled": false
   },
   "outputs": [
    {
     "data": {
      "text/plain": [
       "count    99.000000\n",
       "mean           inf\n",
       "std            NaN\n",
       "min      51.044544\n",
       "25%      58.882291\n",
       "50%      62.800460\n",
       "75%      66.351598\n",
       "max            inf\n",
       "Name: Average Gallon Price, dtype: float64"
      ]
     },
     "execution_count": 195,
     "metadata": {},
     "output_type": "execute_result"
    }
   ],
   "source": [
    "finalJoin['Average Gallon Price'].describe()"
   ]
  },
  {
   "cell_type": "code",
   "execution_count": 324,
   "metadata": {
    "collapsed": false,
    "scrolled": false
   },
   "outputs": [
    {
     "data": {
      "text/plain": [
       "4    25\n",
       "2    25\n",
       "1    25\n",
       "3    24\n",
       "Name: Quartile, dtype: int64"
      ]
     },
     "execution_count": 324,
     "metadata": {},
     "output_type": "execute_result"
    }
   ],
   "source": [
    "finalJoin['Quartile'].value_counts()"
   ]
  },
  {
   "cell_type": "code",
   "execution_count": 343,
   "metadata": {
    "collapsed": false
   },
   "outputs": [
    {
     "data": {
      "text/html": [
       "<div>\n",
       "<table border=\"1\" class=\"dataframe\">\n",
       "  <thead>\n",
       "    <tr style=\"text-align: right;\">\n",
       "      <th></th>\n",
       "      <th>Adair</th>\n",
       "      <th>Adams</th>\n",
       "      <th>Allamakee</th>\n",
       "      <th>Appanoose</th>\n",
       "      <th>Audubon</th>\n",
       "      <th>Benton</th>\n",
       "      <th>Black Hawk</th>\n",
       "      <th>Boone</th>\n",
       "      <th>Bremer</th>\n",
       "      <th>Buchanan</th>\n",
       "      <th>...</th>\n",
       "      <th>Wapello</th>\n",
       "      <th>Warren</th>\n",
       "      <th>Washington</th>\n",
       "      <th>Wayne</th>\n",
       "      <th>Webster</th>\n",
       "      <th>Winnebago</th>\n",
       "      <th>Winneshiek</th>\n",
       "      <th>Woodbury</th>\n",
       "      <th>Worth</th>\n",
       "      <th>Wright</th>\n",
       "    </tr>\n",
       "  </thead>\n",
       "  <tbody>\n",
       "    <tr>\n",
       "      <th>0</th>\n",
       "      <td>1.0</td>\n",
       "      <td>0.0</td>\n",
       "      <td>0.0</td>\n",
       "      <td>0.0</td>\n",
       "      <td>0.0</td>\n",
       "      <td>0.0</td>\n",
       "      <td>0.0</td>\n",
       "      <td>0.0</td>\n",
       "      <td>0.0</td>\n",
       "      <td>0.0</td>\n",
       "      <td>...</td>\n",
       "      <td>0.0</td>\n",
       "      <td>0.0</td>\n",
       "      <td>0.0</td>\n",
       "      <td>0.0</td>\n",
       "      <td>0.0</td>\n",
       "      <td>0.0</td>\n",
       "      <td>0.0</td>\n",
       "      <td>0.0</td>\n",
       "      <td>0.0</td>\n",
       "      <td>0.0</td>\n",
       "    </tr>\n",
       "    <tr>\n",
       "      <th>1</th>\n",
       "      <td>0.0</td>\n",
       "      <td>1.0</td>\n",
       "      <td>0.0</td>\n",
       "      <td>0.0</td>\n",
       "      <td>0.0</td>\n",
       "      <td>0.0</td>\n",
       "      <td>0.0</td>\n",
       "      <td>0.0</td>\n",
       "      <td>0.0</td>\n",
       "      <td>0.0</td>\n",
       "      <td>...</td>\n",
       "      <td>0.0</td>\n",
       "      <td>0.0</td>\n",
       "      <td>0.0</td>\n",
       "      <td>0.0</td>\n",
       "      <td>0.0</td>\n",
       "      <td>0.0</td>\n",
       "      <td>0.0</td>\n",
       "      <td>0.0</td>\n",
       "      <td>0.0</td>\n",
       "      <td>0.0</td>\n",
       "    </tr>\n",
       "    <tr>\n",
       "      <th>2</th>\n",
       "      <td>0.0</td>\n",
       "      <td>0.0</td>\n",
       "      <td>1.0</td>\n",
       "      <td>0.0</td>\n",
       "      <td>0.0</td>\n",
       "      <td>0.0</td>\n",
       "      <td>0.0</td>\n",
       "      <td>0.0</td>\n",
       "      <td>0.0</td>\n",
       "      <td>0.0</td>\n",
       "      <td>...</td>\n",
       "      <td>0.0</td>\n",
       "      <td>0.0</td>\n",
       "      <td>0.0</td>\n",
       "      <td>0.0</td>\n",
       "      <td>0.0</td>\n",
       "      <td>0.0</td>\n",
       "      <td>0.0</td>\n",
       "      <td>0.0</td>\n",
       "      <td>0.0</td>\n",
       "      <td>0.0</td>\n",
       "    </tr>\n",
       "    <tr>\n",
       "      <th>3</th>\n",
       "      <td>0.0</td>\n",
       "      <td>0.0</td>\n",
       "      <td>0.0</td>\n",
       "      <td>1.0</td>\n",
       "      <td>0.0</td>\n",
       "      <td>0.0</td>\n",
       "      <td>0.0</td>\n",
       "      <td>0.0</td>\n",
       "      <td>0.0</td>\n",
       "      <td>0.0</td>\n",
       "      <td>...</td>\n",
       "      <td>0.0</td>\n",
       "      <td>0.0</td>\n",
       "      <td>0.0</td>\n",
       "      <td>0.0</td>\n",
       "      <td>0.0</td>\n",
       "      <td>0.0</td>\n",
       "      <td>0.0</td>\n",
       "      <td>0.0</td>\n",
       "      <td>0.0</td>\n",
       "      <td>0.0</td>\n",
       "    </tr>\n",
       "    <tr>\n",
       "      <th>4</th>\n",
       "      <td>0.0</td>\n",
       "      <td>0.0</td>\n",
       "      <td>0.0</td>\n",
       "      <td>0.0</td>\n",
       "      <td>1.0</td>\n",
       "      <td>0.0</td>\n",
       "      <td>0.0</td>\n",
       "      <td>0.0</td>\n",
       "      <td>0.0</td>\n",
       "      <td>0.0</td>\n",
       "      <td>...</td>\n",
       "      <td>0.0</td>\n",
       "      <td>0.0</td>\n",
       "      <td>0.0</td>\n",
       "      <td>0.0</td>\n",
       "      <td>0.0</td>\n",
       "      <td>0.0</td>\n",
       "      <td>0.0</td>\n",
       "      <td>0.0</td>\n",
       "      <td>0.0</td>\n",
       "      <td>0.0</td>\n",
       "    </tr>\n",
       "  </tbody>\n",
       "</table>\n",
       "<p>5 rows × 99 columns</p>\n",
       "</div>"
      ],
      "text/plain": [
       "   Adair  Adams  Allamakee  Appanoose  Audubon  Benton  Black Hawk  Boone  \\\n",
       "0    1.0    0.0        0.0        0.0      0.0     0.0         0.0    0.0   \n",
       "1    0.0    1.0        0.0        0.0      0.0     0.0         0.0    0.0   \n",
       "2    0.0    0.0        1.0        0.0      0.0     0.0         0.0    0.0   \n",
       "3    0.0    0.0        0.0        1.0      0.0     0.0         0.0    0.0   \n",
       "4    0.0    0.0        0.0        0.0      1.0     0.0         0.0    0.0   \n",
       "\n",
       "   Bremer  Buchanan   ...    Wapello  Warren  Washington  Wayne  Webster  \\\n",
       "0     0.0       0.0   ...        0.0     0.0         0.0    0.0      0.0   \n",
       "1     0.0       0.0   ...        0.0     0.0         0.0    0.0      0.0   \n",
       "2     0.0       0.0   ...        0.0     0.0         0.0    0.0      0.0   \n",
       "3     0.0       0.0   ...        0.0     0.0         0.0    0.0      0.0   \n",
       "4     0.0       0.0   ...        0.0     0.0         0.0    0.0      0.0   \n",
       "\n",
       "   Winnebago  Winneshiek  Woodbury  Worth  Wright  \n",
       "0        0.0         0.0       0.0    0.0     0.0  \n",
       "1        0.0         0.0       0.0    0.0     0.0  \n",
       "2        0.0         0.0       0.0    0.0     0.0  \n",
       "3        0.0         0.0       0.0    0.0     0.0  \n",
       "4        0.0         0.0       0.0    0.0     0.0  \n",
       "\n",
       "[5 rows x 99 columns]"
      ]
     },
     "execution_count": 343,
     "metadata": {},
     "output_type": "execute_result"
    }
   ],
   "source": [
    "countyDummies = pd.get_dummies(countiesProfitVendorJoin['County'])\n",
    "countyDummies.head()"
   ]
  },
  {
   "cell_type": "code",
   "execution_count": 344,
   "metadata": {
    "collapsed": false,
    "scrolled": true
   },
   "outputs": [
    {
     "data": {
      "text/html": [
       "<div>\n",
       "<table border=\"1\" class=\"dataframe\">\n",
       "  <thead>\n",
       "    <tr style=\"text-align: right;\">\n",
       "      <th></th>\n",
       "      <th>County</th>\n",
       "      <th>Number of Stores</th>\n",
       "      <th>Bottles Sold</th>\n",
       "      <th>SumProfit</th>\n",
       "      <th>Total Bottle Retail</th>\n",
       "      <th>Profit Per Vendor</th>\n",
       "      <th>Quartile</th>\n",
       "      <th>Q1</th>\n",
       "      <th>Q2</th>\n",
       "      <th>Q3</th>\n",
       "      <th>...</th>\n",
       "      <th>Wapello</th>\n",
       "      <th>Warren</th>\n",
       "      <th>Washington</th>\n",
       "      <th>Wayne</th>\n",
       "      <th>Webster</th>\n",
       "      <th>Winnebago</th>\n",
       "      <th>Winneshiek</th>\n",
       "      <th>Woodbury</th>\n",
       "      <th>Worth</th>\n",
       "      <th>Wright</th>\n",
       "    </tr>\n",
       "  </thead>\n",
       "  <tbody>\n",
       "    <tr>\n",
       "      <th>0</th>\n",
       "      <td>Adair</td>\n",
       "      <td>8</td>\n",
       "      <td>43503.0</td>\n",
       "      <td>177416.35</td>\n",
       "      <td>76568.47</td>\n",
       "      <td>22177.043750</td>\n",
       "      <td>1</td>\n",
       "      <td>1.0</td>\n",
       "      <td>0.0</td>\n",
       "      <td>0.0</td>\n",
       "      <td>...</td>\n",
       "      <td>0.0</td>\n",
       "      <td>0.0</td>\n",
       "      <td>0.0</td>\n",
       "      <td>0.0</td>\n",
       "      <td>0.0</td>\n",
       "      <td>0.0</td>\n",
       "      <td>0.0</td>\n",
       "      <td>0.0</td>\n",
       "      <td>0.0</td>\n",
       "      <td>0.0</td>\n",
       "    </tr>\n",
       "    <tr>\n",
       "      <th>1</th>\n",
       "      <td>Adams</td>\n",
       "      <td>1</td>\n",
       "      <td>10173.0</td>\n",
       "      <td>40908.67</td>\n",
       "      <td>34277.08</td>\n",
       "      <td>40908.670000</td>\n",
       "      <td>2</td>\n",
       "      <td>0.0</td>\n",
       "      <td>1.0</td>\n",
       "      <td>0.0</td>\n",
       "      <td>...</td>\n",
       "      <td>0.0</td>\n",
       "      <td>0.0</td>\n",
       "      <td>0.0</td>\n",
       "      <td>0.0</td>\n",
       "      <td>0.0</td>\n",
       "      <td>0.0</td>\n",
       "      <td>0.0</td>\n",
       "      <td>0.0</td>\n",
       "      <td>0.0</td>\n",
       "      <td>0.0</td>\n",
       "    </tr>\n",
       "    <tr>\n",
       "      <th>2</th>\n",
       "      <td>Allamakee</td>\n",
       "      <td>6</td>\n",
       "      <td>74610.0</td>\n",
       "      <td>336293.58</td>\n",
       "      <td>160074.22</td>\n",
       "      <td>56048.930000</td>\n",
       "      <td>3</td>\n",
       "      <td>0.0</td>\n",
       "      <td>0.0</td>\n",
       "      <td>1.0</td>\n",
       "      <td>...</td>\n",
       "      <td>0.0</td>\n",
       "      <td>0.0</td>\n",
       "      <td>0.0</td>\n",
       "      <td>0.0</td>\n",
       "      <td>0.0</td>\n",
       "      <td>0.0</td>\n",
       "      <td>0.0</td>\n",
       "      <td>0.0</td>\n",
       "      <td>0.0</td>\n",
       "      <td>0.0</td>\n",
       "    </tr>\n",
       "    <tr>\n",
       "      <th>3</th>\n",
       "      <td>Appanoose</td>\n",
       "      <td>6</td>\n",
       "      <td>81618.0</td>\n",
       "      <td>338571.27</td>\n",
       "      <td>150882.84</td>\n",
       "      <td>56428.545000</td>\n",
       "      <td>3</td>\n",
       "      <td>0.0</td>\n",
       "      <td>0.0</td>\n",
       "      <td>1.0</td>\n",
       "      <td>...</td>\n",
       "      <td>0.0</td>\n",
       "      <td>0.0</td>\n",
       "      <td>0.0</td>\n",
       "      <td>0.0</td>\n",
       "      <td>0.0</td>\n",
       "      <td>0.0</td>\n",
       "      <td>0.0</td>\n",
       "      <td>0.0</td>\n",
       "      <td>0.0</td>\n",
       "      <td>0.0</td>\n",
       "    </tr>\n",
       "    <tr>\n",
       "      <th>4</th>\n",
       "      <td>Audubon</td>\n",
       "      <td>3</td>\n",
       "      <td>18552.0</td>\n",
       "      <td>70731.86</td>\n",
       "      <td>31832.57</td>\n",
       "      <td>23577.286667</td>\n",
       "      <td>1</td>\n",
       "      <td>1.0</td>\n",
       "      <td>0.0</td>\n",
       "      <td>0.0</td>\n",
       "      <td>...</td>\n",
       "      <td>0.0</td>\n",
       "      <td>0.0</td>\n",
       "      <td>0.0</td>\n",
       "      <td>0.0</td>\n",
       "      <td>0.0</td>\n",
       "      <td>0.0</td>\n",
       "      <td>0.0</td>\n",
       "      <td>0.0</td>\n",
       "      <td>0.0</td>\n",
       "      <td>0.0</td>\n",
       "    </tr>\n",
       "  </tbody>\n",
       "</table>\n",
       "<p>5 rows × 113 columns</p>\n",
       "</div>"
      ],
      "text/plain": [
       "      County  Number of Stores  Bottles Sold  SumProfit  Total Bottle Retail  \\\n",
       "0      Adair                 8       43503.0  177416.35             76568.47   \n",
       "1      Adams                 1       10173.0   40908.67             34277.08   \n",
       "2  Allamakee                 6       74610.0  336293.58            160074.22   \n",
       "3  Appanoose                 6       81618.0  338571.27            150882.84   \n",
       "4    Audubon                 3       18552.0   70731.86             31832.57   \n",
       "\n",
       "   Profit Per Vendor  Quartile   Q1   Q2   Q3   ...    Wapello  Warren  \\\n",
       "0       22177.043750         1  1.0  0.0  0.0   ...        0.0     0.0   \n",
       "1       40908.670000         2  0.0  1.0  0.0   ...        0.0     0.0   \n",
       "2       56048.930000         3  0.0  0.0  1.0   ...        0.0     0.0   \n",
       "3       56428.545000         3  0.0  0.0  1.0   ...        0.0     0.0   \n",
       "4       23577.286667         1  1.0  0.0  0.0   ...        0.0     0.0   \n",
       "\n",
       "   Washington  Wayne  Webster  Winnebago  Winneshiek  Woodbury  Worth  Wright  \n",
       "0         0.0    0.0      0.0        0.0         0.0       0.0    0.0     0.0  \n",
       "1         0.0    0.0      0.0        0.0         0.0       0.0    0.0     0.0  \n",
       "2         0.0    0.0      0.0        0.0         0.0       0.0    0.0     0.0  \n",
       "3         0.0    0.0      0.0        0.0         0.0       0.0    0.0     0.0  \n",
       "4         0.0    0.0      0.0        0.0         0.0       0.0    0.0     0.0  \n",
       "\n",
       "[5 rows x 113 columns]"
      ]
     },
     "execution_count": 344,
     "metadata": {},
     "output_type": "execute_result"
    }
   ],
   "source": [
    "finalJoin2 = pd.concat([finalJoin, countyDummies], axis=1)\n",
    "finalJoin2.head()\n",
    "\n"
   ]
  },
  {
   "cell_type": "code",
   "execution_count": 345,
   "metadata": {
    "collapsed": false,
    "scrolled": true
   },
   "outputs": [
    {
     "data": {
      "text/plain": [
       "Index([u'County', u'Number of Stores', u'Bottles Sold', u'SumProfit',\n",
       "       u'Total Bottle Retail', u'Profit Per Vendor', u'Quartile', u'Q1', u'Q2',\n",
       "       u'Q3',\n",
       "       ...\n",
       "       u'Wapello', u'Warren', u'Washington', u'Wayne', u'Webster',\n",
       "       u'Winnebago', u'Winneshiek', u'Woodbury', u'Worth', u'Wright'],\n",
       "      dtype='object', length=113)"
      ]
     },
     "execution_count": 345,
     "metadata": {},
     "output_type": "execute_result"
    }
   ],
   "source": [
    "finalJoin2.columns"
   ]
  },
  {
   "cell_type": "code",
   "execution_count": 348,
   "metadata": {
    "collapsed": false
   },
   "outputs": [
    {
     "data": {
      "text/plain": [
       "(99, 113)"
      ]
     },
     "execution_count": 348,
     "metadata": {},
     "output_type": "execute_result"
    }
   ],
   "source": [
    "finalJoin2.shape"
   ]
  },
  {
   "cell_type": "code",
   "execution_count": 353,
   "metadata": {
    "collapsed": false
   },
   "outputs": [],
   "source": [
    "colnames = list(finalJoin2.columns.values)"
   ]
  },
  {
   "cell_type": "code",
   "execution_count": 363,
   "metadata": {
    "collapsed": false
   },
   "outputs": [
    {
     "data": {
      "text/plain": [
       "['Adair',\n",
       " 'Adams',\n",
       " 'Allamakee',\n",
       " 'Appanoose',\n",
       " 'Audubon',\n",
       " 'Benton',\n",
       " 'Black Hawk',\n",
       " 'Boone',\n",
       " 'Bremer',\n",
       " 'Buchanan',\n",
       " 'Buena Vista',\n",
       " 'Butler',\n",
       " 'Calhoun',\n",
       " 'Carroll',\n",
       " 'Cass',\n",
       " 'Cedar',\n",
       " 'Cerro Gordo',\n",
       " 'Cherokee',\n",
       " 'Chickasaw',\n",
       " 'Clarke',\n",
       " 'Clay',\n",
       " 'Clayton',\n",
       " 'Clinton',\n",
       " 'Crawford',\n",
       " 'Dallas',\n",
       " 'Davis',\n",
       " 'Decatur',\n",
       " 'Delaware',\n",
       " 'Des Moines',\n",
       " 'Dickinson',\n",
       " 'Dubuque',\n",
       " 'Emmet',\n",
       " 'Fayette',\n",
       " 'Floyd',\n",
       " 'Franklin',\n",
       " 'Fremont',\n",
       " 'Greene',\n",
       " 'Grundy',\n",
       " 'Guthrie',\n",
       " 'Hamilton',\n",
       " 'Hancock',\n",
       " 'Hardin',\n",
       " 'Harrison',\n",
       " 'Henry',\n",
       " 'Howard',\n",
       " 'Humboldt',\n",
       " 'Ida',\n",
       " 'Iowa',\n",
       " 'Jackson',\n",
       " 'Jasper',\n",
       " 'Jefferson',\n",
       " 'Johnson',\n",
       " 'Jones',\n",
       " 'Keokuk',\n",
       " 'Kossuth',\n",
       " 'Lee',\n",
       " 'Linn',\n",
       " 'Louisa',\n",
       " 'Lucas',\n",
       " 'Lyon',\n",
       " 'Madison',\n",
       " 'Mahaska',\n",
       " 'Marion',\n",
       " 'Marshall',\n",
       " 'Mills',\n",
       " 'Mitchell',\n",
       " 'Monona',\n",
       " 'Monroe',\n",
       " 'Montgomery',\n",
       " 'Muscatine',\n",
       " \"O'Brien\",\n",
       " 'Osceola',\n",
       " 'Page',\n",
       " 'Palo Alto',\n",
       " 'Plymouth',\n",
       " 'Pocahontas',\n",
       " 'Polk',\n",
       " 'Pottawattamie',\n",
       " 'Poweshiek',\n",
       " 'Ringgold',\n",
       " 'Sac',\n",
       " 'Scott',\n",
       " 'Shelby',\n",
       " 'Sioux',\n",
       " 'Story',\n",
       " 'Tama',\n",
       " 'Taylor',\n",
       " 'Union',\n",
       " 'Van Buren',\n",
       " 'Wapello',\n",
       " 'Warren',\n",
       " 'Washington',\n",
       " 'Wayne',\n",
       " 'Webster',\n",
       " 'Winnebago',\n",
       " 'Winneshiek',\n",
       " 'Woodbury',\n",
       " 'Worth',\n",
       " 'Wright']"
      ]
     },
     "execution_count": 363,
     "metadata": {},
     "output_type": "execute_result"
    }
   ],
   "source": [
    "countyNames = colnames[14:]\n",
    "countyNames"
   ]
  },
  {
   "cell_type": "markdown",
   "metadata": {},
   "source": [
    "# Explore the data\n",
    "\n",
    "Perform some exploratory statistical analysis and make some plots, such as histograms of transaction totals, bottles sold, etc."
   ]
  },
  {
   "cell_type": "code",
   "execution_count": 4,
   "metadata": {
    "collapsed": true
   },
   "outputs": [],
   "source": [
    "import seaborn as sns\n",
    "import matplotlib.pyplot as plt"
   ]
  },
  {
   "cell_type": "code",
   "execution_count": null,
   "metadata": {
    "collapsed": true
   },
   "outputs": [],
   "source": [
    "plt.hist(countiesProfitVendorJoin['Profit Per Vendor'])\n",
    "plt.title(\"Histogram of Profits per Store\")\n",
    "plt.xlabel('Profit')\n",
    "plt.ylabel('Frequency')"
   ]
  },
  {
   "cell_type": "code",
   "execution_count": 292,
   "metadata": {
    "collapsed": false,
    "scrolled": true
   },
   "outputs": [
    {
     "data": {
      "text/plain": [
       "<matplotlib.text.Text at 0x11d1bed50>"
      ]
     },
     "execution_count": 292,
     "metadata": {},
     "output_type": "execute_result"
    },
    {
     "data": {
      "image/png": "[encoded data removed]",
      "text/plain": [
       "<matplotlib.figure.Figure at 0x11d2bd910>"
      ]
     },
     "metadata": {},
     "output_type": "display_data"
    }
   ],
   "source": [
    "plt.hist(countiesProfitVendorJoin['Profit Per Vendor'])\n",
    "plt.title(\"Histogram of Profits per Store\")\n",
    "plt.xlabel('Profit')\n",
    "plt.ylabel('Frequency')"
   ]
  },
  {
   "cell_type": "code",
   "execution_count": 310,
   "metadata": {
    "collapsed": false
   },
   "outputs": [
    {
     "data": {
      "text/plain": [
       "<matplotlib.text.Text at 0x11d6cec10>"
      ]
     },
     "execution_count": 310,
     "metadata": {},
     "output_type": "execute_result"
    },
    {
     "data": {
      "image/png": "[encoded data removed]",
      "text/plain": [
       "<matplotlib.figure.Figure at 0x11c4ce9d0>"
      ]
     },
     "metadata": {},
     "output_type": "display_data"
    }
   ],
   "source": [
    "plt.hist(finalJoin['Average Bottle Price'])\n",
    "plt.title(\"Average Bottle Price per County\")\n",
    "plt.xlabel(\"Average Bottle Price\")\n",
    "plt.ylabel(\"Frequency\")"
   ]
  },
  {
   "cell_type": "code",
   "execution_count": 321,
   "metadata": {
    "collapsed": false,
    "scrolled": true
   },
   "outputs": [
    {
     "data": {
      "text/plain": [
       "<matplotlib.text.Text at 0x11d6c4350>"
      ]
     },
     "execution_count": 321,
     "metadata": {},
     "output_type": "execute_result"
    },
    {
     "data": {
      "image/png": "[encoded data removed]",
      "text/plain": [
       "<matplotlib.figure.Figure at 0x11dbe6ad0>"
      ]
     },
     "metadata": {},
     "output_type": "display_data"
    }
   ],
   "source": [
    "plt.boxplot(finalJoin['Bottles Sold'])\n",
    "plt.title(\"Total Bottles Sold per County\")\n",
    "plt.ylabel(\"Bottles Sold\")"
   ]
  },
  {
   "cell_type": "code",
   "execution_count": 327,
   "metadata": {
    "collapsed": false,
    "scrolled": true
   },
   "outputs": [
    {
     "data": {
      "text/plain": [
       "<matplotlib.text.Text at 0x11dbcefd0>"
      ]
     },
     "execution_count": 327,
     "metadata": {},
     "output_type": "execute_result"
    },
    {
     "data": {
      "image/png": "[encoded data removed]",
      "text/plain": [
       "<matplotlib.figure.Figure at 0x11d694e90>"
      ]
     },
     "metadata": {},
     "output_type": "display_data"
    }
   ],
   "source": [
    "plt.boxplot(finalJoin['Log Bottles Sold'])\n",
    "plt.title(\"Bottles Sold per County\")\n",
    "plt.ylabel(\"Log Bottles Sold\")"
   ]
  },
  {
   "cell_type": "code",
   "execution_count": 326,
   "metadata": {
    "collapsed": false
   },
   "outputs": [
    {
     "data": {
      "text/plain": [
       "<matplotlib.text.Text at 0x11e2b95d0>"
      ]
     },
     "execution_count": 326,
     "metadata": {},
     "output_type": "execute_result"
    },
    {
     "data": {
      "image/png": "[encoded data removed]",
      "text/plain": [
       "<matplotlib.figure.Figure at 0x11e3028d0>"
      ]
     },
     "metadata": {},
     "output_type": "display_data"
    }
   ],
   "source": [
    "plt.hist(finalJoin['Log Bottles Sold'])\n",
    "plt.title(\"Bottles Sold per County\")\n",
    "plt.ylabel(\"Log Bottles Sold\")"
   ]
  },
  {
   "cell_type": "markdown",
   "metadata": {},
   "source": [
    "## Record your findings\n",
    "\n",
    "Be sure to write out anything observations from your exploratory analysis."
   ]
  },
  {
   "cell_type": "markdown",
   "metadata": {},
   "source": [
    "# Mine the data\n",
    "Now you are ready to compute the variables you will use for your regression from the data. For example, you may want to\n",
    "compute total sales per store from Jan to March of 2015, mean price per bottle, etc. Refer to the readme for more ideas appropriate to your scenario.\n",
    "\n",
    "Pandas is your friend for this task. Take a look at the operations [here](http://pandas.pydata.org/pandas-docs/stable/groupby.html) for ideas on how to make the best use of pandas and feel free to search for blog and Stack Overflow posts to help you group data by certain variables and compute sums, means, etc. You may find it useful to create a new data frame to house this summary data."
   ]
  },
  {
   "cell_type": "markdown",
   "metadata": {},
   "source": [
    "# Refine the data\n",
    "Look for any statistical relationships, correlations, or other relevant properties of the dataset."
   ]
  },
  {
   "cell_type": "code",
   "execution_count": 330,
   "metadata": {
    "collapsed": false,
    "scrolled": true
   },
   "outputs": [
    {
     "name": "stdout",
     "output_type": "stream",
     "text": [
      "[[ 1.          0.99057345]\n",
      " [ 0.99057345  1.        ]]\n"
     ]
    },
    {
     "data": {
      "text/plain": [
       "<matplotlib.text.Text at 0x11e852390>"
      ]
     },
     "execution_count": 330,
     "metadata": {},
     "output_type": "execute_result"
    },
    {
     "data": {
      "image/png": "[encoded data removed]",
      "text/plain": [
       "<matplotlib.figure.Figure at 0x11e860090>"
      ]
     },
     "metadata": {},
     "output_type": "display_data"
    }
   ],
   "source": [
    "print np.corrcoef(finalJoin['Number of Stores'], finalJoin['Bottles Sold'])\n",
    "plt.scatter(finalJoin['Number of Stores'], finalJoin['Bottles Sold'])\n",
    "plt.title(\"Number of Stores vs Bottles Sold\")\n",
    "plt.ylabel('Bottles Sold')\n",
    "plt.xlabel('Number of Stores per County')"
   ]
  },
  {
   "cell_type": "code",
   "execution_count": 338,
   "metadata": {
    "collapsed": false,
    "scrolled": false
   },
   "outputs": [
    {
     "name": "stdout",
     "output_type": "stream",
     "text": [
      "[[ 1.         -0.39570326]\n",
      " [-0.39570326  1.        ]]\n"
     ]
    },
    {
     "data": {
      "text/plain": [
       "<matplotlib.text.Text at 0x11f626d50>"
      ]
     },
     "execution_count": 338,
     "metadata": {},
     "output_type": "execute_result"
    },
    {
     "data": {
      "image/png": "[encoded data removed]",
      "text/plain": [
       "<matplotlib.figure.Figure at 0x11f6cc9d0>"
      ]
     },
     "metadata": {},
     "output_type": "display_data"
    }
   ],
   "source": [
    "print np.corrcoef(finalJoin['Average Bottle Volume'], finalJoin['Bottles Sold'])\n",
    "plt.scatter(finalJoin['Average Bottle Volume'], finalJoin['Bottles Sold'])\n",
    "plt.title(\"Average Bottle Volume (ml) vs Bottles Sold\")\n",
    "plt.ylabel('Bottles Sold')\n",
    "plt.xlabel('Average Bottle Volume (ml) per County')"
   ]
  },
  {
   "cell_type": "code",
   "execution_count": 339,
   "metadata": {
    "collapsed": false
   },
   "outputs": [
    {
     "name": "stdout",
     "output_type": "stream",
     "text": [
      "[[ 1.         -0.42856847]\n",
      " [-0.42856847  1.        ]]\n"
     ]
    },
    {
     "data": {
      "text/plain": [
       "<matplotlib.text.Text at 0x11f54cad0>"
      ]
     },
     "execution_count": 339,
     "metadata": {},
     "output_type": "execute_result"
    },
    {
     "data": {
      "image/png": "[encoded data removed]",
      "text/plain": [
       "<matplotlib.figure.Figure at 0x11f6d6fd0>"
      ]
     },
     "metadata": {},
     "output_type": "display_data"
    }
   ],
   "source": [
    "print np.corrcoef(finalJoin['Average Bottle Volume'], finalJoin['Log Bottles Sold'])\n",
    "plt.scatter(finalJoin['Average Bottle Volume'], finalJoin['Log Bottles Sold'])\n",
    "plt.title(\"Average Bottle Volume (ml) vs Bottles Sold\")\n",
    "plt.ylabel('Bottles Sold (log)')\n",
    "plt.xlabel('Average Bottle Volume (ml) per County')"
   ]
  },
  {
   "cell_type": "code",
   "execution_count": 333,
   "metadata": {
    "collapsed": false,
    "scrolled": true
   },
   "outputs": [
    {
     "name": "stdout",
     "output_type": "stream",
     "text": [
      "[[ 1.          0.99860873]\n",
      " [ 0.99860873  1.        ]]\n"
     ]
    },
    {
     "data": {
      "image/png": "[encoded data removed]",
      "text/plain": [
       "<matplotlib.figure.Figure at 0x11ef07950>"
      ]
     },
     "metadata": {},
     "output_type": "display_data"
    }
   ],
   "source": [
    "plt.scatter(finalJoin['SumProfit'], finalJoin['Bottles Sold'])\n",
    "plt.title(\"Total Profit vs Bottles Sold\")\n",
    "plt.ylabel('Bottles Sold')\n",
    "plt.xlabel('Total Profit per County')\n",
    "\n",
    "print np.corrcoef(finalJoin['SumProfit'], finalJoin['Bottles Sold'])"
   ]
  },
  {
   "cell_type": "code",
   "execution_count": 334,
   "metadata": {
    "collapsed": false,
    "scrolled": true
   },
   "outputs": [
    {
     "name": "stdout",
     "output_type": "stream",
     "text": [
      "[[ 1.          0.25514167]\n",
      " [ 0.25514167  1.        ]]\n"
     ]
    },
    {
     "data": {
      "text/plain": [
       "<matplotlib.text.Text at 0x11ed9db50>"
      ]
     },
     "execution_count": 334,
     "metadata": {},
     "output_type": "execute_result"
    },
    {
     "data": {
      "image/png": "[encoded data removed]",
      "text/plain": [
       "<matplotlib.figure.Figure at 0x11f0e14d0>"
      ]
     },
     "metadata": {},
     "output_type": "display_data"
    }
   ],
   "source": [
    "print np.corrcoef(finalJoin['Average Bottle Volume'], finalJoin['Average Bottle Price'])\n",
    "\n",
    "plt.scatter(finalJoin['Average Bottle Volume'], finalJoin['Average Bottle Price'])\n",
    "plt.title(\"Average Bottle Volume vs Average Bottle Price\")\n",
    "plt.ylabel('Average Bottle Volume')\n",
    "plt.xlabel('Average Bottle Price')"
   ]
  },
  {
   "cell_type": "code",
   "execution_count": 341,
   "metadata": {
    "collapsed": false,
    "scrolled": true
   },
   "outputs": [
    {
     "name": "stdout",
     "output_type": "stream",
     "text": [
      "[[ 1.         -0.38575796]\n",
      " [-0.38575796  1.        ]]\n"
     ]
    },
    {
     "data": {
      "text/plain": [
       "<matplotlib.text.Text at 0x11f6d6290>"
      ]
     },
     "execution_count": 341,
     "metadata": {},
     "output_type": "execute_result"
    },
    {
     "data": {
      "image/png": "[encoded data removed]",
      "text/plain": [
       "<matplotlib.figure.Figure at 0x11f6bf450>"
      ]
     },
     "metadata": {},
     "output_type": "display_data"
    }
   ],
   "source": [
    "print np.corrcoef(finalJoin['SumProfit'], finalJoin['Average Bottle Volume'])\n",
    "\n",
    "plt.scatter(finalJoin['Average Bottle Volume'], finalJoin['SumProfit'])\n",
    "plt.title(\"Average Bottle Volume vs Total Profit\")\n",
    "plt.ylabel('Total Profit by County')\n",
    "plt.xlabel('Average Bottle Volume')"
   ]
  },
  {
   "cell_type": "markdown",
   "metadata": {},
   "source": [
    "# Build your models\n",
    "\n",
    "Using scikit-learn or statsmodels, build the necessary models for your scenario. Evaluate model fit."
   ]
  },
  {
   "cell_type": "code",
   "execution_count": 160,
   "metadata": {
    "collapsed": true
   },
   "outputs": [],
   "source": [
    "from sklearn import linear_model\n",
    "import statsmodels.api as sm"
   ]
  },
  {
   "cell_type": "markdown",
   "metadata": {},
   "source": []
  },
  {
   "cell_type": "code",
   "execution_count": null,
   "metadata": {
    "collapsed": true
   },
   "outputs": [],
   "source": []
  },
  {
   "cell_type": "markdown",
   "metadata": {},
   "source": [
    "# Model 1\n",
    "\n",
    "The following model predicts the total number of bottles sold in a county based on three categories of variables:\n",
    "- Average bottle volume is the average volume of all of the bottles sold in the county\n",
    "- Average bottle price is the average price of all of the bottles sold in the county\n",
    "- Q1, Q2, Q3, and Q4 are dummy variables which reflect which quartile the county is in with regards to the average profit per store in the county.\n",
    "\n",
    "### Variables that I could not use:\n",
    " - Number of stores per county. Presumably, number of stores per county is a measure of demand for liquor, as is number of bottles sold. Using demand to predict demand is unhelpful. \n",
    " - Volume sold. Bottles sold is just another measure of volume sold, so volume sold cannot be used to predict bottles sold. "
   ]
  },
  {
   "cell_type": "code",
   "execution_count": 278,
   "metadata": {
    "collapsed": false,
    "scrolled": false
   },
   "outputs": [
    {
     "name": "stdout",
     "output_type": "stream",
     "text": [
      "                            OLS Regression Results                            \n",
      "==============================================================================\n",
      "Dep. Variable:           Bottles Sold   R-squared:                       0.295\n",
      "Model:                            OLS   Adj. R-squared:                  0.257\n",
      "Method:                 Least Squares   F-statistic:                     7.765\n",
      "Date:                Sat, 15 Oct 2016   Prob (F-statistic):           3.85e-06\n",
      "Time:                        14:01:30   Log-Likelihood:                -1454.1\n",
      "No. Observations:                  99   AIC:                             2920.\n",
      "Df Residuals:                      93   BIC:                             2936.\n",
      "Df Model:                           5                                         \n",
      "Covariance Type:            nonrobust                                         \n",
      "=========================================================================================\n",
      "                            coef    std err          t      P>|t|      [95.0% Conf. Int.]\n",
      "-----------------------------------------------------------------------------------------\n",
      "Q1                      1.44e+06   1.25e+06      1.148      0.254     -1.05e+06  3.93e+06\n",
      "Q2                     1.322e+06    1.3e+06      1.018      0.311     -1.26e+06   3.9e+06\n",
      "Q3                     1.336e+06   1.31e+06      1.021      0.310     -1.26e+06  3.93e+06\n",
      "Q4                     1.754e+06   1.31e+06      1.335      0.185     -8.55e+05  4.36e+06\n",
      "Average Bottle Volume -3963.5168   1059.350     -3.741      0.000     -6067.177 -1859.857\n",
      "Average Bottle Price   1.879e+05   9.67e+04      1.943      0.055     -4116.089   3.8e+05\n",
      "==============================================================================\n",
      "Omnibus:                      150.109   Durbin-Watson:                   1.881\n",
      "Prob(Omnibus):                  0.000   Jarque-Bera (JB):             7295.723\n",
      "Skew:                           5.423   Prob(JB):                         0.00\n",
      "Kurtosis:                      43.633   Cond. No.                     4.24e+04\n",
      "==============================================================================\n",
      "\n",
      "Warnings:\n",
      "[1] Standard Errors assume that the covariance matrix of the errors is correctly specified.\n",
      "[2] The condition number is large, 4.24e+04. This might indicate that there are\n",
      "strong multicollinearity or other numerical problems.\n"
     ]
    },
    {
     "data": {
      "text/plain": [
       "<matplotlib.text.Text at 0x11cabfd10>"
      ]
     },
     "execution_count": 278,
     "metadata": {},
     "output_type": "execute_result"
    },
    {
     "data": {
      "image/png": "[encoded data removed]",
      "text/plain": [
       "<matplotlib.figure.Figure at 0x11ccf6110>"
      ]
     },
     "metadata": {},
     "output_type": "display_data"
    }
   ],
   "source": [
    "\n",
    "w = finalJoin[[\"Q1\", \"Q2\", \"Q3\", \"Q4\", \"Average Bottle Volume\", \"Average Bottle Price\"]]\n",
    "z = finalJoin[\"Bottles Sold\"]\n",
    "\n",
    "model_1 = sm.OLS(z, w).fit()\n",
    "predictions1 = model_1.predict(w)\n",
    "print model_1.summary()\n",
    "plt.scatter(predictions1, z)\n",
    "plt.plot(z, z)\n",
    "plt.xlim(-700000, 1500000)\n",
    "plt.ylim(-100000, 2600000)\n",
    "plt.xlabel(\"Predicted Bottles Sold\")\n",
    "plt.ylabel(\"Actual Bottles Sold\")\n",
    "plt.title(\"Predicted vs Actual Bottles Sold\")"
   ]
  },
  {
   "cell_type": "markdown",
   "metadata": {},
   "source": [
    "# Model 2\n",
    "\n",
    "Model 1 had an r-squared of 0.295. That is not especially predictive, but the graph of expected vs actual points shows a strongly non-linear relationship. The relationship could potentially be improved by log-transforming bottles sold. \n",
    "Model 2 contains the same predictor variables as model 1, but the outcome (Bottles Sold) has been log-transformed."
   ]
  },
  {
   "cell_type": "code",
   "execution_count": 277,
   "metadata": {
    "collapsed": false,
    "scrolled": false
   },
   "outputs": [
    {
     "name": "stdout",
     "output_type": "stream",
     "text": [
      "                            OLS Regression Results                            \n",
      "==============================================================================\n",
      "Dep. Variable:       Log Bottles Sold   R-squared:                       0.583\n",
      "Model:                            OLS   Adj. R-squared:                  0.560\n",
      "Method:                 Least Squares   F-statistic:                     25.97\n",
      "Date:                Sat, 15 Oct 2016   Prob (F-statistic):           2.55e-16\n",
      "Time:                        14:01:16   Log-Likelihood:                -121.66\n",
      "No. Observations:                  99   AIC:                             255.3\n",
      "Df Residuals:                      93   BIC:                             270.9\n",
      "Df Model:                           5                                         \n",
      "Covariance Type:            nonrobust                                         \n",
      "=========================================================================================\n",
      "                            coef    std err          t      P>|t|      [95.0% Conf. Int.]\n",
      "-----------------------------------------------------------------------------------------\n",
      "Q1                       11.9986      1.791      6.700      0.000         8.442    15.555\n",
      "Q2                       12.4774      1.854      6.730      0.000         8.796    16.159\n",
      "Q3                       13.1129      1.869      7.017      0.000         9.402    16.824\n",
      "Q4                       13.6672      1.877      7.283      0.000         9.941    17.394\n",
      "Average Bottle Volume    -0.0065      0.002     -4.316      0.000        -0.010    -0.004\n",
      "Average Bottle Price      0.3516      0.138      2.546      0.013         0.077     0.626\n",
      "==============================================================================\n",
      "Omnibus:                        4.663   Durbin-Watson:                   1.862\n",
      "Prob(Omnibus):                  0.097   Jarque-Bera (JB):                4.107\n",
      "Skew:                          -0.378   Prob(JB):                        0.128\n",
      "Kurtosis:                       3.652   Cond. No.                     4.24e+04\n",
      "==============================================================================\n",
      "\n",
      "Warnings:\n",
      "[1] Standard Errors assume that the covariance matrix of the errors is correctly specified.\n",
      "[2] The condition number is large, 4.24e+04. This might indicate that there are\n",
      "strong multicollinearity or other numerical problems.\n"
     ]
    },
    {
     "data": {
      "text/plain": [
       "<matplotlib.text.Text at 0x11cc3df50>"
      ]
     },
     "execution_count": 277,
     "metadata": {},
     "output_type": "execute_result"
    },
    {
     "data": {
      "image/png": "[encoded data removed]",
      "text/plain": [
       "<matplotlib.figure.Figure at 0x11bf938d0>"
      ]
     },
     "metadata": {},
     "output_type": "display_data"
    }
   ],
   "source": [
    "\n",
    "X = finalJoin[[\"Q1\", \"Q2\", \"Q3\", \"Q4\", \"Average Bottle Volume\", \"Average Bottle Price\"]]\n",
    "y = finalJoin[\"Log Bottles Sold\"]\n",
    "\n",
    "model = sm.OLS(y, X).fit()\n",
    "predictions = model.predict(X)\n",
    "print model.summary()\n",
    "plt.scatter(predictions, y)\n",
    "plt.plot(y, y)\n",
    "plt.xlabel(\"Predicted Bottles Sold\")\n",
    "plt.ylabel(\"Actual Bottles Sold\")\n",
    "plt.title(\"Predicted vs Actual Bottles Sold\")"
   ]
  },
  {
   "cell_type": "markdown",
   "metadata": {},
   "source": [
    "## Model 3: Test/Train/Split\n",
    "\n",
    "In the following model, I use the variables from models 1 and 2 with a 50% training sample. This model uses Ridge normalization."
   ]
  },
  {
   "cell_type": "code",
   "execution_count": 342,
   "metadata": {
    "collapsed": false,
    "scrolled": true
   },
   "outputs": [
    {
     "name": "stdout",
     "output_type": "stream",
     "text": [
      "Sample: 0.588893722456\n",
      "All data with sample model: 0.544967600413\n"
     ]
    }
   ],
   "source": [
    "subset = finalJoin.sample(frac=0.5, replace=False)\n",
    "\n",
    "xs = subset[[\"Q1\", \"Q2\", \"Q3\", \"Q4\", \"Average Bottle Volume\", \"Average Bottle Price\"]]\n",
    "ys = subset[\"Log Bottles Sold\"]\n",
    "\n",
    "lm = linear_model.RidgeCV()\n",
    "modelTTS = lm.fit(xs, ys)\n",
    "predictionsTTS = modelTTS.predict(xs)\n",
    "print \"Sample:\", modelTTS.score(xs, ys)\n",
    "\n",
    "#apply to whole dataset\n",
    "x_whole = finalJoin[[\"Q1\", \"Q2\", \"Q3\", \"Q4\", \"Average Bottle Volume\", \"Average Bottle Price\"]]\n",
    "y_whole = finalJoin[\"Log Bottles Sold\"]\n",
    "print \"All data with sample model:\", modelTTS.score(x_whole, y_whole)\n",
    "\n"
   ]
  },
  {
   "cell_type": "code",
   "execution_count": 377,
   "metadata": {
    "collapsed": false
   },
   "outputs": [
    {
     "data": {
      "text/plain": [
       "array([ 11.24972829,  10.91344823,  10.7615761 ,  10.56445527,\n",
       "        13.28937462,   9.62753164,  10.55383928,  12.14275614,\n",
       "        10.40869952,  11.29205802,  11.53916299,   9.97114322,\n",
       "        11.98851976,  10.01318947,  10.25493547,  10.86104628,\n",
       "        10.89430136,  10.21631885,  12.31086471,  12.14369294,\n",
       "        11.94673813,  12.30956963,  10.70198391,  11.56277242,\n",
       "        10.85536867,  12.11001748,  12.31800109,  11.11623399,\n",
       "         9.57308033,  12.26427637,  12.2612235 ,  11.33070752,\n",
       "         9.99074765,   9.74917392,  10.98461009,  10.72019512,\n",
       "        12.08869441,  10.95405449,  11.77150252,  10.92282457,\n",
       "        11.95927189,  10.69821356,  11.36485696,  11.45323275,\n",
       "        10.81278239,  12.63612157,  11.65936295,  10.1998013 ,\n",
       "        10.3317311 ,  12.19525037])"
      ]
     },
     "execution_count": 377,
     "metadata": {},
     "output_type": "execute_result"
    }
   ],
   "source": [
    "predictionsTTS"
   ]
  },
  {
   "cell_type": "markdown",
   "metadata": {},
   "source": [
    "## Model 4\n",
    "\n",
    "Models 1-3 used clusters of counties to make the models more human-readable. This model uses dummy variables for each county name to improve model accuracy, at the expense of readability. All other variables form previous models are used. "
   ]
  },
  {
   "cell_type": "code",
   "execution_count": 374,
   "metadata": {
    "collapsed": false,
    "scrolled": true
   },
   "outputs": [
    {
     "name": "stdout",
     "output_type": "stream",
     "text": [
      "Sample: 0.995473336373\n",
      "All data with sample model: 0.697111921163\n"
     ]
    }
   ],
   "source": [
    "subset4 = finalJoin2.sample(frac=0.5, replace=False)\n",
    "\n",
    "xs4 = subset4[['Adair', 'Adams', 'Allamakee', 'Appanoose', 'Audubon', 'Benton', \n",
    "               'Black Hawk', 'Boone', 'Bremer', 'Buchanan', 'Buena Vista', 'Butler', \n",
    "               'Calhoun', 'Carroll', 'Cass', 'Cedar','Cerro Gordo', 'Cherokee', 'Chickasaw', \n",
    "               'Clarke', 'Clay', 'Clayton', 'Clinton', 'Crawford', 'Dallas', 'Davis', \n",
    "               'Decatur', 'Delaware', 'Des Moines', 'Dickinson', 'Dubuque', 'Emmet', \n",
    "               'Fayette', 'Floyd', 'Franklin', 'Fremont', 'Greene', 'Grundy', 'Guthrie', \n",
    "               'Hamilton', 'Hancock', 'Hardin', 'Harrison', 'Henry', 'Howard', 'Humboldt', \n",
    "               'Ida', 'Iowa', 'Jackson', 'Jasper', 'Jefferson', 'Johnson', 'Jones', 'Keokuk', \n",
    "               'Kossuth', 'Lee', 'Linn', 'Louisa', 'Lucas', 'Lyon', 'Madison', 'Mahaska', \n",
    "               'Marion', 'Marshall', 'Mills', 'Mitchell', 'Monona', 'Monroe', 'Montgomery', \n",
    "               'Muscatine', \"O'Brien\", 'Osceola', 'Page', 'Palo Alto', 'Plymouth', 'Pocahontas', \n",
    "               'Polk', 'Pottawattamie', 'Poweshiek', 'Ringgold', 'Sac', 'Scott', 'Shelby', 'Sioux', \n",
    "               'Story', 'Tama', 'Taylor', 'Union', 'Van Buren', 'Wapello', 'Warren', 'Washington', \n",
    "               'Wayne', 'Webster', 'Winnebago', 'Winneshiek', 'Woodbury', 'Worth', 'Wright', \n",
    "               \"Average Bottle Volume\", \"Average Bottle Price\"]]\n",
    "ys4 = subset4[\"Log Bottles Sold\"]\n",
    "\n",
    "lm4 = linear_model.RidgeCV()\n",
    "model4 = lm4.fit(xs4, ys4)\n",
    "predictions4 = model4.predict(xs4)\n",
    "print \"Sample:\", model4.score(xs4, ys4)\n",
    "\n",
    "#apply to whole dataset\n",
    "x_whole4 = finalJoin2[['Adair', 'Adams', 'Allamakee', 'Appanoose', 'Audubon', 'Benton', \n",
    "               'Black Hawk', 'Boone', 'Bremer', 'Buchanan', 'Buena Vista', 'Butler', \n",
    "               'Calhoun', 'Carroll', 'Cass', 'Cedar','Cerro Gordo', 'Cherokee', 'Chickasaw', \n",
    "               'Clarke', 'Clay', 'Clayton', 'Clinton', 'Crawford', 'Dallas', 'Davis', \n",
    "               'Decatur', 'Delaware', 'Des Moines', 'Dickinson', 'Dubuque', 'Emmet', \n",
    "               'Fayette', 'Floyd', 'Franklin', 'Fremont', 'Greene', 'Grundy', 'Guthrie', \n",
    "               'Hamilton', 'Hancock', 'Hardin', 'Harrison', 'Henry', 'Howard', 'Humboldt', \n",
    "               'Ida', 'Iowa', 'Jackson', 'Jasper', 'Jefferson', 'Johnson', 'Jones', 'Keokuk', \n",
    "               'Kossuth', 'Lee', 'Linn', 'Louisa', 'Lucas', 'Lyon', 'Madison', 'Mahaska', \n",
    "               'Marion', 'Marshall', 'Mills', 'Mitchell', 'Monona', 'Monroe', 'Montgomery', \n",
    "               'Muscatine', \"O'Brien\", 'Osceola', 'Page', 'Palo Alto', 'Plymouth', 'Pocahontas', \n",
    "               'Polk', 'Pottawattamie', 'Poweshiek', 'Ringgold', 'Sac', 'Scott', 'Shelby', 'Sioux', \n",
    "               'Story', 'Tama', 'Taylor', 'Union', 'Van Buren', 'Wapello', 'Warren', 'Washington', \n",
    "               'Wayne', 'Webster', 'Winnebago', 'Winneshiek', 'Woodbury', 'Worth', 'Wright', \n",
    "               \"Average Bottle Volume\", \"Average Bottle Price\"]]\n",
    "y_whole4 = finalJoin2[\"Log Bottles Sold\"]\n",
    "print \"All data with sample model:\", model4.score(x_whole4, y_whole4)"
   ]
  },
  {
   "cell_type": "markdown",
   "metadata": {},
   "source": [
    "## Model 4 results\n",
    "\n",
    "Model 4 is more accurate than previous models, with a final r-squared in the area of 0.7. However, the large difference between the training model and the full model suggest that there is a fairly severe over-fit problem. "
   ]
  },
  {
   "cell_type": "markdown",
   "metadata": {},
   "source": [
    "## Plot your results\n",
    "\n",
    "Again make sure that you record any valuable information. For example, in the tax scenario, did you find the sales from the first three months of the year to be a good predictor of the total sales for the year? Plot the predictions versus the true values and discuss the successes and limitations of your models"
   ]
  },
  {
   "cell_type": "code",
   "execution_count": null,
   "metadata": {
    "collapsed": true
   },
   "outputs": [],
   "source": []
  },
  {
   "cell_type": "markdown",
   "metadata": {},
   "source": [
    "# Present the Results\n",
    "\n",
    "Present your conclusions and results. If you have more than one interesting model feel free to include more than one along with a discussion. Use your work in this notebook to prepare your write-up."
   ]
  },
  {
   "cell_type": "markdown",
   "metadata": {
    "collapsed": true
   },
   "source": [
    "## Conclusions\n",
    "\n",
    "Of the four models, models 3 and 4 are the best. Although model 4 has a higher r-squared than model 3 (and is therefore better at predicting bottles sold), model 3 has a more appropriate level of fit. \n",
    "\n",
    "The best locations for a new liquor store are the 25 counties that have the highest average earnings per store. Adding an additional store in one of these locations will likely yield a higher average profit and a higher number of bottles sold than the other counties. The top 10 counties recommended by this model are: Polk, Linn, Scott, Black HAwk, Johnson, Pottawattamie, Woodbury, Duboque, Story, and Cerro Gordo. \n",
    "State-wide, the top selling liquors are: Black Velvet, Hawkeye Vodka, Captain Morgan Spiced Rum, Five O’clock Vodka, Fireball Cinnamon Whiskey, Jack Daniels Old #7 Black Label, Barton Vodka, McCormick Vodka Pet, Smirnoff Vodka 90 Proof, Absolut Swedish Vodka 80 Proof. Black Velvet is the most popular by a wide margin, with nearly a half-million more bottles sold than the next most popular. \n",
    "The average bottles sold per store and annual earnings per store for the top quartile counties are: 21959 and $99121, respectively. These are the recommended sales targets to be competitive in the top-selling locations. \n"
   ]
  },
  {
   "cell_type": "markdown",
   "metadata": {},
   "source": [
    "## Future Directions\n",
    "\n",
    "This model could be improved by additional data. Population at the county, city, or zip code level would help predict the size of the potential market in an area. Other demographic information could also be useful, including age, education, income, religiosity, etc. \n",
    "This analysis could be repeated on the current dataset at higher resolution--either at the city or zip code level. This could concievably (but not necessarily) improve model accuracy.\n",
    "\n",
    "With additional data, a similar dataset could be used for many more analyses. \n",
    "- With population data, the average level of drinking per person could be computed on the regional level. This could be used to estimate rates of problem drinking, or of the health consequences associated with alcohol consumption.\n",
    "- Spikes in alcohol sales could be compared to the dates of important events for high school students, such as graduation or prom. This could help direct efforts to curb teenage drinking, and prevent accidents.\n",
    "- Similarly, sales of alcohol types that are popular among teenagers (e.g. Joose) could be used to predict areas where teenage drinking is highest.\n",
    "- It may be possible to predict retailers who are not in compliance with laws on sales reporting or taxes. If certain stores report lower sales than would be predicted by a good model, it may mean that they are not following the law.\n",
    "- Marketing efforts could be improved by determining what days of the week have higher alcohol sales, or what types of alcohol are more popular at different times of the year. For example, tequila sales may go up on May 4th, Champagne on December 30th, and cheep beer before the world series. \n"
   ]
  },
  {
   "cell_type": "markdown",
   "metadata": {},
   "source": [
    "## Executive Summary\n",
    "\n",
    "The purpose of this analysis is to build a model for predicting the number of bottles of liquor sold in a county, in order to inform the placement and strategy for a new store. The attached models are able to predict between 50% and 70% of the variation in number of bottles sold annually. \n",
    "The four major findings of this model are:\n",
    "- The best locations for a new store are in Polk, Linn, Scott, Black Hawk, and Johnson Counties.\n",
    "- Counties that have higher sales also support higher average bottle price. \n",
    "- Small bottles are sold more frequently than large bottles.\n",
    "- The most popular liquors are Black Velvet, Hawkeye Vodka, Captain Morgan Spiced Rum, Five O'clock Vodka, and Fireball Cinnamon Whiskey. \n",
    "\n",
    "Target sales are 21959 bottles and $99121 anually. These are the recommended sales targets to be competitive in the top-selling locations. \n",
    "\n"
   ]
  },
  {
   "cell_type": "code",
   "execution_count": null,
   "metadata": {
    "collapsed": true
   },
   "outputs": [],
   "source": []
  }
 ],
 "metadata": {
  "anaconda-cloud": {},
  "kernelspec": {
   "display_name": "Python [Root]",
   "language": "python",
   "name": "Python [Root]"
  },
  "language_info": {
   "codemirror_mode": {
    "name": "ipython",
    "version": 2
   },
   "file_extension": ".py",
   "mimetype": "text/x-python",
   "name": "python",
   "nbconvert_exporter": "python",
   "pygments_lexer": "ipython2",
   "version": "2.7.12"
  }
 },
 "nbformat": 4,
 "nbformat_minor": 0
}
